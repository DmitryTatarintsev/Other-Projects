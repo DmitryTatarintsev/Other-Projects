{
 "cells": [
  {
   "cell_type": "markdown",
   "id": "a1738739",
   "metadata": {},
   "source": [
    "<div style=\"border:solid green 2px; padding: 20px\">\n",
    "<b>Комментарий ревьюера v1:</b>\n",
    "    \n",
    "<b>Общее впечатление:</b> \n",
    "    \n",
    "- У тебя получилась отличная работа, поздравляю! Очень чистый код и структурированный подход к решению задачи. \n",
    "- Осталось исправить совсем чуть-чуть для сдачи проекта (буду также рад исправлениям желтых:):\n",
    "    - Поправить пути файлов.\n",
    "    - Поправить объединение таблиц.\n",
    "    \n",
    "Буду ждать новую версию на повторную проверку. Успехов!\n",
    "    \n",
    "</div>"
   ]
  },
  {
   "cell_type": "markdown",
   "id": "c9fbfda3",
   "metadata": {},
   "source": [
    "<div class=\"alert alert-info\"> <b>Комментарий студента:</b> Привет, Дмитрий!</div>"
   ]
  },
  {
   "cell_type": "markdown",
   "id": "57d45135",
   "metadata": {},
   "source": [
    "<div style=\"border:solid green 2px; padding: 20px\">\n",
    "<b>Комментарий ревьюера v2:</b>\n",
    "    \n",
    "Дмитрий привет!  Очень рад, что нашел силы и время внести улучшения в свой проект!\n",
    "    \n",
    "Было интересно его проверять и осталось только пожелать тебе успехов на следующих спринтах 🍀\n",
    "    \n",
    "\n",
    "PS: Если наскучит ~~нетфликс~~ кинопоискHD, то могу порекомендовать крутые лекции по стат анализу тут: - https://www.youtube.com/watch?v=enpPFqcIFj8&list=PLlb7e2G7aSpRb95_Wi7lZ-zA6fOjV3_l7\n",
    " \n",
    "    \n",
    "</div>"
   ]
  },
  {
   "cell_type": "markdown",
   "id": "2fbfd42f-e61d-4a02-a495-d0964744c2d3",
   "metadata": {
    "tags": []
   },
   "source": [
    "# Рекламный бюджет. Описание проекта"
   ]
  },
  {
   "cell_type": "markdown",
   "id": "c8ebf0e4-c18a-4a16-95c6-e8d76520fa49",
   "metadata": {},
   "source": [
    "Нужно проанализировать поведение клиентов и сделать вывод — какой тариф лучше."
   ]
  },
  {
   "cell_type": "markdown",
   "id": "5b2042e2-c3e7-436d-ab0e-48fed98f9f40",
   "metadata": {
    "tags": []
   },
   "source": [
    "**Описание тарифов**\n",
    "\n",
    "**Тариф «Смарт»**\n",
    "- Ежемесячная плата: 550 рублей\n",
    "- Включено 500 минут разговора, 50 сообщений и 15 Гб интернет-трафика\n",
    "- Стоимость услуг сверх тарифного пакета:\n",
    "- - минута разговора: 3 рубля\n",
    "- - сообщение: 3 рубля\n",
    "- - 1 Гб интернет-трафика: 200 рублей\n",
    "\n",
    "**Тариф «Ультра»**\n",
    "- Ежемесячная плата: 1950 рублей\n",
    "- Включено 3000 минут разговора, 1000 сообщений и 30 Гб интернет-трафика\n",
    "- Стоимость услуг сверх тарифного пакета:\n",
    "- - минута разговора: 1 рубль\n",
    "- - сообщение: 1 рубль\n",
    "- - 1 Гб интернет-трафика: 150 рублей"
   ]
  },
  {
   "cell_type": "markdown",
   "id": "d642665d-41ef-4f9f-bae5-54b28ae690db",
   "metadata": {
    "tags": []
   },
   "source": [
    "**Примечание**\n",
    "\n",
    "Компания всегда округляет секунды до минут, а мегабайты — до гигабайт. Каждый звонок округляется отдельно: даже если он длился всего 1 секунду, будет засчитан как 1 минута.\n",
    "Для веб-трафика отдельные сессии не считаются. Вместо этого общая сумма за месяц округляется в бо́льшую сторону. Если абонент использует 1025 мегабайт в этом месяце, с него возьмут плату за 2 гигабайта."
   ]
  },
  {
   "cell_type": "markdown",
   "id": "f2477251-6f74-4f78-b2bf-c00dcb989f19",
   "metadata": {
    "tags": []
   },
   "source": [
    "## Описание данных\n",
    "### Таблица users (информация о пользователях):\n",
    "- `user_id` — уникальный идентификатор пользователя\n",
    "- `first_name` — имя пользователя\n",
    "- `last_name` — фамилия пользователя\n",
    "- `age` — возраст пользователя (годы)\n",
    "- `reg_date` — дата подключения тарифа (день, месяц, год)\n",
    "- `churn_date` — дата прекращения пользования тарифом (если значение пропущено, то тариф ещё действовал на момент выгрузки данных)\n",
    "- `city` — город проживания пользователя\n",
    "- `tariff` — название тарифного плана\n",
    "### Таблица calls (информация о звонках):\n",
    "- `id` — уникальный номер звонка\n",
    "- `call_date` — дата звонка\n",
    "- `duration` — длительность звонка в минутах\n",
    "- `user_id` — идентификатор пользователя, сделавшего звонок\n",
    "### Таблица messages (информация о сообщениях):\n",
    "- `id` — уникальный номер сообщения\n",
    "- `message_date` — дата сообщения\n",
    "- `user_id` — идентификатор пользователя, отправившего сообщение\n",
    "### Таблица internet (информация об интернет-сессиях):\n",
    "- `id` — уникальный номер сессии\n",
    "- `mb_used` — объём потраченного за сессию интернет-трафика (в мегабайтах)\n",
    "- `session_date` — дата интернет-сессии\n",
    "- `user_id` — идентификатор пользователя\n",
    "### Таблица tariffs (информация о тарифах):\n",
    "- `tariff_name` — название тарифа\n",
    "- `rub_monthly_fee` — ежемесячная абонентская плата в рублях\n",
    "- `minutes_included` — количество минут разговора в месяц, включённых в абонентскую плату\n",
    "- `messages_included` — количество сообщений в месяц, включённых в абонентскую плату\n",
    "- `mb_per_month_included` — объём интернет-трафика, включённого в абонентскую плату (в мегабайтах)\n",
    "- `rub_per_minute` — стоимость минуты разговора сверх тарифного пакета (например, если в тарифе 100 минут разговора в месяц, то со 101 минуты будет взиматься плата)\n",
    "- `rub_per_message` — стоимость отправки сообщения сверх тарифного пакета\n",
    "- `rub_per_gb` — стоимость дополнительного гигабайта интернет-трафика сверх тарифного пакета (1 гигабайт = 1024 мегабайта)"
   ]
  },
  {
   "cell_type": "markdown",
   "id": "09c4329b-6758-4f12-b5c3-7e02ef2ffd38",
   "metadata": {
    "tags": []
   },
   "source": [
    "# Обзор данных"
   ]
  },
  {
   "cell_type": "markdown",
   "id": "f86bceeb-987a-4b41-9d82-e25c12d4699e",
   "metadata": {
    "tags": []
   },
   "source": [
    "### Импорт данных"
   ]
  },
  {
   "cell_type": "markdown",
   "id": "4a7a0a7b-6199-425a-9749-0e7d72b2ee40",
   "metadata": {
    "tags": []
   },
   "source": [
    "Откроем файлы с данными и изучим общую информацию."
   ]
  },
  {
   "cell_type": "code",
   "execution_count": 2748,
   "id": "1ea0a227-4d12-4d74-aab2-e67ee99fbd7d",
   "metadata": {
    "tags": []
   },
   "outputs": [],
   "source": [
    "import numpy as np\n",
    "import math\n",
    "import matplotlib.pyplot as plt\n",
    "import matplotlib\n",
    "import pandas as pd\n",
    "\n",
    "from scipy import stats as st\n",
    "from datetime import date\n"
   ]
  },
  {
   "cell_type": "markdown",
   "id": "5595ef01-5558-43f5-8ce0-0f4e353b3cf4",
   "metadata": {
    "tags": []
   },
   "source": [
    "### Обзор данных по таблицам"
   ]
  },
  {
   "cell_type": "code",
   "execution_count": 2750,
   "id": "3323325b-aa4d-426f-9560-d736aa594b73",
   "metadata": {
    "scrolled": true,
    "tags": []
   },
   "outputs": [
    {
     "name": "stdout",
     "output_type": "stream",
     "text": [
      "\n",
      "---------------------------- df_calls ----------------------------\n",
      "<class 'pandas.core.frame.DataFrame'>\n",
      "RangeIndex: 202607 entries, 0 to 202606\n",
      "Data columns (total 4 columns):\n",
      " #   Column     Non-Null Count   Dtype  \n",
      "---  ------     --------------   -----  \n",
      " 0   id         202607 non-null  object \n",
      " 1   call_date  202607 non-null  object \n",
      " 2   duration   202607 non-null  float64\n",
      " 3   user_id    202607 non-null  int64  \n",
      "dtypes: float64(1), int64(1), object(2)\n",
      "memory usage: 6.2+ MB\n"
     ]
    },
    {
     "data": {
      "text/html": [
       "<div>\n",
       "<style scoped>\n",
       "    .dataframe tbody tr th:only-of-type {\n",
       "        vertical-align: middle;\n",
       "    }\n",
       "\n",
       "    .dataframe tbody tr th {\n",
       "        vertical-align: top;\n",
       "    }\n",
       "\n",
       "    .dataframe thead th {\n",
       "        text-align: right;\n",
       "    }\n",
       "</style>\n",
       "<table border=\"1\" class=\"dataframe\">\n",
       "  <thead>\n",
       "    <tr style=\"text-align: right;\">\n",
       "      <th></th>\n",
       "      <th>id</th>\n",
       "      <th>call_date</th>\n",
       "      <th>duration</th>\n",
       "      <th>user_id</th>\n",
       "    </tr>\n",
       "  </thead>\n",
       "  <tbody>\n",
       "    <tr>\n",
       "      <th>0</th>\n",
       "      <td>1000_0</td>\n",
       "      <td>2018-07-25</td>\n",
       "      <td>0.00</td>\n",
       "      <td>1000</td>\n",
       "    </tr>\n",
       "    <tr>\n",
       "      <th>1</th>\n",
       "      <td>1000_1</td>\n",
       "      <td>2018-08-17</td>\n",
       "      <td>0.00</td>\n",
       "      <td>1000</td>\n",
       "    </tr>\n",
       "    <tr>\n",
       "      <th>2</th>\n",
       "      <td>1000_2</td>\n",
       "      <td>2018-06-11</td>\n",
       "      <td>2.85</td>\n",
       "      <td>1000</td>\n",
       "    </tr>\n",
       "    <tr>\n",
       "      <th>3</th>\n",
       "      <td>1000_3</td>\n",
       "      <td>2018-09-21</td>\n",
       "      <td>13.80</td>\n",
       "      <td>1000</td>\n",
       "    </tr>\n",
       "    <tr>\n",
       "      <th>4</th>\n",
       "      <td>1000_4</td>\n",
       "      <td>2018-12-15</td>\n",
       "      <td>5.18</td>\n",
       "      <td>1000</td>\n",
       "    </tr>\n",
       "  </tbody>\n",
       "</table>\n",
       "</div>"
      ],
      "text/plain": [
       "       id   call_date  duration  user_id\n",
       "0  1000_0  2018-07-25      0.00     1000\n",
       "1  1000_1  2018-08-17      0.00     1000\n",
       "2  1000_2  2018-06-11      2.85     1000\n",
       "3  1000_3  2018-09-21     13.80     1000\n",
       "4  1000_4  2018-12-15      5.18     1000"
      ]
     },
     "metadata": {},
     "output_type": "display_data"
    },
    {
     "name": "stdout",
     "output_type": "stream",
     "text": [
      "\n",
      "\n",
      "\n",
      "---------------------------- df_internet ----------------------------\n",
      "<class 'pandas.core.frame.DataFrame'>\n",
      "RangeIndex: 149396 entries, 0 to 149395\n",
      "Data columns (total 5 columns):\n",
      " #   Column        Non-Null Count   Dtype  \n",
      "---  ------        --------------   -----  \n",
      " 0   Unnamed: 0    149396 non-null  int64  \n",
      " 1   id            149396 non-null  object \n",
      " 2   mb_used       149396 non-null  float64\n",
      " 3   session_date  149396 non-null  object \n",
      " 4   user_id       149396 non-null  int64  \n",
      "dtypes: float64(1), int64(2), object(2)\n",
      "memory usage: 5.7+ MB\n"
     ]
    },
    {
     "data": {
      "text/html": [
       "<div>\n",
       "<style scoped>\n",
       "    .dataframe tbody tr th:only-of-type {\n",
       "        vertical-align: middle;\n",
       "    }\n",
       "\n",
       "    .dataframe tbody tr th {\n",
       "        vertical-align: top;\n",
       "    }\n",
       "\n",
       "    .dataframe thead th {\n",
       "        text-align: right;\n",
       "    }\n",
       "</style>\n",
       "<table border=\"1\" class=\"dataframe\">\n",
       "  <thead>\n",
       "    <tr style=\"text-align: right;\">\n",
       "      <th></th>\n",
       "      <th>Unnamed: 0</th>\n",
       "      <th>id</th>\n",
       "      <th>mb_used</th>\n",
       "      <th>session_date</th>\n",
       "      <th>user_id</th>\n",
       "    </tr>\n",
       "  </thead>\n",
       "  <tbody>\n",
       "    <tr>\n",
       "      <th>0</th>\n",
       "      <td>0</td>\n",
       "      <td>1000_0</td>\n",
       "      <td>112.95</td>\n",
       "      <td>2018-11-25</td>\n",
       "      <td>1000</td>\n",
       "    </tr>\n",
       "    <tr>\n",
       "      <th>1</th>\n",
       "      <td>1</td>\n",
       "      <td>1000_1</td>\n",
       "      <td>1052.81</td>\n",
       "      <td>2018-09-07</td>\n",
       "      <td>1000</td>\n",
       "    </tr>\n",
       "    <tr>\n",
       "      <th>2</th>\n",
       "      <td>2</td>\n",
       "      <td>1000_2</td>\n",
       "      <td>1197.26</td>\n",
       "      <td>2018-06-25</td>\n",
       "      <td>1000</td>\n",
       "    </tr>\n",
       "    <tr>\n",
       "      <th>3</th>\n",
       "      <td>3</td>\n",
       "      <td>1000_3</td>\n",
       "      <td>550.27</td>\n",
       "      <td>2018-08-22</td>\n",
       "      <td>1000</td>\n",
       "    </tr>\n",
       "    <tr>\n",
       "      <th>4</th>\n",
       "      <td>4</td>\n",
       "      <td>1000_4</td>\n",
       "      <td>302.56</td>\n",
       "      <td>2018-09-24</td>\n",
       "      <td>1000</td>\n",
       "    </tr>\n",
       "  </tbody>\n",
       "</table>\n",
       "</div>"
      ],
      "text/plain": [
       "   Unnamed: 0      id  mb_used session_date  user_id\n",
       "0           0  1000_0   112.95   2018-11-25     1000\n",
       "1           1  1000_1  1052.81   2018-09-07     1000\n",
       "2           2  1000_2  1197.26   2018-06-25     1000\n",
       "3           3  1000_3   550.27   2018-08-22     1000\n",
       "4           4  1000_4   302.56   2018-09-24     1000"
      ]
     },
     "metadata": {},
     "output_type": "display_data"
    },
    {
     "name": "stdout",
     "output_type": "stream",
     "text": [
      "\n",
      "\n",
      "\n",
      "---------------------------- df_messages ----------------------------\n",
      "<class 'pandas.core.frame.DataFrame'>\n",
      "RangeIndex: 123036 entries, 0 to 123035\n",
      "Data columns (total 3 columns):\n",
      " #   Column        Non-Null Count   Dtype \n",
      "---  ------        --------------   ----- \n",
      " 0   id            123036 non-null  object\n",
      " 1   message_date  123036 non-null  object\n",
      " 2   user_id       123036 non-null  int64 \n",
      "dtypes: int64(1), object(2)\n",
      "memory usage: 2.8+ MB\n"
     ]
    },
    {
     "data": {
      "text/html": [
       "<div>\n",
       "<style scoped>\n",
       "    .dataframe tbody tr th:only-of-type {\n",
       "        vertical-align: middle;\n",
       "    }\n",
       "\n",
       "    .dataframe tbody tr th {\n",
       "        vertical-align: top;\n",
       "    }\n",
       "\n",
       "    .dataframe thead th {\n",
       "        text-align: right;\n",
       "    }\n",
       "</style>\n",
       "<table border=\"1\" class=\"dataframe\">\n",
       "  <thead>\n",
       "    <tr style=\"text-align: right;\">\n",
       "      <th></th>\n",
       "      <th>id</th>\n",
       "      <th>message_date</th>\n",
       "      <th>user_id</th>\n",
       "    </tr>\n",
       "  </thead>\n",
       "  <tbody>\n",
       "    <tr>\n",
       "      <th>0</th>\n",
       "      <td>1000_0</td>\n",
       "      <td>2018-06-27</td>\n",
       "      <td>1000</td>\n",
       "    </tr>\n",
       "    <tr>\n",
       "      <th>1</th>\n",
       "      <td>1000_1</td>\n",
       "      <td>2018-10-08</td>\n",
       "      <td>1000</td>\n",
       "    </tr>\n",
       "    <tr>\n",
       "      <th>2</th>\n",
       "      <td>1000_2</td>\n",
       "      <td>2018-08-04</td>\n",
       "      <td>1000</td>\n",
       "    </tr>\n",
       "    <tr>\n",
       "      <th>3</th>\n",
       "      <td>1000_3</td>\n",
       "      <td>2018-06-16</td>\n",
       "      <td>1000</td>\n",
       "    </tr>\n",
       "    <tr>\n",
       "      <th>4</th>\n",
       "      <td>1000_4</td>\n",
       "      <td>2018-12-05</td>\n",
       "      <td>1000</td>\n",
       "    </tr>\n",
       "  </tbody>\n",
       "</table>\n",
       "</div>"
      ],
      "text/plain": [
       "       id message_date  user_id\n",
       "0  1000_0   2018-06-27     1000\n",
       "1  1000_1   2018-10-08     1000\n",
       "2  1000_2   2018-08-04     1000\n",
       "3  1000_3   2018-06-16     1000\n",
       "4  1000_4   2018-12-05     1000"
      ]
     },
     "metadata": {},
     "output_type": "display_data"
    },
    {
     "name": "stdout",
     "output_type": "stream",
     "text": [
      "\n",
      "\n",
      "\n",
      "---------------------------- df_users ----------------------------\n",
      "<class 'pandas.core.frame.DataFrame'>\n",
      "RangeIndex: 500 entries, 0 to 499\n",
      "Data columns (total 8 columns):\n",
      " #   Column      Non-Null Count  Dtype \n",
      "---  ------      --------------  ----- \n",
      " 0   user_id     500 non-null    int64 \n",
      " 1   age         500 non-null    int64 \n",
      " 2   churn_date  38 non-null     object\n",
      " 3   city        500 non-null    object\n",
      " 4   first_name  500 non-null    object\n",
      " 5   last_name   500 non-null    object\n",
      " 6   reg_date    500 non-null    object\n",
      " 7   tariff      500 non-null    object\n",
      "dtypes: int64(2), object(6)\n",
      "memory usage: 31.4+ KB\n"
     ]
    },
    {
     "data": {
      "text/html": [
       "<div>\n",
       "<style scoped>\n",
       "    .dataframe tbody tr th:only-of-type {\n",
       "        vertical-align: middle;\n",
       "    }\n",
       "\n",
       "    .dataframe tbody tr th {\n",
       "        vertical-align: top;\n",
       "    }\n",
       "\n",
       "    .dataframe thead th {\n",
       "        text-align: right;\n",
       "    }\n",
       "</style>\n",
       "<table border=\"1\" class=\"dataframe\">\n",
       "  <thead>\n",
       "    <tr style=\"text-align: right;\">\n",
       "      <th></th>\n",
       "      <th>user_id</th>\n",
       "      <th>age</th>\n",
       "      <th>churn_date</th>\n",
       "      <th>city</th>\n",
       "      <th>first_name</th>\n",
       "      <th>last_name</th>\n",
       "      <th>reg_date</th>\n",
       "      <th>tariff</th>\n",
       "    </tr>\n",
       "  </thead>\n",
       "  <tbody>\n",
       "    <tr>\n",
       "      <th>0</th>\n",
       "      <td>1000</td>\n",
       "      <td>52</td>\n",
       "      <td>NaN</td>\n",
       "      <td>Краснодар</td>\n",
       "      <td>Рафаил</td>\n",
       "      <td>Верещагин</td>\n",
       "      <td>2018-05-25</td>\n",
       "      <td>ultra</td>\n",
       "    </tr>\n",
       "    <tr>\n",
       "      <th>1</th>\n",
       "      <td>1001</td>\n",
       "      <td>41</td>\n",
       "      <td>NaN</td>\n",
       "      <td>Москва</td>\n",
       "      <td>Иван</td>\n",
       "      <td>Ежов</td>\n",
       "      <td>2018-11-01</td>\n",
       "      <td>smart</td>\n",
       "    </tr>\n",
       "    <tr>\n",
       "      <th>2</th>\n",
       "      <td>1002</td>\n",
       "      <td>59</td>\n",
       "      <td>NaN</td>\n",
       "      <td>Стерлитамак</td>\n",
       "      <td>Евгений</td>\n",
       "      <td>Абрамович</td>\n",
       "      <td>2018-06-17</td>\n",
       "      <td>smart</td>\n",
       "    </tr>\n",
       "    <tr>\n",
       "      <th>3</th>\n",
       "      <td>1003</td>\n",
       "      <td>23</td>\n",
       "      <td>NaN</td>\n",
       "      <td>Москва</td>\n",
       "      <td>Белла</td>\n",
       "      <td>Белякова</td>\n",
       "      <td>2018-08-17</td>\n",
       "      <td>ultra</td>\n",
       "    </tr>\n",
       "    <tr>\n",
       "      <th>4</th>\n",
       "      <td>1004</td>\n",
       "      <td>68</td>\n",
       "      <td>NaN</td>\n",
       "      <td>Новокузнецк</td>\n",
       "      <td>Татьяна</td>\n",
       "      <td>Авдеенко</td>\n",
       "      <td>2018-05-14</td>\n",
       "      <td>ultra</td>\n",
       "    </tr>\n",
       "  </tbody>\n",
       "</table>\n",
       "</div>"
      ],
      "text/plain": [
       "   user_id  age churn_date         city first_name  last_name    reg_date  \\\n",
       "0     1000   52        NaN    Краснодар     Рафаил  Верещагин  2018-05-25   \n",
       "1     1001   41        NaN       Москва       Иван       Ежов  2018-11-01   \n",
       "2     1002   59        NaN  Стерлитамак    Евгений  Абрамович  2018-06-17   \n",
       "3     1003   23        NaN       Москва      Белла   Белякова  2018-08-17   \n",
       "4     1004   68        NaN  Новокузнецк    Татьяна   Авдеенко  2018-05-14   \n",
       "\n",
       "  tariff  \n",
       "0  ultra  \n",
       "1  smart  \n",
       "2  smart  \n",
       "3  ultra  \n",
       "4  ultra  "
      ]
     },
     "metadata": {},
     "output_type": "display_data"
    },
    {
     "name": "stdout",
     "output_type": "stream",
     "text": [
      "\n",
      "\n",
      "\n",
      "---------------------------- df_tariffs ----------------------------\n",
      "<class 'pandas.core.frame.DataFrame'>\n",
      "RangeIndex: 2 entries, 0 to 1\n",
      "Data columns (total 8 columns):\n",
      " #   Column                 Non-Null Count  Dtype \n",
      "---  ------                 --------------  ----- \n",
      " 0   messages_included      2 non-null      int64 \n",
      " 1   mb_per_month_included  2 non-null      int64 \n",
      " 2   minutes_included       2 non-null      int64 \n",
      " 3   rub_monthly_fee        2 non-null      int64 \n",
      " 4   rub_per_gb             2 non-null      int64 \n",
      " 5   rub_per_message        2 non-null      int64 \n",
      " 6   rub_per_minute         2 non-null      int64 \n",
      " 7   tariff_name            2 non-null      object\n",
      "dtypes: int64(7), object(1)\n",
      "memory usage: 256.0+ bytes\n"
     ]
    },
    {
     "data": {
      "text/html": [
       "<div>\n",
       "<style scoped>\n",
       "    .dataframe tbody tr th:only-of-type {\n",
       "        vertical-align: middle;\n",
       "    }\n",
       "\n",
       "    .dataframe tbody tr th {\n",
       "        vertical-align: top;\n",
       "    }\n",
       "\n",
       "    .dataframe thead th {\n",
       "        text-align: right;\n",
       "    }\n",
       "</style>\n",
       "<table border=\"1\" class=\"dataframe\">\n",
       "  <thead>\n",
       "    <tr style=\"text-align: right;\">\n",
       "      <th></th>\n",
       "      <th>messages_included</th>\n",
       "      <th>mb_per_month_included</th>\n",
       "      <th>minutes_included</th>\n",
       "      <th>rub_monthly_fee</th>\n",
       "      <th>rub_per_gb</th>\n",
       "      <th>rub_per_message</th>\n",
       "      <th>rub_per_minute</th>\n",
       "      <th>tariff_name</th>\n",
       "    </tr>\n",
       "  </thead>\n",
       "  <tbody>\n",
       "    <tr>\n",
       "      <th>0</th>\n",
       "      <td>50</td>\n",
       "      <td>15360</td>\n",
       "      <td>500</td>\n",
       "      <td>550</td>\n",
       "      <td>200</td>\n",
       "      <td>3</td>\n",
       "      <td>3</td>\n",
       "      <td>smart</td>\n",
       "    </tr>\n",
       "    <tr>\n",
       "      <th>1</th>\n",
       "      <td>1000</td>\n",
       "      <td>30720</td>\n",
       "      <td>3000</td>\n",
       "      <td>1950</td>\n",
       "      <td>150</td>\n",
       "      <td>1</td>\n",
       "      <td>1</td>\n",
       "      <td>ultra</td>\n",
       "    </tr>\n",
       "  </tbody>\n",
       "</table>\n",
       "</div>"
      ],
      "text/plain": [
       "   messages_included  mb_per_month_included  minutes_included  \\\n",
       "0                 50                  15360               500   \n",
       "1               1000                  30720              3000   \n",
       "\n",
       "   rub_monthly_fee  rub_per_gb  rub_per_message  rub_per_minute tariff_name  \n",
       "0              550         200                3               3       smart  \n",
       "1             1950         150                1               1       ultra  "
      ]
     },
     "metadata": {},
     "output_type": "display_data"
    },
    {
     "name": "stdout",
     "output_type": "stream",
     "text": [
      "\n",
      "\n"
     ]
    }
   ],
   "source": [
    "table_list = [df_calls, df_internet, df_messages, df_users, df_tariffs]\n",
    "table_name_list = ['df_calls', 'df_internet', 'df_messages', 'df_users', 'df_tariffs']\n",
    "for index in range(len(table_list)):\n",
    "    print()\n",
    "    print('----------------------------',table_name_list[index],'----------------------------')\n",
    "    table_list[index].info()\n",
    "    display(table_list[index].head())\n",
    "    print()\n",
    "    print()\n"
   ]
  },
  {
   "cell_type": "markdown",
   "id": "c313521c-6c59-4106-b063-0226a421ae87",
   "metadata": {
    "tags": []
   },
   "source": [
    "### Итог по обзору данных"
   ]
  },
  {
   "cell_type": "markdown",
   "id": "89ff854a-4402-4fb2-8b59-05822af8d7ed",
   "metadata": {
    "tags": []
   },
   "source": [
    "*Для исследования пользователей предоставлено 5 таблиц, каждая из которых имеет часть сведений о тарифах и пользователях. Данные в хорошем состоянии, без пропусков (за исключением churn_datechurn_date в df_users) При необходимости, некоторые из них можно объединить по id пользователей. Но для этого нужно будет учесть тип операции, тариф, разный обьем строк и уникальные столбцы.*"
   ]
  },
  {
   "cell_type": "markdown",
   "id": "b533cf8e-36f6-4d4b-b375-107e79943e1d",
   "metadata": {
    "tags": []
   },
   "source": [
    "# Предобработка данных"
   ]
  },
  {
   "cell_type": "markdown",
   "id": "2140780c-8a14-4231-9890-8424292a5cff",
   "metadata": {
    "tags": []
   },
   "source": [
    "## Приведение данных к нужным типам"
   ]
  },
  {
   "cell_type": "markdown",
   "id": "92ce2b1c-8a71-4af8-9103-03759a05f07b",
   "metadata": {
    "tags": []
   },
   "source": [
    "Мы будем вести расчет данных по месяцам. Следовательно, нам нужны столбцы в формате даты. Получить данные о месяцах. Приведем данные к нужным типам."
   ]
  },
  {
   "cell_type": "code",
   "execution_count": 2751,
   "id": "fe5e9a5f-bc5d-4ce4-8395-9d201cb9798d",
   "metadata": {
    "tags": []
   },
   "outputs": [],
   "source": [
    "# Предобработка дат из object в datetime64 методом to_datetime() Пример из таблицы: 2018-07-25\n",
    "df_calls.call_date = pd.to_datetime(df_calls.call_date, format='%Y-%m-%d').apply(lambda x: x.month)\n",
    "df_users.reg_date = pd.to_datetime(df_users.reg_date, format='%Y-%m-%d').apply(lambda x: x.month)\n",
    "df_internet.session_date = pd.to_datetime(df_internet.session_date, format='%Y-%m-%d').apply(lambda x: x.month)\n",
    "df_messages.message_date = pd.to_datetime(df_messages.message_date, format='%Y-%m-%d').apply(lambda x: x.month)\n",
    "df_users.churn_date = pd.to_datetime(df_users.churn_date, format='%Y-%m-%d').apply(lambda x: x.month)\n"
   ]
  },
  {
   "cell_type": "markdown",
   "id": "c2970103-d4e8-41ed-bb2c-04d386b028c8",
   "metadata": {
    "tags": []
   },
   "source": [
    "В примечании указано что расчет интернет трафика учитывается в гигабайтах. Исправим таблицу."
   ]
  },
  {
   "cell_type": "code",
   "execution_count": 2752,
   "id": "ef0fff5c-3099-45bc-b9d8-f5d5648cb6c7",
   "metadata": {
    "tags": []
   },
   "outputs": [
    {
     "data": {
      "text/html": [
       "<div>\n",
       "<style scoped>\n",
       "    .dataframe tbody tr th:only-of-type {\n",
       "        vertical-align: middle;\n",
       "    }\n",
       "\n",
       "    .dataframe tbody tr th {\n",
       "        vertical-align: top;\n",
       "    }\n",
       "\n",
       "    .dataframe thead th {\n",
       "        text-align: right;\n",
       "    }\n",
       "</style>\n",
       "<table border=\"1\" class=\"dataframe\">\n",
       "  <thead>\n",
       "    <tr style=\"text-align: right;\">\n",
       "      <th></th>\n",
       "      <th>messages_included</th>\n",
       "      <th>gb_per_month_included</th>\n",
       "      <th>minutes_included</th>\n",
       "      <th>rub_monthly_fee</th>\n",
       "      <th>rub_per_gb</th>\n",
       "      <th>rub_per_message</th>\n",
       "      <th>rub_per_minute</th>\n",
       "      <th>tariff</th>\n",
       "    </tr>\n",
       "  </thead>\n",
       "  <tbody>\n",
       "    <tr>\n",
       "      <th>0</th>\n",
       "      <td>50</td>\n",
       "      <td>15</td>\n",
       "      <td>500</td>\n",
       "      <td>550</td>\n",
       "      <td>200</td>\n",
       "      <td>3</td>\n",
       "      <td>3</td>\n",
       "      <td>smart</td>\n",
       "    </tr>\n",
       "    <tr>\n",
       "      <th>1</th>\n",
       "      <td>1000</td>\n",
       "      <td>30</td>\n",
       "      <td>3000</td>\n",
       "      <td>1950</td>\n",
       "      <td>150</td>\n",
       "      <td>1</td>\n",
       "      <td>1</td>\n",
       "      <td>ultra</td>\n",
       "    </tr>\n",
       "  </tbody>\n",
       "</table>\n",
       "</div>"
      ],
      "text/plain": [
       "   messages_included  gb_per_month_included  minutes_included  \\\n",
       "0                 50                     15               500   \n",
       "1               1000                     30              3000   \n",
       "\n",
       "   rub_monthly_fee  rub_per_gb  rub_per_message  rub_per_minute tariff  \n",
       "0              550         200                3               3  smart  \n",
       "1             1950         150                1               1  ultra  "
      ]
     },
     "execution_count": 2752,
     "metadata": {},
     "output_type": "execute_result"
    }
   ],
   "source": [
    "df_tariffs = df_tariffs.rename(columns = {'tariff_name':'tariff'})\n",
    "df_tariffs = df_tariffs.rename(columns={'mb_per_month_included':'gb_per_month_included'})\n",
    "df_tariffs['gb_per_month_included'] = df_tariffs['gb_per_month_included'].apply(lambda x: int(x/1024))\n",
    "df_tariffs\n"
   ]
  },
  {
   "cell_type": "markdown",
   "id": "a3198553-c0df-402d-949a-fd01d9f5c264",
   "metadata": {},
   "source": [
    "**Создаем шаблон общей таблицы. Таблица пользователей и их тарифов по месяцам**"
   ]
  },
  {
   "cell_type": "markdown",
   "id": "6d7c5dd5-3b7d-4354-90e2-4a59ab59668e",
   "metadata": {},
   "source": [
    "Таблица будет учитывать все месяцы и всех пользователей независимо от того чем и когда они пользовались или не пользовались."
   ]
  },
  {
   "cell_type": "code",
   "execution_count": 2753,
   "id": "3d5a2c26-0c16-49ea-8a39-458c684dc388",
   "metadata": {
    "tags": []
   },
   "outputs": [],
   "source": [
    "data_users = pd.Series(df_users['user_id'].unique())\n",
    "data_users_v1 = []\n",
    "for value in data_users:\n",
    "    data_users_v1 += [value]*12\n",
    "\n",
    "data_month = [1,2,3,4,5,6,7,8,9,10,11,12]*500\n",
    "\n",
    "data  = pd.DataFrame({\n",
    "                    'date':data_month,\n",
    "                    'user_id':data_users_v1\n",
    "                    })\n",
    "\n",
    "user_id_month = []\n",
    "for i in range(len(data)):\n",
    "    user_id_month.append(str(data.user_id[i])+'_'+str(data.date[i])) \n",
    "    \n",
    "data['user_id_month'] = user_id_month\n",
    "\n",
    "users_with_tariffs = data.merge(df_users, on='user_id', how='inner').merge(df_tariffs, on='tariff', how='inner')\n"
   ]
  },
  {
   "cell_type": "markdown",
   "id": "2707e787-63db-48ba-b4ef-5f5d77f4c56e",
   "metadata": {
    "tags": []
   },
   "source": [
    "**Количество сделанных звонков и израсходованных минут разговора по месяцам:**  "
   ]
  },
  {
   "cell_type": "code",
   "execution_count": 2754,
   "id": "04bdf0f1-0215-43c0-b2c8-92716f2796ec",
   "metadata": {
    "tags": []
   },
   "outputs": [
    {
     "data": {
      "text/html": [
       "<div>\n",
       "<style scoped>\n",
       "    .dataframe tbody tr th:only-of-type {\n",
       "        vertical-align: middle;\n",
       "    }\n",
       "\n",
       "    .dataframe tbody tr th {\n",
       "        vertical-align: top;\n",
       "    }\n",
       "\n",
       "    .dataframe thead th {\n",
       "        text-align: right;\n",
       "    }\n",
       "</style>\n",
       "<table border=\"1\" class=\"dataframe\">\n",
       "  <thead>\n",
       "    <tr style=\"text-align: right;\">\n",
       "      <th></th>\n",
       "      <th></th>\n",
       "      <th>sum_minutes_calls</th>\n",
       "    </tr>\n",
       "    <tr>\n",
       "      <th>date</th>\n",
       "      <th>user_id</th>\n",
       "      <th></th>\n",
       "    </tr>\n",
       "  </thead>\n",
       "  <tbody>\n",
       "    <tr>\n",
       "      <th rowspan=\"5\" valign=\"top\">1</th>\n",
       "      <th>1005</th>\n",
       "      <td>95</td>\n",
       "    </tr>\n",
       "    <tr>\n",
       "      <th>1032</th>\n",
       "      <td>380</td>\n",
       "    </tr>\n",
       "    <tr>\n",
       "      <th>1045</th>\n",
       "      <td>9</td>\n",
       "    </tr>\n",
       "    <tr>\n",
       "      <th>1055</th>\n",
       "      <td>551</td>\n",
       "    </tr>\n",
       "    <tr>\n",
       "      <th>1071</th>\n",
       "      <td>194</td>\n",
       "    </tr>\n",
       "    <tr>\n",
       "      <th>...</th>\n",
       "      <th>...</th>\n",
       "      <td>...</td>\n",
       "    </tr>\n",
       "    <tr>\n",
       "      <th rowspan=\"5\" valign=\"top\">12</th>\n",
       "      <th>1494</th>\n",
       "      <td>418</td>\n",
       "    </tr>\n",
       "    <tr>\n",
       "      <th>1495</th>\n",
       "      <td>1031</td>\n",
       "    </tr>\n",
       "    <tr>\n",
       "      <th>1496</th>\n",
       "      <td>518</td>\n",
       "    </tr>\n",
       "    <tr>\n",
       "      <th>1497</th>\n",
       "      <td>545</td>\n",
       "    </tr>\n",
       "    <tr>\n",
       "      <th>1499</th>\n",
       "      <td>492</td>\n",
       "    </tr>\n",
       "  </tbody>\n",
       "</table>\n",
       "<p>3174 rows × 1 columns</p>\n",
       "</div>"
      ],
      "text/plain": [
       "              sum_minutes_calls\n",
       "date user_id                   \n",
       "1    1005                    95\n",
       "     1032                   380\n",
       "     1045                     9\n",
       "     1055                   551\n",
       "     1071                   194\n",
       "...                         ...\n",
       "12   1494                   418\n",
       "     1495                  1031\n",
       "     1496                   518\n",
       "     1497                   545\n",
       "     1499                   492\n",
       "\n",
       "[3174 rows x 1 columns]"
      ]
     },
     "execution_count": 2754,
     "metadata": {},
     "output_type": "execute_result"
    }
   ],
   "source": [
    "df_calls['id'] = df_calls['duration']\n",
    "df_calls = df_calls.rename(columns = {'id':'value','call_date':'date'})\n",
    "df_calls = df_calls.loc[:,['value','date','user_id']]\n",
    "df_calls['value'] = np.ceil(df_calls['value']).astype('int')  # округлил до минут по условию \"Мегалайн\"\n",
    "\n",
    "df_calls = df_calls.groupby(['date','user_id'])['value'].agg(['sum'])\n",
    "df_calls = df_calls.rename(columns={'sum':'sum_minutes_calls'})\n",
    "df_calls\n"
   ]
  },
  {
   "cell_type": "markdown",
   "id": "eda0d921-4033-4f10-a93b-2ab1257e98aa",
   "metadata": {
    "tags": []
   },
   "source": [
    "**Количество отправленных сообщений по месяцам:**"
   ]
  },
  {
   "cell_type": "code",
   "execution_count": 2755,
   "id": "52e774c2-f5ca-451f-b568-4875028cd75a",
   "metadata": {
    "tags": []
   },
   "outputs": [
    {
     "data": {
      "text/html": [
       "<div>\n",
       "<style scoped>\n",
       "    .dataframe tbody tr th:only-of-type {\n",
       "        vertical-align: middle;\n",
       "    }\n",
       "\n",
       "    .dataframe tbody tr th {\n",
       "        vertical-align: top;\n",
       "    }\n",
       "\n",
       "    .dataframe thead th {\n",
       "        text-align: right;\n",
       "    }\n",
       "</style>\n",
       "<table border=\"1\" class=\"dataframe\">\n",
       "  <thead>\n",
       "    <tr style=\"text-align: right;\">\n",
       "      <th></th>\n",
       "      <th></th>\n",
       "      <th>count_sms</th>\n",
       "    </tr>\n",
       "    <tr>\n",
       "      <th>date</th>\n",
       "      <th>user_id</th>\n",
       "      <th></th>\n",
       "    </tr>\n",
       "  </thead>\n",
       "  <tbody>\n",
       "    <tr>\n",
       "      <th rowspan=\"5\" valign=\"top\">1</th>\n",
       "      <th>1005</th>\n",
       "      <td>7</td>\n",
       "    </tr>\n",
       "    <tr>\n",
       "      <th>1032</th>\n",
       "      <td>38</td>\n",
       "    </tr>\n",
       "    <tr>\n",
       "      <th>1045</th>\n",
       "      <td>5</td>\n",
       "    </tr>\n",
       "    <tr>\n",
       "      <th>1055</th>\n",
       "      <td>30</td>\n",
       "    </tr>\n",
       "    <tr>\n",
       "      <th>1071</th>\n",
       "      <td>16</td>\n",
       "    </tr>\n",
       "    <tr>\n",
       "      <th>...</th>\n",
       "      <th>...</th>\n",
       "      <td>...</td>\n",
       "    </tr>\n",
       "    <tr>\n",
       "      <th rowspan=\"5\" valign=\"top\">12</th>\n",
       "      <th>1493</th>\n",
       "      <td>78</td>\n",
       "    </tr>\n",
       "    <tr>\n",
       "      <th>1495</th>\n",
       "      <td>84</td>\n",
       "    </tr>\n",
       "    <tr>\n",
       "      <th>1496</th>\n",
       "      <td>51</td>\n",
       "    </tr>\n",
       "    <tr>\n",
       "      <th>1497</th>\n",
       "      <td>17</td>\n",
       "    </tr>\n",
       "    <tr>\n",
       "      <th>1499</th>\n",
       "      <td>66</td>\n",
       "    </tr>\n",
       "  </tbody>\n",
       "</table>\n",
       "<p>2717 rows × 1 columns</p>\n",
       "</div>"
      ],
      "text/plain": [
       "              count_sms\n",
       "date user_id           \n",
       "1    1005             7\n",
       "     1032            38\n",
       "     1045             5\n",
       "     1055            30\n",
       "     1071            16\n",
       "...                 ...\n",
       "12   1493            78\n",
       "     1495            84\n",
       "     1496            51\n",
       "     1497            17\n",
       "     1499            66\n",
       "\n",
       "[2717 rows x 1 columns]"
      ]
     },
     "execution_count": 2755,
     "metadata": {},
     "output_type": "execute_result"
    }
   ],
   "source": [
    "df_messages = df_messages.rename(columns = {'id':'value','message_date':'date'})\n",
    "df_messages['value'] = df_messages['value'].apply(lambda x: 1)\n",
    "\n",
    "df_messages = df_messages.groupby(['date','user_id'])['date'].agg(['count'])\n",
    "df_messages = df_messages.rename(columns={'count':'count_sms'})\n",
    "df_messages\n"
   ]
  },
  {
   "cell_type": "markdown",
   "id": "f2f9ef48-d79f-4f89-93cd-6f5900cb66f9",
   "metadata": {
    "tags": []
   },
   "source": [
    "**Объем израсходованного интернет-трафика по месяцам:** "
   ]
  },
  {
   "cell_type": "code",
   "execution_count": 2756,
   "id": "e0b88b23-ca58-41cd-90a9-722cf999814f",
   "metadata": {
    "tags": []
   },
   "outputs": [
    {
     "data": {
      "text/html": [
       "<div>\n",
       "<style scoped>\n",
       "    .dataframe tbody tr th:only-of-type {\n",
       "        vertical-align: middle;\n",
       "    }\n",
       "\n",
       "    .dataframe tbody tr th {\n",
       "        vertical-align: top;\n",
       "    }\n",
       "\n",
       "    .dataframe thead th {\n",
       "        text-align: right;\n",
       "    }\n",
       "</style>\n",
       "<table border=\"1\" class=\"dataframe\">\n",
       "  <thead>\n",
       "    <tr style=\"text-align: right;\">\n",
       "      <th></th>\n",
       "      <th></th>\n",
       "      <th>sum_gb</th>\n",
       "    </tr>\n",
       "    <tr>\n",
       "      <th>date</th>\n",
       "      <th>user_id</th>\n",
       "      <th></th>\n",
       "    </tr>\n",
       "  </thead>\n",
       "  <tbody>\n",
       "    <tr>\n",
       "      <th rowspan=\"5\" valign=\"top\">1</th>\n",
       "      <th>1005</th>\n",
       "      <td>3</td>\n",
       "    </tr>\n",
       "    <tr>\n",
       "      <th>1032</th>\n",
       "      <td>24</td>\n",
       "    </tr>\n",
       "    <tr>\n",
       "      <th>1045</th>\n",
       "      <td>3</td>\n",
       "    </tr>\n",
       "    <tr>\n",
       "      <th>1055</th>\n",
       "      <td>17</td>\n",
       "    </tr>\n",
       "    <tr>\n",
       "      <th>1071</th>\n",
       "      <td>16</td>\n",
       "    </tr>\n",
       "    <tr>\n",
       "      <th>...</th>\n",
       "      <th>...</th>\n",
       "      <td>...</td>\n",
       "    </tr>\n",
       "    <tr>\n",
       "      <th rowspan=\"5\" valign=\"top\">12</th>\n",
       "      <th>1494</th>\n",
       "      <td>18</td>\n",
       "    </tr>\n",
       "    <tr>\n",
       "      <th>1495</th>\n",
       "      <td>23</td>\n",
       "    </tr>\n",
       "    <tr>\n",
       "      <th>1496</th>\n",
       "      <td>21</td>\n",
       "    </tr>\n",
       "    <tr>\n",
       "      <th>1497</th>\n",
       "      <td>20</td>\n",
       "    </tr>\n",
       "    <tr>\n",
       "      <th>1499</th>\n",
       "      <td>13</td>\n",
       "    </tr>\n",
       "  </tbody>\n",
       "</table>\n",
       "<p>3203 rows × 1 columns</p>\n",
       "</div>"
      ],
      "text/plain": [
       "              sum_gb\n",
       "date user_id        \n",
       "1    1005          3\n",
       "     1032         24\n",
       "     1045          3\n",
       "     1055         17\n",
       "     1071         16\n",
       "...              ...\n",
       "12   1494         18\n",
       "     1495         23\n",
       "     1496         21\n",
       "     1497         20\n",
       "     1499         13\n",
       "\n",
       "[3203 rows x 1 columns]"
      ]
     },
     "execution_count": 2756,
     "metadata": {},
     "output_type": "execute_result"
    }
   ],
   "source": [
    "df_internet = df_internet.rename(columns = {'mb_used':'value', 'session_date':'date'})\n",
    "df_internet = df_internet.loc[:,'value':'user_id']\n",
    "\n",
    "df_internet = df_internet.groupby(['date','user_id'])['value'].agg(['sum'])\n",
    "df_internet['sum'] = df_internet['sum'].apply(lambda x: x/1024) # перевел Мб в Гб\n",
    "df_internet['sum'] = np.ceil(df_internet['sum']).astype('int') # округлил по условию \"Мегалайн\"\n",
    "df_internet = df_internet.rename(columns={'sum':'sum_gb'})\n",
    "df_internet\n"
   ]
  },
  {
   "cell_type": "markdown",
   "id": "1697d6cc-9aea-42d4-9852-541e3e8038a2",
   "metadata": {
    "tags": []
   },
   "source": [
    "## Объединение таблиц"
   ]
  },
  {
   "cell_type": "code",
   "execution_count": 2757,
   "id": "302c6628-bf5b-4a4d-b629-f2226d5d6105",
   "metadata": {},
   "outputs": [
    {
     "data": {
      "text/html": [
       "<div>\n",
       "<style scoped>\n",
       "    .dataframe tbody tr th:only-of-type {\n",
       "        vertical-align: middle;\n",
       "    }\n",
       "\n",
       "    .dataframe tbody tr th {\n",
       "        vertical-align: top;\n",
       "    }\n",
       "\n",
       "    .dataframe thead th {\n",
       "        text-align: right;\n",
       "    }\n",
       "</style>\n",
       "<table border=\"1\" class=\"dataframe\">\n",
       "  <thead>\n",
       "    <tr style=\"text-align: right;\">\n",
       "      <th></th>\n",
       "      <th>user_id_month</th>\n",
       "      <th>sum_minutes_calls</th>\n",
       "      <th>count_sms</th>\n",
       "      <th>sum_gb</th>\n",
       "    </tr>\n",
       "  </thead>\n",
       "  <tbody>\n",
       "    <tr>\n",
       "      <th>0</th>\n",
       "      <td>1000_1</td>\n",
       "      <td>NaN</td>\n",
       "      <td>NaN</td>\n",
       "      <td>NaN</td>\n",
       "    </tr>\n",
       "    <tr>\n",
       "      <th>1</th>\n",
       "      <td>1000_2</td>\n",
       "      <td>NaN</td>\n",
       "      <td>NaN</td>\n",
       "      <td>NaN</td>\n",
       "    </tr>\n",
       "    <tr>\n",
       "      <th>2</th>\n",
       "      <td>1000_3</td>\n",
       "      <td>NaN</td>\n",
       "      <td>NaN</td>\n",
       "      <td>NaN</td>\n",
       "    </tr>\n",
       "    <tr>\n",
       "      <th>3</th>\n",
       "      <td>1000_4</td>\n",
       "      <td>NaN</td>\n",
       "      <td>NaN</td>\n",
       "      <td>NaN</td>\n",
       "    </tr>\n",
       "    <tr>\n",
       "      <th>4</th>\n",
       "      <td>1000_5</td>\n",
       "      <td>159.0</td>\n",
       "      <td>22.0</td>\n",
       "      <td>3.0</td>\n",
       "    </tr>\n",
       "    <tr>\n",
       "      <th>...</th>\n",
       "      <td>...</td>\n",
       "      <td>...</td>\n",
       "      <td>...</td>\n",
       "      <td>...</td>\n",
       "    </tr>\n",
       "    <tr>\n",
       "      <th>5995</th>\n",
       "      <td>1499_8</td>\n",
       "      <td>NaN</td>\n",
       "      <td>NaN</td>\n",
       "      <td>NaN</td>\n",
       "    </tr>\n",
       "    <tr>\n",
       "      <th>5996</th>\n",
       "      <td>1499_9</td>\n",
       "      <td>70.0</td>\n",
       "      <td>11.0</td>\n",
       "      <td>2.0</td>\n",
       "    </tr>\n",
       "    <tr>\n",
       "      <th>5997</th>\n",
       "      <td>1499_10</td>\n",
       "      <td>449.0</td>\n",
       "      <td>48.0</td>\n",
       "      <td>18.0</td>\n",
       "    </tr>\n",
       "    <tr>\n",
       "      <th>5998</th>\n",
       "      <td>1499_11</td>\n",
       "      <td>612.0</td>\n",
       "      <td>59.0</td>\n",
       "      <td>18.0</td>\n",
       "    </tr>\n",
       "    <tr>\n",
       "      <th>5999</th>\n",
       "      <td>1499_12</td>\n",
       "      <td>492.0</td>\n",
       "      <td>66.0</td>\n",
       "      <td>13.0</td>\n",
       "    </tr>\n",
       "  </tbody>\n",
       "</table>\n",
       "<p>6000 rows × 4 columns</p>\n",
       "</div>"
      ],
      "text/plain": [
       "     user_id_month  sum_minutes_calls  count_sms  sum_gb\n",
       "0           1000_1                NaN        NaN     NaN\n",
       "1           1000_2                NaN        NaN     NaN\n",
       "2           1000_3                NaN        NaN     NaN\n",
       "3           1000_4                NaN        NaN     NaN\n",
       "4           1000_5              159.0       22.0     3.0\n",
       "...            ...                ...        ...     ...\n",
       "5995        1499_8                NaN        NaN     NaN\n",
       "5996        1499_9               70.0       11.0     2.0\n",
       "5997       1499_10              449.0       48.0    18.0\n",
       "5998       1499_11              612.0       59.0    18.0\n",
       "5999       1499_12              492.0       66.0    13.0\n",
       "\n",
       "[6000 rows x 4 columns]"
      ]
     },
     "execution_count": 2757,
     "metadata": {},
     "output_type": "execute_result"
    }
   ],
   "source": [
    "df = users_with_tariffs.merge(df_calls, on=['date','user_id'], how='left').merge(df_messages, on=['date','user_id'], how='left').merge(df_internet, on=['date','user_id'], how='left')\n",
    "df[['user_id_month','sum_minutes_calls','count_sms','sum_gb']]\n"
   ]
  },
  {
   "cell_type": "code",
   "execution_count": 2758,
   "id": "794919fe-544f-4dc0-92cb-7cf394a18f8c",
   "metadata": {
    "tags": []
   },
   "outputs": [
    {
     "name": "stdout",
     "output_type": "stream",
     "text": [
      "<class 'pandas.core.frame.DataFrame'>\n",
      "Int64Index: 6000 entries, 0 to 5999\n",
      "Data columns (total 20 columns):\n",
      " #   Column                 Non-Null Count  Dtype  \n",
      "---  ------                 --------------  -----  \n",
      " 0   date                   6000 non-null   int64  \n",
      " 1   user_id                6000 non-null   int64  \n",
      " 2   user_id_month          6000 non-null   object \n",
      " 3   age                    6000 non-null   int64  \n",
      " 4   churn_date             456 non-null    float64\n",
      " 5   city                   6000 non-null   object \n",
      " 6   first_name             6000 non-null   object \n",
      " 7   last_name              6000 non-null   object \n",
      " 8   reg_date               6000 non-null   int64  \n",
      " 9   tariff                 6000 non-null   object \n",
      " 10  messages_included      6000 non-null   int64  \n",
      " 11  gb_per_month_included  6000 non-null   int64  \n",
      " 12  minutes_included       6000 non-null   int64  \n",
      " 13  rub_monthly_fee        6000 non-null   int64  \n",
      " 14  rub_per_gb             6000 non-null   int64  \n",
      " 15  rub_per_message        6000 non-null   int64  \n",
      " 16  rub_per_minute         6000 non-null   int64  \n",
      " 17  sum_minutes_calls      3174 non-null   float64\n",
      " 18  count_sms              2717 non-null   float64\n",
      " 19  sum_gb                 3203 non-null   float64\n",
      "dtypes: float64(4), int64(11), object(5)\n",
      "memory usage: 984.4+ KB\n"
     ]
    }
   ],
   "source": [
    "df.info()\n"
   ]
  },
  {
   "cell_type": "code",
   "execution_count": 2759,
   "id": "9bfbfcda-29f3-406f-9eec-cad7c5bf1f53",
   "metadata": {
    "tags": []
   },
   "outputs": [],
   "source": [
    "df.sum_minutes_calls = df.sum_minutes_calls.fillna(0)\n",
    "df.sum_minutes_calls = df.sum_minutes_calls.apply(lambda x: int(x))\n",
    "df.count_sms = df.count_sms.fillna(0)\n",
    "df.count_sms = df.count_sms.apply(lambda x: int(x))\n",
    "df.sum_gb = df.sum_gb.fillna(0)\n",
    "df.sum_gb = df.sum_gb.apply(lambda x: int(x))\n"
   ]
  },
  {
   "cell_type": "code",
   "execution_count": 2760,
   "id": "7268487a-2c1c-4e5a-b655-355cbbc1f5f2",
   "metadata": {
    "tags": []
   },
   "outputs": [
    {
     "name": "stdout",
     "output_type": "stream",
     "text": [
      "<class 'pandas.core.frame.DataFrame'>\n",
      "Int64Index: 6000 entries, 0 to 5999\n",
      "Data columns (total 20 columns):\n",
      " #   Column                 Non-Null Count  Dtype  \n",
      "---  ------                 --------------  -----  \n",
      " 0   date                   6000 non-null   int64  \n",
      " 1   user_id                6000 non-null   int64  \n",
      " 2   user_id_month          6000 non-null   object \n",
      " 3   age                    6000 non-null   int64  \n",
      " 4   churn_date             456 non-null    float64\n",
      " 5   city                   6000 non-null   object \n",
      " 6   first_name             6000 non-null   object \n",
      " 7   last_name              6000 non-null   object \n",
      " 8   reg_date               6000 non-null   int64  \n",
      " 9   tariff                 6000 non-null   object \n",
      " 10  messages_included      6000 non-null   int64  \n",
      " 11  gb_per_month_included  6000 non-null   int64  \n",
      " 12  minutes_included       6000 non-null   int64  \n",
      " 13  rub_monthly_fee        6000 non-null   int64  \n",
      " 14  rub_per_gb             6000 non-null   int64  \n",
      " 15  rub_per_message        6000 non-null   int64  \n",
      " 16  rub_per_minute         6000 non-null   int64  \n",
      " 17  sum_minutes_calls      6000 non-null   int64  \n",
      " 18  count_sms              6000 non-null   int64  \n",
      " 19  sum_gb                 6000 non-null   int64  \n",
      "dtypes: float64(1), int64(14), object(5)\n",
      "memory usage: 984.4+ KB\n"
     ]
    }
   ],
   "source": [
    "df.info()\n"
   ]
  },
  {
   "cell_type": "code",
   "execution_count": 2761,
   "id": "0cdc7717-2c05-4419-90ea-f44ed28e9eae",
   "metadata": {
    "tags": []
   },
   "outputs": [],
   "source": [
    "sms_over_limit = []\n",
    "for i in range(len(df)):\n",
    "    if df.count_sms[i] > df.messages_included[i]:\n",
    "        sms_over_limit.append((df.count_sms[i] - df.messages_included[i])*df.rub_per_message[i])\n",
    "    else:\n",
    "        sms_over_limit.append(0)\n"
   ]
  },
  {
   "cell_type": "code",
   "execution_count": 2762,
   "id": "7432ac03-4bba-4868-b3c9-4f93b10dcf78",
   "metadata": {
    "tags": []
   },
   "outputs": [],
   "source": [
    "minutes_over_limit = []\n",
    "for i in range(len(df)):\n",
    "    if df.sum_minutes_calls[i] > df.minutes_included[i]:\n",
    "        minutes_over_limit.append((df.sum_minutes_calls[i] - df.minutes_included[i])*df.rub_per_minute[i])\n",
    "    else:\n",
    "        minutes_over_limit.append(0)\n"
   ]
  },
  {
   "cell_type": "code",
   "execution_count": 2763,
   "id": "25b05c96-1ea5-40a7-a974-beb5e415de90",
   "metadata": {
    "tags": []
   },
   "outputs": [],
   "source": [
    "gb_over_limit = []\n",
    "for i in range(len(df)):\n",
    "    if df.sum_gb[i] > df.gb_per_month_included[i]:\n",
    "        gb_over_limit.append((df.sum_gb[i] - df.gb_per_month_included[i])*df.rub_per_gb[i])\n",
    "    else:\n",
    "        gb_over_limit.append(0)\n"
   ]
  },
  {
   "cell_type": "code",
   "execution_count": null,
   "id": "8140bf02-4982-4537-aa08-608d8109e24c",
   "metadata": {},
   "outputs": [],
   "source": [
    "df['earnings'] = 0\n",
    "df['churn_date'] = df['churn_date'].fillna(13)\n",
    "df['churn_date'] = df['churn_date'].apply(lambda x: int(x))\n",
    "\n",
    "for i in range(len(df)):\n",
    "    if df['reg_date'][i] <= df['date'][i] < df['churn_date'][i]:\n",
    "        df['earnings'][i] = df.rub_monthly_fee[i]\n",
    "        \n",
    "for i in range(len(df)):\n",
    "    df['earnings'][i] += (sms_over_limit[i] + minutes_over_limit[i] + gb_over_limit[i])\n",
    "    "
   ]
  },
  {
   "cell_type": "markdown",
   "id": "45fbddff-0df5-4bd0-ae4b-900c3bc6acd1",
   "metadata": {
    "tags": []
   },
   "source": [
    "**Помесячная выручка с каждого пользователя:** "
   ]
  },
  {
   "cell_type": "code",
   "execution_count": 2766,
   "id": "58b589bf-5666-45c9-aae9-1a2c9e05a981",
   "metadata": {
    "tags": []
   },
   "outputs": [
    {
     "data": {
      "text/html": [
       "<div>\n",
       "<style scoped>\n",
       "    .dataframe tbody tr th:only-of-type {\n",
       "        vertical-align: middle;\n",
       "    }\n",
       "\n",
       "    .dataframe tbody tr th {\n",
       "        vertical-align: top;\n",
       "    }\n",
       "\n",
       "    .dataframe thead th {\n",
       "        text-align: right;\n",
       "    }\n",
       "</style>\n",
       "<table border=\"1\" class=\"dataframe\">\n",
       "  <thead>\n",
       "    <tr style=\"text-align: right;\">\n",
       "      <th></th>\n",
       "      <th>user_id_month</th>\n",
       "      <th>earnings</th>\n",
       "    </tr>\n",
       "  </thead>\n",
       "  <tbody>\n",
       "    <tr>\n",
       "      <th>0</th>\n",
       "      <td>1000_1</td>\n",
       "      <td>0</td>\n",
       "    </tr>\n",
       "    <tr>\n",
       "      <th>1</th>\n",
       "      <td>1000_2</td>\n",
       "      <td>0</td>\n",
       "    </tr>\n",
       "    <tr>\n",
       "      <th>2</th>\n",
       "      <td>1000_3</td>\n",
       "      <td>0</td>\n",
       "    </tr>\n",
       "    <tr>\n",
       "      <th>3</th>\n",
       "      <td>1000_4</td>\n",
       "      <td>0</td>\n",
       "    </tr>\n",
       "    <tr>\n",
       "      <th>4</th>\n",
       "      <td>1000_5</td>\n",
       "      <td>1950</td>\n",
       "    </tr>\n",
       "    <tr>\n",
       "      <th>...</th>\n",
       "      <td>...</td>\n",
       "      <td>...</td>\n",
       "    </tr>\n",
       "    <tr>\n",
       "      <th>5995</th>\n",
       "      <td>1499_8</td>\n",
       "      <td>0</td>\n",
       "    </tr>\n",
       "    <tr>\n",
       "      <th>5996</th>\n",
       "      <td>1499_9</td>\n",
       "      <td>550</td>\n",
       "    </tr>\n",
       "    <tr>\n",
       "      <th>5997</th>\n",
       "      <td>1499_10</td>\n",
       "      <td>1150</td>\n",
       "    </tr>\n",
       "    <tr>\n",
       "      <th>5998</th>\n",
       "      <td>1499_11</td>\n",
       "      <td>1513</td>\n",
       "    </tr>\n",
       "    <tr>\n",
       "      <th>5999</th>\n",
       "      <td>1499_12</td>\n",
       "      <td>598</td>\n",
       "    </tr>\n",
       "  </tbody>\n",
       "</table>\n",
       "<p>6000 rows × 2 columns</p>\n",
       "</div>"
      ],
      "text/plain": [
       "     user_id_month  earnings\n",
       "0           1000_1         0\n",
       "1           1000_2         0\n",
       "2           1000_3         0\n",
       "3           1000_4         0\n",
       "4           1000_5      1950\n",
       "...            ...       ...\n",
       "5995        1499_8         0\n",
       "5996        1499_9       550\n",
       "5997       1499_10      1150\n",
       "5998       1499_11      1513\n",
       "5999       1499_12       598\n",
       "\n",
       "[6000 rows x 2 columns]"
      ]
     },
     "execution_count": 2766,
     "metadata": {},
     "output_type": "execute_result"
    }
   ],
   "source": [
    "df = df[['user_id','user_id_month','age','churn_date','city','reg_date','tariff','sum_minutes_calls','count_sms','sum_gb','earnings']]\n",
    "df[['user_id_month','earnings']]\n"
   ]
  },
  {
   "cell_type": "markdown",
   "id": "e1251b3b-f89b-4a15-8100-d8daa5c784be",
   "metadata": {
    "tags": []
   },
   "source": [
    "## Итог"
   ]
  },
  {
   "cell_type": "code",
   "execution_count": 2767,
   "id": "6986a919-d5be-40c5-87cb-5decc8ec1694",
   "metadata": {
    "tags": []
   },
   "outputs": [
    {
     "data": {
      "text/html": [
       "<div>\n",
       "<style scoped>\n",
       "    .dataframe tbody tr th:only-of-type {\n",
       "        vertical-align: middle;\n",
       "    }\n",
       "\n",
       "    .dataframe tbody tr th {\n",
       "        vertical-align: top;\n",
       "    }\n",
       "\n",
       "    .dataframe thead th {\n",
       "        text-align: right;\n",
       "    }\n",
       "</style>\n",
       "<table border=\"1\" class=\"dataframe\">\n",
       "  <thead>\n",
       "    <tr style=\"text-align: right;\">\n",
       "      <th></th>\n",
       "      <th>user_id_month</th>\n",
       "      <th>sum_minutes_calls</th>\n",
       "      <th>count_sms</th>\n",
       "      <th>sum_gb</th>\n",
       "      <th>earnings</th>\n",
       "    </tr>\n",
       "  </thead>\n",
       "  <tbody>\n",
       "    <tr>\n",
       "      <th>0</th>\n",
       "      <td>1000_1</td>\n",
       "      <td>0</td>\n",
       "      <td>0</td>\n",
       "      <td>0</td>\n",
       "      <td>0</td>\n",
       "    </tr>\n",
       "    <tr>\n",
       "      <th>1</th>\n",
       "      <td>1000_2</td>\n",
       "      <td>0</td>\n",
       "      <td>0</td>\n",
       "      <td>0</td>\n",
       "      <td>0</td>\n",
       "    </tr>\n",
       "    <tr>\n",
       "      <th>2</th>\n",
       "      <td>1000_3</td>\n",
       "      <td>0</td>\n",
       "      <td>0</td>\n",
       "      <td>0</td>\n",
       "      <td>0</td>\n",
       "    </tr>\n",
       "    <tr>\n",
       "      <th>3</th>\n",
       "      <td>1000_4</td>\n",
       "      <td>0</td>\n",
       "      <td>0</td>\n",
       "      <td>0</td>\n",
       "      <td>0</td>\n",
       "    </tr>\n",
       "    <tr>\n",
       "      <th>4</th>\n",
       "      <td>1000_5</td>\n",
       "      <td>159</td>\n",
       "      <td>22</td>\n",
       "      <td>3</td>\n",
       "      <td>1950</td>\n",
       "    </tr>\n",
       "    <tr>\n",
       "      <th>...</th>\n",
       "      <td>...</td>\n",
       "      <td>...</td>\n",
       "      <td>...</td>\n",
       "      <td>...</td>\n",
       "      <td>...</td>\n",
       "    </tr>\n",
       "    <tr>\n",
       "      <th>5995</th>\n",
       "      <td>1499_8</td>\n",
       "      <td>0</td>\n",
       "      <td>0</td>\n",
       "      <td>0</td>\n",
       "      <td>0</td>\n",
       "    </tr>\n",
       "    <tr>\n",
       "      <th>5996</th>\n",
       "      <td>1499_9</td>\n",
       "      <td>70</td>\n",
       "      <td>11</td>\n",
       "      <td>2</td>\n",
       "      <td>550</td>\n",
       "    </tr>\n",
       "    <tr>\n",
       "      <th>5997</th>\n",
       "      <td>1499_10</td>\n",
       "      <td>449</td>\n",
       "      <td>48</td>\n",
       "      <td>18</td>\n",
       "      <td>1150</td>\n",
       "    </tr>\n",
       "    <tr>\n",
       "      <th>5998</th>\n",
       "      <td>1499_11</td>\n",
       "      <td>612</td>\n",
       "      <td>59</td>\n",
       "      <td>18</td>\n",
       "      <td>1513</td>\n",
       "    </tr>\n",
       "    <tr>\n",
       "      <th>5999</th>\n",
       "      <td>1499_12</td>\n",
       "      <td>492</td>\n",
       "      <td>66</td>\n",
       "      <td>13</td>\n",
       "      <td>598</td>\n",
       "    </tr>\n",
       "  </tbody>\n",
       "</table>\n",
       "<p>6000 rows × 5 columns</p>\n",
       "</div>"
      ],
      "text/plain": [
       "     user_id_month  sum_minutes_calls  count_sms  sum_gb  earnings\n",
       "0           1000_1                  0          0       0         0\n",
       "1           1000_2                  0          0       0         0\n",
       "2           1000_3                  0          0       0         0\n",
       "3           1000_4                  0          0       0         0\n",
       "4           1000_5                159         22       3      1950\n",
       "...            ...                ...        ...     ...       ...\n",
       "5995        1499_8                  0          0       0         0\n",
       "5996        1499_9                 70         11       2       550\n",
       "5997       1499_10                449         48      18      1150\n",
       "5998       1499_11                612         59      18      1513\n",
       "5999       1499_12                492         66      13       598\n",
       "\n",
       "[6000 rows x 5 columns]"
      ]
     },
     "metadata": {},
     "output_type": "display_data"
    },
    {
     "name": "stdout",
     "output_type": "stream",
     "text": [
      "<class 'pandas.core.frame.DataFrame'>\n",
      "Int64Index: 6000 entries, 0 to 5999\n",
      "Data columns (total 5 columns):\n",
      " #   Column             Non-Null Count  Dtype \n",
      "---  ------             --------------  ----- \n",
      " 0   user_id_month      6000 non-null   object\n",
      " 1   sum_minutes_calls  6000 non-null   int64 \n",
      " 2   count_sms          6000 non-null   int64 \n",
      " 3   sum_gb             6000 non-null   int64 \n",
      " 4   earnings           6000 non-null   int64 \n",
      "dtypes: int64(4), object(1)\n",
      "memory usage: 410.3+ KB\n",
      "None\n"
     ]
    }
   ],
   "source": [
    "df_relust = df[['user_id_month','sum_minutes_calls','count_sms','sum_gb','earnings']]\n",
    "display(df_relust)\n",
    "print(df_relust.info())\n"
   ]
  },
  {
   "cell_type": "markdown",
   "id": "9402e8f1-1278-45c8-9303-db0cbdff1514",
   "metadata": {
    "tags": []
   },
   "source": [
    "- изменили формат столбоцов с датами из object в datetime64, что бы вычислить данные по месяцам;\n",
    "- округлили секунды до минут, а мегабайты — до гигабайт;\n",
    "- сгруппировали таблицы по месяцам и объединили их;\n",
    "- заполнили пропуски данных с потраченными смс и гигабайтов на нули;\n",
    "- написали функции с доходами по сообщениям, звонкам, интернету и объединили их;\n",
    "- убрали лишние столбцы из общей таблицы;\n",
    "- Вычислили для каждого пользователя:\n",
    "- - количество сделанных звонков и израсходованных минут разговора по месяцам;\n",
    "- - количество отправленных сообщений по месяцам;\n",
    "- - объем израсходованного интернет-трафика по месяцам;\n",
    "- - помесячную выручку с каждого пользователя.\n",
    "\n"
   ]
  },
  {
   "cell_type": "markdown",
   "id": "fe85c92b-6db7-4d1f-9df9-24d62b0cb9b5",
   "metadata": {
    "tags": []
   },
   "source": [
    "# Анализ данных"
   ]
  },
  {
   "cell_type": "code",
   "execution_count": 2768,
   "id": "573473b9-cb9c-4529-8ed9-9b4e43e9a849",
   "metadata": {
    "tags": []
   },
   "outputs": [],
   "source": [
    "df_smart = df.query('tariff in \"smart\"')\n",
    "df_ultra = df.query('tariff in \"ultra\"')\n"
   ]
  },
  {
   "cell_type": "code",
   "execution_count": 2769,
   "id": "656eb7db-b47c-45f5-a86b-208dbeee62df",
   "metadata": {
    "tags": []
   },
   "outputs": [],
   "source": [
    "def def_analis(tariff,data,series):\n",
    "    group_data = data.groupby(series)[series].count().sort_values().tail(1)\n",
    "    plt.ylabel('Частота')\n",
    "    plt.xlabel(series)\n",
    "    plt.title(('Тариф '+tariff))\n",
    "    plt.hist(data[series]);\n",
    "    print('Наиболее частое значение и его частота')\n",
    "    print(group_data)\n",
    "    print()\n"
   ]
  },
  {
   "cell_type": "markdown",
   "id": "1e75da6f-a484-4424-a9f5-86b8bbf9be96",
   "metadata": {
    "tags": []
   },
   "source": [
    "### **Возрастные группы**"
   ]
  },
  {
   "cell_type": "code",
   "execution_count": 2770,
   "id": "47de7127-6870-4423-9b1c-67941f50731e",
   "metadata": {
    "tags": []
   },
   "outputs": [
    {
     "name": "stdout",
     "output_type": "stream",
     "text": [
      "Наиболее частое значение и его частота\n",
      "age\n",
      "42    144\n",
      "Name: age, dtype: int64\n",
      "\n"
     ]
    },
    {
     "data": {
      "image/png": "[encoded data removed]",
      "text/plain": [
       "<Figure size 432x288 with 1 Axes>"
      ]
     },
     "metadata": {
      "needs_background": "light"
     },
     "output_type": "display_data"
    }
   ],
   "source": [
    "def_analis('Smart',df_smart,'age')\n"
   ]
  },
  {
   "cell_type": "code",
   "execution_count": 2771,
   "id": "18892be9-94fa-4e3a-b8e3-f2fed1302377",
   "metadata": {
    "tags": []
   },
   "outputs": [
    {
     "name": "stdout",
     "output_type": "stream",
     "text": [
      "Наиболее частое значение и его частота\n",
      "age\n",
      "63    72\n",
      "Name: age, dtype: int64\n",
      "\n"
     ]
    },
    {
     "data": {
      "image/png": "[encoded data removed]",
      "text/plain": [
       "<Figure size 432x288 with 1 Axes>"
      ]
     },
     "metadata": {
      "needs_background": "light"
     },
     "output_type": "display_data"
    }
   ],
   "source": [
    "def_analis('Ultra',df_ultra,'age')\n"
   ]
  },
  {
   "cell_type": "markdown",
   "id": "2a4c8cd8-d19d-4409-828b-64ba4bd8c859",
   "metadata": {
    "tags": []
   },
   "source": [
    "### **Зарегистрированные пользователи**"
   ]
  },
  {
   "cell_type": "code",
   "execution_count": 2772,
   "id": "0e3807e1-ee0b-4f61-a802-b66fa45cb943",
   "metadata": {
    "tags": []
   },
   "outputs": [
    {
     "name": "stdout",
     "output_type": "stream",
     "text": [
      "Наиболее частое значение и его частота\n",
      "reg_date\n",
      "7    444\n",
      "Name: reg_date, dtype: int64\n",
      "\n"
     ]
    },
    {
     "data": {
      "image/png": "[encoded data removed]",
      "text/plain": [
       "<Figure size 432x288 with 1 Axes>"
      ]
     },
     "metadata": {
      "needs_background": "light"
     },
     "output_type": "display_data"
    }
   ],
   "source": [
    "def_analis('Smart',df_smart,'reg_date')\n"
   ]
  },
  {
   "cell_type": "code",
   "execution_count": 2773,
   "id": "449020ea-e44d-4b6e-a55f-62524eadb0f9",
   "metadata": {
    "tags": []
   },
   "outputs": [
    {
     "name": "stdout",
     "output_type": "stream",
     "text": [
      "Наиболее частое значение и его частота\n",
      "reg_date\n",
      "4    216\n",
      "Name: reg_date, dtype: int64\n",
      "\n"
     ]
    },
    {
     "data": {
      "image/png": "[encoded data removed]",
      "text/plain": [
       "<Figure size 432x288 with 1 Axes>"
      ]
     },
     "metadata": {
      "needs_background": "light"
     },
     "output_type": "display_data"
    }
   ],
   "source": [
    "def_analis('Ultra',df_ultra,'reg_date')\n"
   ]
  },
  {
   "cell_type": "markdown",
   "id": "4f8070c1-fbde-4c89-9f89-5313378bfc8a",
   "metadata": {
    "tags": []
   },
   "source": [
    "### **Ушедшие пользователи**"
   ]
  },
  {
   "cell_type": "code",
   "execution_count": 2774,
   "id": "6c96a090-d3eb-4de3-aaff-9c4b7cb20cf8",
   "metadata": {
    "tags": []
   },
   "outputs": [
    {
     "name": "stdout",
     "output_type": "stream",
     "text": [
      "Наиболее частое значение и его частота\n",
      "churn_date\n",
      "12    120\n",
      "Name: churn_date, dtype: int64\n",
      "\n"
     ]
    },
    {
     "data": {
      "image/png": "[encoded data removed]",
      "text/plain": [
       "<Figure size 432x288 with 1 Axes>"
      ]
     },
     "metadata": {
      "needs_background": "light"
     },
     "output_type": "display_data"
    }
   ],
   "source": [
    "def_analis('Smart',df_smart.query('churn_date < 13'),'churn_date')\n"
   ]
  },
  {
   "cell_type": "code",
   "execution_count": 2775,
   "id": "ca280550-5704-4d7a-b101-cd2af8125998",
   "metadata": {
    "tags": []
   },
   "outputs": [
    {
     "name": "stdout",
     "output_type": "stream",
     "text": [
      "Наиболее частое значение и его частота\n",
      "churn_date\n",
      "12    72\n",
      "Name: churn_date, dtype: int64\n",
      "\n"
     ]
    },
    {
     "data": {
      "image/png": "[encoded data removed]",
      "text/plain": [
       "<Figure size 432x288 with 1 Axes>"
      ]
     },
     "metadata": {
      "needs_background": "light"
     },
     "output_type": "display_data"
    }
   ],
   "source": [
    "def_analis('Ultra',df_ultra.query('churn_date < 13'),'churn_date')\n"
   ]
  },
  {
   "cell_type": "markdown",
   "id": "ebe8333e-e30a-45f4-8b26-a73c4d9a1acd",
   "metadata": {
    "tags": []
   },
   "source": [
    "### Функция расчета и вывода результатов анализа."
   ]
  },
  {
   "cell_type": "code",
   "execution_count": 2776,
   "id": "2ea2a947-9527-4cd1-adca-1a72381a3361",
   "metadata": {
    "tags": []
   },
   "outputs": [],
   "source": [
    "# Функция расчета и вывода результатов анализа.\n",
    "def print_result(name,series):\n",
    "    print()\n",
    "    print('-------------------------------------','Сколько',name,'требуется пользователям.''-------------------------------------')\n",
    "    median = series.median()\n",
    "    mean = series.mean()\n",
    "    variance = np.var(series, ddof=1)\n",
    "    standard_deviation = np.std(series, ddof=1)\n",
    "    simga_rule_up = int(mean + 3*standard_deviation)\n",
    "    \n",
    "    if median < mean:\n",
    "        bevel = 'Ассиметричный датасет: положительная скошенность.'\n",
    "    elif median > mean:\n",
    "        bevel = 'Ассиметричный датасет: отрицательная скошенность.'\n",
    "    else:\n",
    "        'Симметричный датасет.'\n",
    "    \n",
    "    series.hist()\n",
    "    print()\n",
    "    print('Медиана:',median)\n",
    "    print('Cреднее количество:',mean)\n",
    "    print('Дисперсия:',variance)\n",
    "    print('Стандартное отклонение:',standard_deviation)\n",
    "    print()\n",
    "    print(bevel)\n",
    "    print()\n",
    "    print('Вывод: пользователям требуется',simga_rule_up,name+'.')\n"
   ]
  },
  {
   "cell_type": "markdown",
   "id": "f1446ab2-6b1e-4359-bd79-24f812a7fada",
   "metadata": {
    "tags": []
   },
   "source": [
    "## **Тариф «Смарт»**"
   ]
  },
  {
   "cell_type": "code",
   "execution_count": 2777,
   "id": "238774fa-c504-4a15-b5a8-301740aa09e4",
   "metadata": {
    "tags": []
   },
   "outputs": [
    {
     "name": "stdout",
     "output_type": "stream",
     "text": [
      "\n",
      "------------------------------------- Сколько минут разговора требуется пользователям.-------------------------------------\n",
      "\n",
      "Медиана: 105.5\n",
      "Cреднее количество: 221.1721272554606\n",
      "Дисперсия: 62692.08126519414\n",
      "Стандартное отклонение: 250.38386782137968\n",
      "\n",
      "Ассиметричный датасет: положительная скошенность.\n",
      "\n",
      "Вывод: пользователям требуется 972 минут разговора.\n"
     ]
    },
    {
     "data": {
      "image/png": "[encoded data removed]",
      "text/plain": [
       "<Figure size 432x288 with 1 Axes>"
      ]
     },
     "metadata": {
      "needs_background": "light"
     },
     "output_type": "display_data"
    }
   ],
   "source": [
    "print_result('минут разговора',df_smart['sum_minutes_calls'])\n"
   ]
  },
  {
   "cell_type": "code",
   "execution_count": 2778,
   "id": "e770c8a6-b43e-4911-89ca-a45c37eb01d6",
   "metadata": {
    "tags": []
   },
   "outputs": [
    {
     "name": "stdout",
     "output_type": "stream",
     "text": [
      "\n",
      "------------------------------------- Сколько сообщений требуется пользователям.-------------------------------------\n",
      "\n",
      "Медиана: 0.0\n",
      "Cреднее количество: 17.66690408357075\n",
      "Дисперсия: 699.3250217119872\n",
      "Стандартное отклонение: 26.44475414353454\n",
      "\n",
      "Ассиметричный датасет: положительная скошенность.\n",
      "\n",
      "Вывод: пользователям требуется 97 сообщений.\n"
     ]
    },
    {
     "data": {
      "image/png": "[encoded data removed]",
      "text/plain": [
       "<Figure size 432x288 with 1 Axes>"
      ]
     },
     "metadata": {
      "needs_background": "light"
     },
     "output_type": "display_data"
    }
   ],
   "source": [
    "print_result('сообщений',df_smart['count_sms'])\n"
   ]
  },
  {
   "cell_type": "code",
   "execution_count": 2779,
   "id": "f7ebc90a-09d2-4c4b-baff-a8e936357976",
   "metadata": {
    "tags": []
   },
   "outputs": [
    {
     "name": "stdout",
     "output_type": "stream",
     "text": [
      "\n",
      "------------------------------------- Сколько гб интернет-трафика требуется пользователям.-------------------------------------\n",
      "\n",
      "Медиана: 6.0\n",
      "Cреднее количество: 8.641263057929725\n",
      "Дисперсия: 83.92138410841636\n",
      "Стандартное отклонение: 9.160861537454672\n",
      "\n",
      "Ассиметричный датасет: положительная скошенность.\n",
      "\n",
      "Вывод: пользователям требуется 36 гб интернет-трафика.\n"
     ]
    },
    {
     "data": {
      "image/png": "[encoded data removed]",
      "text/plain": [
       "<Figure size 432x288 with 1 Axes>"
      ]
     },
     "metadata": {
      "needs_background": "light"
     },
     "output_type": "display_data"
    }
   ],
   "source": [
    "print_result('гб интернет-трафика',df_smart['sum_gb'])\n"
   ]
  },
  {
   "cell_type": "markdown",
   "id": "9fbdd9f3-7739-4e34-b785-5ef792c6fa22",
   "metadata": {
    "tags": []
   },
   "source": [
    "## **Тариф «Ультра»**"
   ]
  },
  {
   "cell_type": "code",
   "execution_count": 2780,
   "id": "fa74456b-c928-492e-af5b-bc8b061e79c4",
   "metadata": {
    "tags": []
   },
   "outputs": [
    {
     "name": "stdout",
     "output_type": "stream",
     "text": [
      "\n",
      "------------------------------------- Сколько минут разговора требуется пользователям.-------------------------------------\n",
      "\n",
      "Медиана: 92.0\n",
      "Cреднее количество: 290.1140939597315\n",
      "Дисперсия: 124198.47942072229\n",
      "Стандартное отклонение: 352.41804638911765\n",
      "\n",
      "Ассиметричный датасет: положительная скошенность.\n",
      "\n",
      "Вывод: пользователям требуется 1347 минут разговора.\n"
     ]
    },
    {
     "data": {
      "image/png": "[encoded data removed]",
      "text/plain": [
       "<Figure size 432x288 with 1 Axes>"
      ]
     },
     "metadata": {
      "needs_background": "light"
     },
     "output_type": "display_data"
    }
   ],
   "source": [
    "print_result('минут разговора',df_ultra['sum_minutes_calls'])\n"
   ]
  },
  {
   "cell_type": "code",
   "execution_count": 2781,
   "id": "576e64af-8a64-4e9f-9be9-090668117017",
   "metadata": {
    "tags": []
   },
   "outputs": [
    {
     "name": "stdout",
     "output_type": "stream",
     "text": [
      "\n",
      "------------------------------------- Сколько сообщений требуется пользователям.-------------------------------------\n",
      "\n",
      "Медиана: 0.0\n",
      "Cреднее количество: 27.19407158836689\n",
      "Дисперсия: 1861.5801103295319\n",
      "Стандартное отклонение: 43.14603238224266\n",
      "\n",
      "Ассиметричный датасет: положительная скошенность.\n",
      "\n",
      "Вывод: пользователям требуется 156 сообщений.\n"
     ]
    },
    {
     "data": {
      "image/png": "[encoded data removed]",
      "text/plain": [
       "<Figure size 432x288 with 1 Axes>"
      ]
     },
     "metadata": {
      "needs_background": "light"
     },
     "output_type": "display_data"
    }
   ],
   "source": [
    "print_result('сообщений',df_ultra['count_sms'])\n"
   ]
  },
  {
   "cell_type": "code",
   "execution_count": 2782,
   "id": "5c51a61d-b504-4dca-849f-3831301c98c6",
   "metadata": {
    "tags": []
   },
   "outputs": [
    {
     "name": "stdout",
     "output_type": "stream",
     "text": [
      "\n",
      "------------------------------------- Сколько гб интернет-трафика требуется пользователям.-------------------------------------\n",
      "\n",
      "Медиана: 6.0\n",
      "Cреднее количество: 10.739373601789708\n",
      "Дисперсия: 147.53919871205125\n",
      "Стандартное отклонение: 12.146571479724278\n",
      "\n",
      "Ассиметричный датасет: положительная скошенность.\n",
      "\n",
      "Вывод: пользователям требуется 47 гб интернет-трафика.\n"
     ]
    },
    {
     "data": {
      "image/png": "[encoded data removed]",
      "text/plain": [
       "<Figure size 432x288 with 1 Axes>"
      ]
     },
     "metadata": {
      "needs_background": "light"
     },
     "output_type": "display_data"
    }
   ],
   "source": [
    "print_result('гб интернет-трафика',df_ultra['sum_gb'])\n"
   ]
  },
  {
   "cell_type": "markdown",
   "id": "42983811-95c4-4d94-80aa-2fc2492cb417",
   "metadata": {
    "tags": []
   },
   "source": [
    "## Заключение"
   ]
  },
  {
   "cell_type": "code",
   "execution_count": 2783,
   "id": "f7e2c332-1b85-479e-92d5-e3354b8b1ddf",
   "metadata": {
    "tags": []
   },
   "outputs": [
    {
     "data": {
      "text/html": [
       "<div>\n",
       "<style scoped>\n",
       "    .dataframe tbody tr th:only-of-type {\n",
       "        vertical-align: middle;\n",
       "    }\n",
       "\n",
       "    .dataframe tbody tr th {\n",
       "        vertical-align: top;\n",
       "    }\n",
       "\n",
       "    .dataframe thead th {\n",
       "        text-align: right;\n",
       "    }\n",
       "</style>\n",
       "<table border=\"1\" class=\"dataframe\">\n",
       "  <thead>\n",
       "    <tr style=\"text-align: right;\">\n",
       "      <th></th>\n",
       "      <th>messages_included</th>\n",
       "      <th>gb_per_month_included</th>\n",
       "      <th>minutes_included</th>\n",
       "      <th>tariff</th>\n",
       "    </tr>\n",
       "  </thead>\n",
       "  <tbody>\n",
       "    <tr>\n",
       "      <th>0</th>\n",
       "      <td>50</td>\n",
       "      <td>15</td>\n",
       "      <td>500</td>\n",
       "      <td>smart</td>\n",
       "    </tr>\n",
       "    <tr>\n",
       "      <th>1</th>\n",
       "      <td>1000</td>\n",
       "      <td>30</td>\n",
       "      <td>3000</td>\n",
       "      <td>ultra</td>\n",
       "    </tr>\n",
       "  </tbody>\n",
       "</table>\n",
       "</div>"
      ],
      "text/plain": [
       "   messages_included  gb_per_month_included  minutes_included tariff\n",
       "0                 50                     15               500  smart\n",
       "1               1000                     30              3000  ultra"
      ]
     },
     "metadata": {},
     "output_type": "display_data"
    }
   ],
   "source": [
    "display(df_tariffs[['messages_included','gb_per_month_included','minutes_included','tariff']])\n"
   ]
  },
  {
   "cell_type": "markdown",
   "id": "7f707557-a1a4-4aba-ac4f-bd54e97ea154",
   "metadata": {},
   "source": [
    "**Тариф «Смарт»:**\n",
    "- В основном пользователи 40 лет,\n",
    "- Число регистраций растет,\n",
    "- Растет отток пользователей.\n",
    "- **Для тарифа «Смарт» требуется:** \n",
    "- - 972 минуты разговора, \n",
    "- - 97 сообщений, \n",
    "- - 36 гб интернет-трафика.\n",
    "\n",
    "**Тариф «Ультра»:**\n",
    "- В основном пользователи 60 лет,\n",
    "- Число регистраций падает,\n",
    "- Растет отток пользователей.\n",
    "- **Для тарифа «Ультра» требуется:**\n",
    "- - 1347 минут разговора,\n",
    "- - 156 сообщений,\n",
    "- - 47 гб интернет-трафика."
   ]
  },
  {
   "cell_type": "markdown",
   "id": "bb8d82e4-696a-41fa-9329-64439ea2861e",
   "metadata": {
    "tags": []
   },
   "source": [
    "# Проверка гипотез"
   ]
  },
  {
   "cell_type": "markdown",
   "id": "dc494f69-17e0-470e-b6de-c1db76a9ea40",
   "metadata": {
    "tags": []
   },
   "source": [
    "## Гипотеза: средняя выручка пользователей тарифов «Ультра» и «Смарт» различаются."
   ]
  },
  {
   "cell_type": "code",
   "execution_count": 2784,
   "id": "c5d2ae28-d78a-4b9f-bc84-54acb0f1f418",
   "metadata": {},
   "outputs": [
    {
     "name": "stdout",
     "output_type": "stream",
     "text": [
      "Размер данных Смарт: 4212\n",
      "Размер данных Ультра: 1788\n"
     ]
    }
   ],
   "source": [
    "print('Размер данных Смарт:',len(df_smart))\n",
    "print('Размер данных Ультра:',len(df_ultra))\n"
   ]
  },
  {
   "cell_type": "markdown",
   "id": "39f93625-4fbf-4ec7-afaf-00c42238bdcb",
   "metadata": {},
   "source": [
    "Проверим гипотезу равенства.\n",
    "\n",
    "H0: P0 = P\n",
    "\n",
    "H1: P0 != P"
   ]
  },
  {
   "cell_type": "code",
   "execution_count": 2785,
   "id": "c1b6d9d5-3291-4a2a-9dda-3a971cd321ff",
   "metadata": {},
   "outputs": [
    {
     "name": "stdout",
     "output_type": "stream",
     "text": [
      "Дисперсия sample_smart: 750041.7446671047\n",
      "Дисперсия sample_ultra: 1142982.3543984431\n"
     ]
    }
   ],
   "source": [
    "sample_smart = df_smart[0:1788]['earnings']\n",
    "sample_ultra = df_ultra['earnings']\n",
    "\n",
    "print('Дисперсия sample_smart:',np.var(sample_smart))\n",
    "print('Дисперсия sample_ultra:',np.var(sample_ultra))\n"
   ]
  },
  {
   "cell_type": "code",
   "execution_count": 2786,
   "id": "37d71467-fbeb-4785-a246-541998bbf2eb",
   "metadata": {},
   "outputs": [
    {
     "name": "stdout",
     "output_type": "stream",
     "text": [
      "p-значение: 8.014223932424021e-44\n",
      "Отвергаем нулевую гипотезу\n"
     ]
    }
   ],
   "source": [
    "alpha = .05 # критический уровень статистической значимости\n",
    "\n",
    "results = st.ttest_ind(sample_smart,sample_ultra, equal_var = False)# гипотеза о равенстве средних двух независимых совокупностей\n",
    "\n",
    "print('p-значение:', results.pvalue)# p-значение\n",
    "\n",
    "if results.pvalue < alpha:\n",
    "    print(\"Отвергаем нулевую гипотезу\")\n",
    "else:\n",
    "    print(\"Не получилось отвергнуть нулевую гипотезу\")\n"
   ]
  },
  {
   "cell_type": "code",
   "execution_count": 2787,
   "id": "1da22af2-59fc-408c-8153-4932b66a1dd9",
   "metadata": {
    "tags": []
   },
   "outputs": [
    {
     "name": "stdout",
     "output_type": "stream",
     "text": [
      "Cредняя выручка c пользователей smart: 666.8439597315436\n",
      "Cредняя выручка c пользователей ultra: 1125.1677852348994\n"
     ]
    }
   ],
   "source": [
    "print('Cредняя выручка c пользователей smart:',sample_smart.mean())\n",
    "print('Cредняя выручка c пользователей ultra:',sample_ultra.mean())\n"
   ]
  },
  {
   "cell_type": "markdown",
   "id": "931154a8-1198-46a0-9ede-b8931de1db59",
   "metadata": {
    "tags": []
   },
   "source": [
    "## Гипотеза: средняя выручка пользователей из Москвы отличается от выручки пользователей из других регионов."
   ]
  },
  {
   "cell_type": "code",
   "execution_count": 2788,
   "id": "9993209f-46c8-4735-814b-cb3a1ccd6547",
   "metadata": {},
   "outputs": [
    {
     "name": "stdout",
     "output_type": "stream",
     "text": [
      "Размер данных Москвы: 1188\n",
      "Размер данных Других городов: 4812\n"
     ]
    }
   ],
   "source": [
    "print('Размер данных Москвы:',len(df.query('city in \"Москва\"')))\n",
    "print('Размер данных Других городов:',len(df.query('city not in \"Москва\"')))\n"
   ]
  },
  {
   "cell_type": "markdown",
   "id": "2bca5a35-a5bd-4d39-9b79-dd68ebc55816",
   "metadata": {},
   "source": [
    "Проверим гипотезу равенства.\n",
    "\n",
    "H0: P0 = P\n",
    "\n",
    "H1: P0 != P"
   ]
  },
  {
   "cell_type": "code",
   "execution_count": 2789,
   "id": "d42e49df-f871-4634-9025-387c44d6d783",
   "metadata": {},
   "outputs": [
    {
     "name": "stdout",
     "output_type": "stream",
     "text": [
      "Дисперсия sample_moscow: 889091.4735230927\n",
      "Дисперсия sample_another: 1141192.9267421828\n"
     ]
    }
   ],
   "source": [
    "sample_moscow = df.query('city in \"Москва\"')['earnings']\n",
    "sample_another = df.query('city not in \"Москва\"')[0:1188]['earnings']\n",
    "\n",
    "print('Дисперсия sample_moscow:',np.var(sample_moscow))\n",
    "print('Дисперсия sample_another:',np.var(sample_another))\n"
   ]
  },
  {
   "cell_type": "code",
   "execution_count": 2790,
   "id": "c5e70a5b-bce4-4e1e-bbad-b5eee8615c5f",
   "metadata": {},
   "outputs": [
    {
     "name": "stdout",
     "output_type": "stream",
     "text": [
      "p-значение: 6.28282586593862e-16\n",
      "Отвергаем нулевую гипотезу\n"
     ]
    }
   ],
   "source": [
    "alpha = .05 # критический уровень статистической значимости\n",
    "\n",
    "results = st.ttest_ind(sample_moscow,sample_another, equal_var = False)# гипотеза о равенстве средних двух независимых совокупностей\n",
    "\n",
    "print('p-значение:', results.pvalue)# p-значение\n",
    "\n",
    "if results.pvalue < alpha:\n",
    "    print(\"Отвергаем нулевую гипотезу\")\n",
    "else:\n",
    "    print(\"Не получилось отвергнуть нулевую гипотезу\")\n"
   ]
  },
  {
   "cell_type": "code",
   "execution_count": 2791,
   "id": "99d49973-0946-4dc0-8a02-2bbdf6e09f8b",
   "metadata": {
    "tags": []
   },
   "outputs": [
    {
     "name": "stdout",
     "output_type": "stream",
     "text": [
      "Cредняя выручка c пользователей из Москвы: 787.7878787878788\n",
      "Cредняя выручка c пользователей из других регионов: 1124.4949494949494\n"
     ]
    }
   ],
   "source": [
    "print('Cредняя выручка c пользователей из Москвы:',sample_moscow.mean())\n",
    "print('Cредняя выручка c пользователей из других регионов:',sample_another.mean())\n"
   ]
  },
  {
   "cell_type": "markdown",
   "id": "69077de4-7d0a-4a07-a54e-29b8d734d416",
   "metadata": {
    "tags": []
   },
   "source": [
    "## Заключение:"
   ]
  },
  {
   "cell_type": "markdown",
   "id": "083e580a-ecb4-4aa3-9a0d-523920746538",
   "metadata": {},
   "source": [
    "**Гипотеза 1:** Двухсторонняя теория независимых данных. Определили нулевую гипотезу как равенство, а альтернативную как неравенство. Дисперсии не равны. Взяли все данные тарифа Ультра и выборку тарифа Смарт равную по количеству данных.\n",
    "\n",
    "**Гипотеза 2:** Двухсторонняя теория независимых данных. Определили нулевую гипотезу как равенство, а альтернативную как неравенство. Дисперсии не равны. Взяли все данные по Москве и выборку по другим городам равную по количеству данных.\n",
    "\n",
    "- Отвергаем нулевую гипотезу. Средняя выручка пользователей тарифов «Ультра» и «Смарт» различаются. Выручка «Ультра» больше.\n",
    "- Отвергаем нулевую гипотезу. Средняя выручка пользователей из Москвы отличается от выручки пользователей из других регионов. В других регионах выручка больше."
   ]
  },
  {
   "cell_type": "markdown",
   "id": "801b4e3f-63d7-4000-bbc6-b941b5bdcd4c",
   "metadata": {
    "tags": []
   },
   "source": [
    "# Общий вывод"
   ]
  },
  {
   "cell_type": "markdown",
   "id": "30b9f923-8b28-4da2-90d5-5c6e8d4da936",
   "metadata": {
    "tags": []
   },
   "source": [
    "**Лучший тариф: «Ультра»**\n",
    "- средний пользователь : Регионы (не Москва),  60 лет;\n",
    "- Число регистраций падает. Отток растет, но медленее чем в тарифе Смарт;\n",
    "- Тарифы не равны, выручка тарифа Ультра больше;\n",
    "- Клиенты реже выходят за пределы лимита тарифного плана;\n",
    "- Пользователям требуется больше интернета;\n",
    "- Размер выручки в городах разный. Средняя выручка выше в других регионах, чем в Москве."
   ]
  }
 ],
 "metadata": {
  "ExecuteTimeLog": [
   {
    "duration": 806,
    "start_time": "2022-05-12T07:02:47.408Z"
   },
   {
    "duration": 269,
    "start_time": "2022-05-12T07:02:48.217Z"
   },
   {
    "duration": 0,
    "start_time": "2022-05-12T07:02:48.490Z"
   },
   {
    "duration": 1,
    "start_time": "2022-05-12T07:02:48.491Z"
   },
   {
    "duration": 0,
    "start_time": "2022-05-12T07:02:48.494Z"
   },
   {
    "duration": 0,
    "start_time": "2022-05-12T07:02:48.495Z"
   },
   {
    "duration": 0,
    "start_time": "2022-05-12T07:02:48.496Z"
   },
   {
    "duration": 0,
    "start_time": "2022-05-12T07:02:48.498Z"
   },
   {
    "duration": 0,
    "start_time": "2022-05-12T07:02:48.499Z"
   },
   {
    "duration": 0,
    "start_time": "2022-05-12T07:02:48.500Z"
   },
   {
    "duration": 0,
    "start_time": "2022-05-12T07:02:48.501Z"
   },
   {
    "duration": 0,
    "start_time": "2022-05-12T07:02:48.503Z"
   },
   {
    "duration": 0,
    "start_time": "2022-05-12T07:02:48.504Z"
   },
   {
    "duration": 0,
    "start_time": "2022-05-12T07:02:48.505Z"
   },
   {
    "duration": 0,
    "start_time": "2022-05-12T07:02:48.507Z"
   },
   {
    "duration": 0,
    "start_time": "2022-05-12T07:02:48.508Z"
   },
   {
    "duration": 0,
    "start_time": "2022-05-12T07:02:48.510Z"
   },
   {
    "duration": 0,
    "start_time": "2022-05-12T07:02:48.511Z"
   },
   {
    "duration": 0,
    "start_time": "2022-05-12T07:02:48.513Z"
   },
   {
    "duration": 1,
    "start_time": "2022-05-12T07:02:48.514Z"
   },
   {
    "duration": 0,
    "start_time": "2022-05-12T07:02:48.516Z"
   },
   {
    "duration": 0,
    "start_time": "2022-05-12T07:02:48.517Z"
   },
   {
    "duration": 0,
    "start_time": "2022-05-12T07:02:48.518Z"
   },
   {
    "duration": 0,
    "start_time": "2022-05-12T07:02:48.519Z"
   },
   {
    "duration": 0,
    "start_time": "2022-05-12T07:02:48.521Z"
   },
   {
    "duration": 0,
    "start_time": "2022-05-12T07:02:48.522Z"
   },
   {
    "duration": 0,
    "start_time": "2022-05-12T07:02:48.525Z"
   },
   {
    "duration": 0,
    "start_time": "2022-05-12T07:02:48.526Z"
   },
   {
    "duration": 0,
    "start_time": "2022-05-12T07:02:48.527Z"
   },
   {
    "duration": 0,
    "start_time": "2022-05-12T07:02:48.527Z"
   },
   {
    "duration": 0,
    "start_time": "2022-05-12T07:02:48.528Z"
   },
   {
    "duration": 0,
    "start_time": "2022-05-12T07:02:48.528Z"
   },
   {
    "duration": 0,
    "start_time": "2022-05-12T07:02:48.529Z"
   },
   {
    "duration": 0,
    "start_time": "2022-05-12T07:02:48.531Z"
   },
   {
    "duration": 0,
    "start_time": "2022-05-12T07:02:48.531Z"
   },
   {
    "duration": 0,
    "start_time": "2022-05-12T07:02:48.532Z"
   },
   {
    "duration": 0,
    "start_time": "2022-05-12T07:02:48.533Z"
   },
   {
    "duration": 0,
    "start_time": "2022-05-12T07:02:48.534Z"
   },
   {
    "duration": 0,
    "start_time": "2022-05-12T07:02:48.576Z"
   },
   {
    "duration": 0,
    "start_time": "2022-05-12T07:02:48.577Z"
   },
   {
    "duration": 0,
    "start_time": "2022-05-12T07:02:48.582Z"
   },
   {
    "duration": 0,
    "start_time": "2022-05-12T07:02:48.583Z"
   },
   {
    "duration": 0,
    "start_time": "2022-05-12T07:02:48.591Z"
   },
   {
    "duration": 0,
    "start_time": "2022-05-12T07:02:48.592Z"
   },
   {
    "duration": 0,
    "start_time": "2022-05-12T07:02:48.592Z"
   },
   {
    "duration": 837,
    "start_time": "2022-05-12T07:05:19.936Z"
   },
   {
    "duration": 465,
    "start_time": "2022-05-12T07:05:20.776Z"
   },
   {
    "duration": 158,
    "start_time": "2022-05-12T07:05:21.242Z"
   },
   {
    "duration": 1642,
    "start_time": "2022-05-12T07:05:21.402Z"
   },
   {
    "duration": 9,
    "start_time": "2022-05-12T07:05:23.046Z"
   },
   {
    "duration": 115,
    "start_time": "2022-05-12T07:05:23.056Z"
   },
   {
    "duration": 40,
    "start_time": "2022-05-12T07:05:23.172Z"
   },
   {
    "duration": 63,
    "start_time": "2022-05-12T07:05:23.213Z"
   },
   {
    "duration": 24,
    "start_time": "2022-05-12T07:05:23.277Z"
   },
   {
    "duration": 23,
    "start_time": "2022-05-12T07:05:23.304Z"
   },
   {
    "duration": 51,
    "start_time": "2022-05-12T07:05:23.329Z"
   },
   {
    "duration": 143,
    "start_time": "2022-05-12T07:05:23.382Z"
   },
   {
    "duration": 56,
    "start_time": "2022-05-12T07:05:23.527Z"
   },
   {
    "duration": 150,
    "start_time": "2022-05-12T07:05:23.592Z"
   },
   {
    "duration": 66,
    "start_time": "2022-05-12T07:05:23.744Z"
   },
   {
    "duration": 3755,
    "start_time": "2022-05-12T07:05:23.812Z"
   },
   {
    "duration": 4116,
    "start_time": "2022-05-12T07:05:27.569Z"
   },
   {
    "duration": 5223,
    "start_time": "2022-05-12T07:05:31.688Z"
   },
   {
    "duration": 1547,
    "start_time": "2022-05-12T07:05:36.912Z"
   },
   {
    "duration": 135,
    "start_time": "2022-05-12T07:05:38.461Z"
   },
   {
    "duration": 13,
    "start_time": "2022-05-12T07:05:38.599Z"
   },
   {
    "duration": 43,
    "start_time": "2022-05-12T07:05:38.614Z"
   },
   {
    "duration": 40,
    "start_time": "2022-05-12T07:05:38.659Z"
   },
   {
    "duration": 623,
    "start_time": "2022-05-12T07:05:38.701Z"
   },
   {
    "duration": 144,
    "start_time": "2022-05-12T07:05:39.327Z"
   },
   {
    "duration": 141,
    "start_time": "2022-05-12T07:05:39.475Z"
   },
   {
    "duration": 127,
    "start_time": "2022-05-12T07:05:39.617Z"
   },
   {
    "duration": 158,
    "start_time": "2022-05-12T07:05:39.747Z"
   },
   {
    "duration": 143,
    "start_time": "2022-05-12T07:05:39.907Z"
   },
   {
    "duration": 5,
    "start_time": "2022-05-12T07:05:40.052Z"
   },
   {
    "duration": 154,
    "start_time": "2022-05-12T07:05:40.058Z"
   },
   {
    "duration": 135,
    "start_time": "2022-05-12T07:05:40.214Z"
   },
   {
    "duration": 224,
    "start_time": "2022-05-12T07:05:40.351Z"
   },
   {
    "duration": 133,
    "start_time": "2022-05-12T07:05:40.577Z"
   },
   {
    "duration": 184,
    "start_time": "2022-05-12T07:05:40.712Z"
   },
   {
    "duration": 133,
    "start_time": "2022-05-12T07:05:40.898Z"
   },
   {
    "duration": 8,
    "start_time": "2022-05-12T07:05:41.032Z"
   },
   {
    "duration": 7,
    "start_time": "2022-05-12T07:05:41.042Z"
   },
   {
    "duration": 24,
    "start_time": "2022-05-12T07:05:41.051Z"
   },
   {
    "duration": 12,
    "start_time": "2022-05-12T07:05:41.077Z"
   },
   {
    "duration": 21,
    "start_time": "2022-05-12T07:05:41.096Z"
   },
   {
    "duration": 28,
    "start_time": "2022-05-12T07:05:41.119Z"
   },
   {
    "duration": 31,
    "start_time": "2022-05-12T07:05:41.149Z"
   },
   {
    "duration": 7,
    "start_time": "2022-05-12T07:05:41.182Z"
   },
   {
    "duration": 24,
    "start_time": "2022-05-12T07:05:41.191Z"
   },
   {
    "duration": 216,
    "start_time": "2022-05-12T07:05:53.596Z"
   },
   {
    "duration": 15,
    "start_time": "2022-05-12T07:08:58.128Z"
   },
   {
    "duration": 831,
    "start_time": "2022-05-12T12:42:00.092Z"
   },
   {
    "duration": 291,
    "start_time": "2022-05-12T12:42:00.926Z"
   },
   {
    "duration": 0,
    "start_time": "2022-05-12T12:42:01.221Z"
   },
   {
    "duration": 0,
    "start_time": "2022-05-12T12:42:01.223Z"
   },
   {
    "duration": 0,
    "start_time": "2022-05-12T12:42:01.225Z"
   },
   {
    "duration": 0,
    "start_time": "2022-05-12T12:42:01.227Z"
   },
   {
    "duration": 0,
    "start_time": "2022-05-12T12:42:01.228Z"
   },
   {
    "duration": 0,
    "start_time": "2022-05-12T12:42:01.230Z"
   },
   {
    "duration": 0,
    "start_time": "2022-05-12T12:42:01.232Z"
   },
   {
    "duration": 0,
    "start_time": "2022-05-12T12:42:01.233Z"
   },
   {
    "duration": 0,
    "start_time": "2022-05-12T12:42:01.235Z"
   },
   {
    "duration": 0,
    "start_time": "2022-05-12T12:42:01.237Z"
   },
   {
    "duration": 0,
    "start_time": "2022-05-12T12:42:01.239Z"
   },
   {
    "duration": 0,
    "start_time": "2022-05-12T12:42:01.241Z"
   },
   {
    "duration": 0,
    "start_time": "2022-05-12T12:42:01.243Z"
   },
   {
    "duration": 1,
    "start_time": "2022-05-12T12:42:01.244Z"
   },
   {
    "duration": 0,
    "start_time": "2022-05-12T12:42:01.246Z"
   },
   {
    "duration": 0,
    "start_time": "2022-05-12T12:42:01.248Z"
   },
   {
    "duration": 0,
    "start_time": "2022-05-12T12:42:01.250Z"
   },
   {
    "duration": 0,
    "start_time": "2022-05-12T12:42:01.251Z"
   },
   {
    "duration": 0,
    "start_time": "2022-05-12T12:42:01.301Z"
   },
   {
    "duration": 0,
    "start_time": "2022-05-12T12:42:01.302Z"
   },
   {
    "duration": 0,
    "start_time": "2022-05-12T12:42:01.303Z"
   },
   {
    "duration": 0,
    "start_time": "2022-05-12T12:42:01.304Z"
   },
   {
    "duration": 0,
    "start_time": "2022-05-12T12:42:01.306Z"
   },
   {
    "duration": 0,
    "start_time": "2022-05-12T12:42:01.307Z"
   },
   {
    "duration": 0,
    "start_time": "2022-05-12T12:42:01.308Z"
   },
   {
    "duration": 0,
    "start_time": "2022-05-12T12:42:01.309Z"
   },
   {
    "duration": 0,
    "start_time": "2022-05-12T12:42:01.310Z"
   },
   {
    "duration": 0,
    "start_time": "2022-05-12T12:42:01.311Z"
   },
   {
    "duration": 0,
    "start_time": "2022-05-12T12:42:01.312Z"
   },
   {
    "duration": 0,
    "start_time": "2022-05-12T12:42:01.313Z"
   },
   {
    "duration": 0,
    "start_time": "2022-05-12T12:42:01.314Z"
   },
   {
    "duration": 0,
    "start_time": "2022-05-12T12:42:01.315Z"
   },
   {
    "duration": 0,
    "start_time": "2022-05-12T12:42:01.316Z"
   },
   {
    "duration": 0,
    "start_time": "2022-05-12T12:42:01.317Z"
   },
   {
    "duration": 0,
    "start_time": "2022-05-12T12:42:01.318Z"
   },
   {
    "duration": 0,
    "start_time": "2022-05-12T12:42:01.319Z"
   },
   {
    "duration": 0,
    "start_time": "2022-05-12T12:42:01.321Z"
   },
   {
    "duration": 0,
    "start_time": "2022-05-12T12:42:01.322Z"
   },
   {
    "duration": 0,
    "start_time": "2022-05-12T12:42:01.323Z"
   },
   {
    "duration": 0,
    "start_time": "2022-05-12T12:42:01.324Z"
   },
   {
    "duration": 0,
    "start_time": "2022-05-12T12:42:01.325Z"
   },
   {
    "duration": 0,
    "start_time": "2022-05-12T12:42:01.326Z"
   },
   {
    "duration": 0,
    "start_time": "2022-05-12T12:42:01.327Z"
   },
   {
    "duration": 2490,
    "start_time": "2022-05-12T12:44:26.017Z"
   },
   {
    "duration": 181,
    "start_time": "2022-05-12T12:44:42.355Z"
   },
   {
    "duration": 196,
    "start_time": "2022-05-12T12:44:51.063Z"
   },
   {
    "duration": 191,
    "start_time": "2022-05-12T12:48:40.572Z"
   },
   {
    "duration": 1066,
    "start_time": "2022-05-12T12:50:00.524Z"
   },
   {
    "duration": 224,
    "start_time": "2022-05-12T12:50:01.593Z"
   },
   {
    "duration": 0,
    "start_time": "2022-05-12T12:50:01.821Z"
   },
   {
    "duration": 0,
    "start_time": "2022-05-12T12:50:01.822Z"
   },
   {
    "duration": 0,
    "start_time": "2022-05-12T12:50:01.823Z"
   },
   {
    "duration": 0,
    "start_time": "2022-05-12T12:50:01.825Z"
   },
   {
    "duration": 0,
    "start_time": "2022-05-12T12:50:01.826Z"
   },
   {
    "duration": 0,
    "start_time": "2022-05-12T12:50:01.827Z"
   },
   {
    "duration": 0,
    "start_time": "2022-05-12T12:50:01.828Z"
   },
   {
    "duration": 0,
    "start_time": "2022-05-12T12:50:01.829Z"
   },
   {
    "duration": 0,
    "start_time": "2022-05-12T12:50:01.831Z"
   },
   {
    "duration": 0,
    "start_time": "2022-05-12T12:50:01.832Z"
   },
   {
    "duration": 0,
    "start_time": "2022-05-12T12:50:01.833Z"
   },
   {
    "duration": 0,
    "start_time": "2022-05-12T12:50:01.834Z"
   },
   {
    "duration": 0,
    "start_time": "2022-05-12T12:50:01.835Z"
   },
   {
    "duration": 0,
    "start_time": "2022-05-12T12:50:01.836Z"
   },
   {
    "duration": 0,
    "start_time": "2022-05-12T12:50:01.837Z"
   },
   {
    "duration": 0,
    "start_time": "2022-05-12T12:50:01.838Z"
   },
   {
    "duration": 0,
    "start_time": "2022-05-12T12:50:01.839Z"
   },
   {
    "duration": 0,
    "start_time": "2022-05-12T12:50:01.840Z"
   },
   {
    "duration": 0,
    "start_time": "2022-05-12T12:50:01.841Z"
   },
   {
    "duration": 0,
    "start_time": "2022-05-12T12:50:01.843Z"
   },
   {
    "duration": 0,
    "start_time": "2022-05-12T12:50:01.844Z"
   },
   {
    "duration": 0,
    "start_time": "2022-05-12T12:50:01.845Z"
   },
   {
    "duration": 0,
    "start_time": "2022-05-12T12:50:01.846Z"
   },
   {
    "duration": 0,
    "start_time": "2022-05-12T12:50:01.847Z"
   },
   {
    "duration": 0,
    "start_time": "2022-05-12T12:50:01.848Z"
   },
   {
    "duration": 0,
    "start_time": "2022-05-12T12:50:01.849Z"
   },
   {
    "duration": 0,
    "start_time": "2022-05-12T12:50:01.850Z"
   },
   {
    "duration": 0,
    "start_time": "2022-05-12T12:50:01.852Z"
   },
   {
    "duration": 0,
    "start_time": "2022-05-12T12:50:01.853Z"
   },
   {
    "duration": 0,
    "start_time": "2022-05-12T12:50:01.854Z"
   },
   {
    "duration": 0,
    "start_time": "2022-05-12T12:50:01.856Z"
   },
   {
    "duration": 0,
    "start_time": "2022-05-12T12:50:01.901Z"
   },
   {
    "duration": 0,
    "start_time": "2022-05-12T12:50:01.902Z"
   },
   {
    "duration": 0,
    "start_time": "2022-05-12T12:50:01.904Z"
   },
   {
    "duration": 0,
    "start_time": "2022-05-12T12:50:01.905Z"
   },
   {
    "duration": 0,
    "start_time": "2022-05-12T12:50:01.907Z"
   },
   {
    "duration": 0,
    "start_time": "2022-05-12T12:50:01.908Z"
   },
   {
    "duration": 0,
    "start_time": "2022-05-12T12:50:01.910Z"
   },
   {
    "duration": 0,
    "start_time": "2022-05-12T12:50:01.911Z"
   },
   {
    "duration": 0,
    "start_time": "2022-05-12T12:50:01.913Z"
   },
   {
    "duration": 0,
    "start_time": "2022-05-12T12:50:01.914Z"
   },
   {
    "duration": 0,
    "start_time": "2022-05-12T12:50:01.916Z"
   },
   {
    "duration": 0,
    "start_time": "2022-05-12T12:50:01.917Z"
   },
   {
    "duration": 487,
    "start_time": "2022-05-12T12:50:43.615Z"
   },
   {
    "duration": 1958,
    "start_time": "2022-05-12T12:51:49.200Z"
   },
   {
    "duration": 442,
    "start_time": "2022-05-12T12:55:57.039Z"
   },
   {
    "duration": 213,
    "start_time": "2022-05-12T12:57:37.969Z"
   },
   {
    "duration": 507,
    "start_time": "2022-05-12T12:57:54.323Z"
   },
   {
    "duration": 219,
    "start_time": "2022-05-12T13:02:43.724Z"
   },
   {
    "duration": 186,
    "start_time": "2022-05-12T13:02:50.696Z"
   },
   {
    "duration": 316,
    "start_time": "2022-05-12T13:02:58.179Z"
   },
   {
    "duration": 2319,
    "start_time": "2022-05-12T13:03:55.691Z"
   },
   {
    "duration": 2237,
    "start_time": "2022-05-12T13:04:02.664Z"
   },
   {
    "duration": 242,
    "start_time": "2022-05-12T13:05:04.825Z"
   },
   {
    "duration": 201,
    "start_time": "2022-05-12T13:05:15.504Z"
   },
   {
    "duration": 2597,
    "start_time": "2022-05-12T13:05:28.047Z"
   },
   {
    "duration": 234,
    "start_time": "2022-05-12T13:06:34.179Z"
   },
   {
    "duration": 8,
    "start_time": "2022-05-12T13:14:53.838Z"
   },
   {
    "duration": 3,
    "start_time": "2022-05-12T13:15:02.564Z"
   },
   {
    "duration": 3462,
    "start_time": "2022-05-12T13:15:02.568Z"
   },
   {
    "duration": 166,
    "start_time": "2022-05-12T13:15:06.034Z"
   },
   {
    "duration": 1584,
    "start_time": "2022-05-12T13:15:06.202Z"
   },
   {
    "duration": 14,
    "start_time": "2022-05-12T13:15:07.789Z"
   },
   {
    "duration": 100,
    "start_time": "2022-05-12T13:15:07.805Z"
   },
   {
    "duration": 27,
    "start_time": "2022-05-12T13:15:07.907Z"
   },
   {
    "duration": 67,
    "start_time": "2022-05-12T13:15:07.936Z"
   },
   {
    "duration": 19,
    "start_time": "2022-05-12T13:15:08.005Z"
   },
   {
    "duration": 22,
    "start_time": "2022-05-12T13:15:08.026Z"
   },
   {
    "duration": 55,
    "start_time": "2022-05-12T13:15:08.051Z"
   },
   {
    "duration": 196,
    "start_time": "2022-05-12T13:15:08.108Z"
   },
   {
    "duration": 31,
    "start_time": "2022-05-12T13:15:08.307Z"
   },
   {
    "duration": 92,
    "start_time": "2022-05-12T13:15:08.340Z"
   },
   {
    "duration": 250,
    "start_time": "2022-05-12T13:15:08.434Z"
   },
   {
    "duration": 82,
    "start_time": "2022-05-12T13:15:08.687Z"
   },
   {
    "duration": 3855,
    "start_time": "2022-05-12T13:15:08.771Z"
   },
   {
    "duration": 4711,
    "start_time": "2022-05-12T13:15:12.628Z"
   },
   {
    "duration": 6442,
    "start_time": "2022-05-12T13:15:17.342Z"
   },
   {
    "duration": 1577,
    "start_time": "2022-05-12T13:15:23.786Z"
   },
   {
    "duration": 120,
    "start_time": "2022-05-12T13:15:25.365Z"
   },
   {
    "duration": 25,
    "start_time": "2022-05-12T13:15:25.486Z"
   },
   {
    "duration": 29,
    "start_time": "2022-05-12T13:15:25.513Z"
   },
   {
    "duration": 27,
    "start_time": "2022-05-12T13:15:25.544Z"
   },
   {
    "duration": 713,
    "start_time": "2022-05-12T13:15:25.573Z"
   },
   {
    "duration": 132,
    "start_time": "2022-05-12T13:15:26.288Z"
   },
   {
    "duration": 134,
    "start_time": "2022-05-12T13:15:26.422Z"
   },
   {
    "duration": 116,
    "start_time": "2022-05-12T13:15:26.558Z"
   },
   {
    "duration": 141,
    "start_time": "2022-05-12T13:15:26.677Z"
   },
   {
    "duration": 136,
    "start_time": "2022-05-12T13:15:26.820Z"
   },
   {
    "duration": 7,
    "start_time": "2022-05-12T13:15:26.958Z"
   },
   {
    "duration": 211,
    "start_time": "2022-05-12T13:15:26.967Z"
   },
   {
    "duration": 211,
    "start_time": "2022-05-12T13:15:27.180Z"
   },
   {
    "duration": 211,
    "start_time": "2022-05-12T13:15:27.392Z"
   },
   {
    "duration": 132,
    "start_time": "2022-05-12T13:15:27.604Z"
   },
   {
    "duration": 128,
    "start_time": "2022-05-12T13:15:27.738Z"
   },
   {
    "duration": 146,
    "start_time": "2022-05-12T13:15:27.868Z"
   },
   {
    "duration": 9,
    "start_time": "2022-05-12T13:15:28.016Z"
   },
   {
    "duration": 9,
    "start_time": "2022-05-12T13:15:28.026Z"
   },
   {
    "duration": 7,
    "start_time": "2022-05-12T13:15:28.037Z"
   },
   {
    "duration": 8,
    "start_time": "2022-05-12T13:15:28.046Z"
   },
   {
    "duration": 10,
    "start_time": "2022-05-12T13:15:28.055Z"
   },
   {
    "duration": 48,
    "start_time": "2022-05-12T13:15:28.067Z"
   },
   {
    "duration": 25,
    "start_time": "2022-05-12T13:15:28.116Z"
   },
   {
    "duration": 6,
    "start_time": "2022-05-12T13:15:28.144Z"
   },
   {
    "duration": 6,
    "start_time": "2022-05-12T13:15:28.152Z"
   }
  ],
  "kernelspec": {
   "display_name": "Python 3 (ipykernel)",
   "language": "python",
   "name": "python3"
  },
  "language_info": {
   "codemirror_mode": {
    "name": "ipython",
    "version": 3
   },
   "file_extension": ".py",
   "mimetype": "text/x-python",
   "name": "python",
   "nbconvert_exporter": "python",
   "pygments_lexer": "ipython3",
   "version": "3.9.7"
  },
  "toc": {
   "base_numbering": 1,
   "nav_menu": {},
   "number_sections": true,
   "sideBar": true,
   "skip_h1_title": true,
   "title_cell": "Table of Contents",
   "title_sidebar": "Contents",
   "toc_cell": false,
   "toc_position": {},
   "toc_section_display": true,
   "toc_window_display": false
  }
 },
 "nbformat": 4,
 "nbformat_minor": 5
}
