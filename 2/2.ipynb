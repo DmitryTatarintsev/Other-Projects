{
 "cells": [
  {
   "cell_type": "markdown",
   "metadata": {},
   "source": [
    "## Описание проекта\n",
    "\n",
    "Заказчик — кредитный отдел банка. Нужно разобраться, влияет ли семейное положение и количество детей клиента на факт погашения кредита в срок. Входные данные от банка — статистика о платёжеспособности клиентов.\n",
    "\n",
    "Результаты исследования будут учтены при построении модели кредитного скоринга — специальной системы, которая оценивает способность потенциального заёмщика вернуть кредит банку."
   ]
  },
  {
   "cell_type": "markdown",
   "metadata": {},
   "source": [
    "## Обзор данных"
   ]
  },
  {
   "cell_type": "code",
   "execution_count": 3,
   "metadata": {},
   "outputs": [],
   "source": [
    "# Анализ данных\n",
    "import pandas as pd\n",
    "import numpy as np\n",
    "from IPython.display import display\n"
   ]
  },
  {
   "cell_type": "markdown",
   "metadata": {},
   "source": [
    "**Описание данных df**\n",
    "* `childre` — количество детей в семье.\n",
    "* `days_employed` — общий трудовой стаж в днях.\n",
    "* `dob_years` — возраст клиента в годах.\n",
    "* `education` — уровень образования клиента.\n",
    "* `education_id` — идентификатор уровня образования.\n",
    "* `family_status` — семейное положение.\n",
    "* `family_status_id` — идентификатор семейного положения.\n",
    "* `gender` — пол клиента.\n",
    "* `income_type` — тип занятости.\n",
    "* `debt` — имел ли задолженность по возврату кредитов.\n",
    "* `total_income` — ежемесячный доход.\n",
    "* `purpose` — цель получения кредита."
   ]
  },
  {
   "cell_type": "code",
   "execution_count": 4,
   "metadata": {},
   "outputs": [
    {
     "data": {
      "text/html": [
       "<div>\n",
       "<style scoped>\n",
       "    .dataframe tbody tr th:only-of-type {\n",
       "        vertical-align: middle;\n",
       "    }\n",
       "\n",
       "    .dataframe tbody tr th {\n",
       "        vertical-align: top;\n",
       "    }\n",
       "\n",
       "    .dataframe thead th {\n",
       "        text-align: right;\n",
       "    }\n",
       "</style>\n",
       "<table border=\"1\" class=\"dataframe\">\n",
       "  <thead>\n",
       "    <tr style=\"text-align: right;\">\n",
       "      <th></th>\n",
       "      <th>children</th>\n",
       "      <th>days_employed</th>\n",
       "      <th>dob_years</th>\n",
       "      <th>education</th>\n",
       "      <th>education_id</th>\n",
       "      <th>family_status</th>\n",
       "      <th>family_status_id</th>\n",
       "      <th>gender</th>\n",
       "      <th>income_type</th>\n",
       "      <th>debt</th>\n",
       "      <th>total_income</th>\n",
       "      <th>purpose</th>\n",
       "    </tr>\n",
       "  </thead>\n",
       "  <tbody>\n",
       "    <tr>\n",
       "      <th>0</th>\n",
       "      <td>1</td>\n",
       "      <td>-8437.673028</td>\n",
       "      <td>42</td>\n",
       "      <td>высшее</td>\n",
       "      <td>0</td>\n",
       "      <td>женат / замужем</td>\n",
       "      <td>0</td>\n",
       "      <td>F</td>\n",
       "      <td>сотрудник</td>\n",
       "      <td>0</td>\n",
       "      <td>253875.639453</td>\n",
       "      <td>покупка жилья</td>\n",
       "    </tr>\n",
       "    <tr>\n",
       "      <th>1</th>\n",
       "      <td>1</td>\n",
       "      <td>-4024.803754</td>\n",
       "      <td>36</td>\n",
       "      <td>среднее</td>\n",
       "      <td>1</td>\n",
       "      <td>женат / замужем</td>\n",
       "      <td>0</td>\n",
       "      <td>F</td>\n",
       "      <td>сотрудник</td>\n",
       "      <td>0</td>\n",
       "      <td>112080.014102</td>\n",
       "      <td>приобретение автомобиля</td>\n",
       "    </tr>\n",
       "    <tr>\n",
       "      <th>2</th>\n",
       "      <td>0</td>\n",
       "      <td>-5623.422610</td>\n",
       "      <td>33</td>\n",
       "      <td>Среднее</td>\n",
       "      <td>1</td>\n",
       "      <td>женат / замужем</td>\n",
       "      <td>0</td>\n",
       "      <td>M</td>\n",
       "      <td>сотрудник</td>\n",
       "      <td>0</td>\n",
       "      <td>145885.952297</td>\n",
       "      <td>покупка жилья</td>\n",
       "    </tr>\n",
       "    <tr>\n",
       "      <th>3</th>\n",
       "      <td>3</td>\n",
       "      <td>-4124.747207</td>\n",
       "      <td>32</td>\n",
       "      <td>среднее</td>\n",
       "      <td>1</td>\n",
       "      <td>женат / замужем</td>\n",
       "      <td>0</td>\n",
       "      <td>M</td>\n",
       "      <td>сотрудник</td>\n",
       "      <td>0</td>\n",
       "      <td>267628.550329</td>\n",
       "      <td>дополнительное образование</td>\n",
       "    </tr>\n",
       "    <tr>\n",
       "      <th>4</th>\n",
       "      <td>0</td>\n",
       "      <td>340266.072047</td>\n",
       "      <td>53</td>\n",
       "      <td>среднее</td>\n",
       "      <td>1</td>\n",
       "      <td>гражданский брак</td>\n",
       "      <td>1</td>\n",
       "      <td>F</td>\n",
       "      <td>пенсионер</td>\n",
       "      <td>0</td>\n",
       "      <td>158616.077870</td>\n",
       "      <td>сыграть свадьбу</td>\n",
       "    </tr>\n",
       "  </tbody>\n",
       "</table>\n",
       "</div>"
      ],
      "text/plain": [
       "   children  days_employed  dob_years education  education_id  \\\n",
       "0         1   -8437.673028         42    высшее             0   \n",
       "1         1   -4024.803754         36   среднее             1   \n",
       "2         0   -5623.422610         33   Среднее             1   \n",
       "3         3   -4124.747207         32   среднее             1   \n",
       "4         0  340266.072047         53   среднее             1   \n",
       "\n",
       "      family_status  family_status_id gender income_type  debt   total_income  \\\n",
       "0   женат / замужем                 0      F   сотрудник     0  253875.639453   \n",
       "1   женат / замужем                 0      F   сотрудник     0  112080.014102   \n",
       "2   женат / замужем                 0      M   сотрудник     0  145885.952297   \n",
       "3   женат / замужем                 0      M   сотрудник     0  267628.550329   \n",
       "4  гражданский брак                 1      F   пенсионер     0  158616.077870   \n",
       "\n",
       "                      purpose  \n",
       "0               покупка жилья  \n",
       "1     приобретение автомобиля  \n",
       "2               покупка жилья  \n",
       "3  дополнительное образование  \n",
       "4             сыграть свадьбу  "
      ]
     },
     "metadata": {},
     "output_type": "display_data"
    }
   ],
   "source": [
    "display(df.head())\n"
   ]
  },
  {
   "cell_type": "code",
   "execution_count": 5,
   "metadata": {},
   "outputs": [
    {
     "name": "stdout",
     "output_type": "stream",
     "text": [
      "<class 'pandas.core.frame.DataFrame'>\n",
      "RangeIndex: 21525 entries, 0 to 21524\n",
      "Data columns (total 12 columns):\n",
      " #   Column            Non-Null Count  Dtype  \n",
      "---  ------            --------------  -----  \n",
      " 0   children          21525 non-null  int64  \n",
      " 1   days_employed     19351 non-null  float64\n",
      " 2   dob_years         21525 non-null  int64  \n",
      " 3   education         21525 non-null  object \n",
      " 4   education_id      21525 non-null  int64  \n",
      " 5   family_status     21525 non-null  object \n",
      " 6   family_status_id  21525 non-null  int64  \n",
      " 7   gender            21525 non-null  object \n",
      " 8   income_type       21525 non-null  object \n",
      " 9   debt              21525 non-null  int64  \n",
      " 10  total_income      19351 non-null  float64\n",
      " 11  purpose           21525 non-null  object \n",
      "dtypes: float64(2), int64(5), object(5)\n",
      "memory usage: 2.0+ MB\n"
     ]
    }
   ],
   "source": [
    "df.info()\n"
   ]
  },
  {
   "cell_type": "markdown",
   "metadata": {},
   "source": [
    "В результате обзора данных выявлены аномальные значения столбца `days_employed` - общий трудовой стаж не может иметь отрицательное количество дней.\n",
    "\n",
    "Данные столбцов `days_employed` и `total_income` утрачены."
   ]
  },
  {
   "cell_type": "markdown",
   "metadata": {},
   "source": [
    "## Предобработка данных"
   ]
  },
  {
   "cell_type": "markdown",
   "metadata": {},
   "source": [
    "### Предобработка данных. Заполнение пропущенных значений"
   ]
  },
  {
   "cell_type": "code",
   "execution_count": 6,
   "metadata": {},
   "outputs": [
    {
     "data": {
      "text/plain": [
       "children               0\n",
       "days_employed       2174\n",
       "dob_years              0\n",
       "education              0\n",
       "education_id           0\n",
       "family_status          0\n",
       "family_status_id       0\n",
       "gender                 0\n",
       "income_type            0\n",
       "debt                   0\n",
       "total_income        2174\n",
       "purpose                0\n",
       "dtype: int64"
      ]
     },
     "execution_count": 6,
     "metadata": {},
     "output_type": "execute_result"
    }
   ],
   "source": [
    "# Поиск пропущенных значений\n",
    "df.isna().sum()\n"
   ]
  },
  {
   "cell_type": "markdown",
   "metadata": {},
   "source": [
    "Входе предобработки данных обнаружено, что в столбцах количества отработанных дней и общая прибыль пропущены значения. Оба столбца имеют одинаковое количество пропусков."
   ]
  },
  {
   "cell_type": "code",
   "execution_count": 7,
   "metadata": {},
   "outputs": [
    {
     "name": "stdout",
     "output_type": "stream",
     "text": [
      "Доля пропущенных значений days_employed: 0.10099883855981417\n",
      "Доля пропущенных значений total_income: 0.10099883855981417\n"
     ]
    }
   ],
   "source": [
    "# Доля пропущенных значений \n",
    "print('Доля пропущенных значений days_employed:',df['days_employed'].isna().sum()/df.shape[0])\n",
    "print('Доля пропущенных значений total_income:',df['total_income'].isna().sum()/df.shape[0])\n"
   ]
  },
  {
   "cell_type": "markdown",
   "metadata": {},
   "source": [
    "Доля пропущенных значений в каждом из двух столбцов равна 10%."
   ]
  },
  {
   "cell_type": "code",
   "execution_count": 8,
   "metadata": {},
   "outputs": [
    {
     "data": {
      "text/plain": [
       "children            0.000000\n",
       "days_employed       0.100999\n",
       "dob_years           0.000000\n",
       "education           0.000000\n",
       "education_id        0.000000\n",
       "family_status       0.000000\n",
       "family_status_id    0.000000\n",
       "gender              0.000000\n",
       "income_type         0.000000\n",
       "debt                0.000000\n",
       "total_income        0.100999\n",
       "purpose             0.000000\n",
       "dtype: float64"
      ]
     },
     "execution_count": 8,
     "metadata": {},
     "output_type": "execute_result"
    }
   ],
   "source": [
    "df.isna().mean()\n"
   ]
  },
  {
   "cell_type": "markdown",
   "metadata": {},
   "source": [
    "Вероятно автоматизированная система сбора информации дала сбой или клиент сам забыл их указать, что послужило причиной пропущенных значений."
   ]
  },
  {
   "cell_type": "code",
   "execution_count": 9,
   "metadata": {},
   "outputs": [],
   "source": [
    "# Заполнение пропущенных значений days_employed и total_income медианным значением\n",
    "days_employed_median = df.days_employed.sort_values().median()\n",
    "df.days_employed = df.days_employed.fillna(days_employed_median)\n",
    "\n",
    "total_income_median = df.total_income.sort_values().median()\n",
    "df.total_income = df.total_income.fillna(total_income_median)\n"
   ]
  },
  {
   "cell_type": "markdown",
   "metadata": {},
   "source": [
    "Строки c пропусками по столбцам `days_employed` и `total_income` могут быть полезны для исследования, а их точные значения не так важны. Заполним пропуски средним значением вместо нуля, что бы не создавать новые минимальные значения для столбцов. Некоторые значения в столбцах аномально велики что бы использовать метод mean() для определения среднего числа, поэтому будет лучше использовать метод median(). "
   ]
  },
  {
   "cell_type": "code",
   "execution_count": 10,
   "metadata": {},
   "outputs": [],
   "source": [
    "# Предобработка значений days_employed, приведение к модулю\n",
    "df.days_employed = df.days_employed.apply(lambda x: abs(x))\n"
   ]
  },
  {
   "cell_type": "markdown",
   "metadata": {},
   "source": [
    "Вероятно из-за технического сбоя системы сбора информации некоторые значения столбца `days_employed` были отрицательными."
   ]
  },
  {
   "cell_type": "code",
   "execution_count": 11,
   "metadata": {},
   "outputs": [
    {
     "data": {
      "text/plain": [
       "children              int64\n",
       "days_employed       float64\n",
       "dob_years             int64\n",
       "education            object\n",
       "education_id          int64\n",
       "family_status        object\n",
       "family_status_id      int64\n",
       "gender               object\n",
       "income_type          object\n",
       "debt                  int64\n",
       "total_income        float64\n",
       "purpose              object\n",
       "dtype: object"
      ]
     },
     "execution_count": 11,
     "metadata": {},
     "output_type": "execute_result"
    }
   ],
   "source": [
    "# Вещественный тип данных total_income\n",
    "df.dtypes\n"
   ]
  },
  {
   "cell_type": "code",
   "execution_count": 12,
   "metadata": {},
   "outputs": [
    {
     "data": {
      "text/plain": [
       "children              int64\n",
       "days_employed       float64\n",
       "dob_years             int64\n",
       "education            object\n",
       "education_id          int64\n",
       "family_status        object\n",
       "family_status_id      int64\n",
       "gender               object\n",
       "income_type          object\n",
       "debt                  int64\n",
       "total_income          int64\n",
       "purpose              object\n",
       "dtype: object"
      ]
     },
     "execution_count": 12,
     "metadata": {},
     "output_type": "execute_result"
    }
   ],
   "source": [
    "# Целочисленный тип данных total_income\n",
    "df.total_income = df.total_income.astype(int)\n",
    "df.dtypes\n"
   ]
  },
  {
   "cell_type": "markdown",
   "metadata": {},
   "source": [
    "### Предобработка данных. Удаление дубликатов"
   ]
  },
  {
   "cell_type": "code",
   "execution_count": 13,
   "metadata": {},
   "outputs": [
    {
     "data": {
      "text/plain": [
       "54"
      ]
     },
     "execution_count": 13,
     "metadata": {},
     "output_type": "execute_result"
    }
   ],
   "source": [
    "# Поиск явных дупликатов\n",
    "df.duplicated().sum()\n"
   ]
  },
  {
   "cell_type": "code",
   "execution_count": 14,
   "metadata": {},
   "outputs": [
    {
     "data": {
      "text/plain": [
       "0"
      ]
     },
     "execution_count": 14,
     "metadata": {},
     "output_type": "execute_result"
    }
   ],
   "source": [
    "# Устранение явных дупликатов\n",
    "df = df.drop_duplicates().reset_index(drop=True)\n",
    "df.duplicated().sum()\n"
   ]
  },
  {
   "cell_type": "code",
   "execution_count": 15,
   "metadata": {},
   "outputs": [],
   "source": [
    "# Создание функции unique_in_columns_searcher() для поиска аномальных значений в столбцах\n",
    "def unique_in_columns_searcher(data):\n",
    "    columns = list(data.columns)\n",
    "    for value in columns:\n",
    "        print(f'{value}:{data[value].sort_values().unique()}')\n",
    "        print('')\n"
   ]
  },
  {
   "cell_type": "code",
   "execution_count": 16,
   "metadata": {
    "scrolled": true,
    "tags": []
   },
   "outputs": [
    {
     "name": "stdout",
     "output_type": "stream",
     "text": [
      "children:[-1  0  1  2  3  4  5 20]\n",
      "\n",
      "days_employed:[2.41416332e+01 2.42406948e+01 3.01953372e+01 ... 4.01675093e+05\n",
      " 4.01715812e+05 4.01755400e+05]\n",
      "\n",
      "dob_years:[ 0 19 20 21 22 23 24 25 26 27 28 29 30 31 32 33 34 35 36 37 38 39 40 41\n",
      " 42 43 44 45 46 47 48 49 50 51 52 53 54 55 56 57 58 59 60 61 62 63 64 65\n",
      " 66 67 68 69 70 71 72 73 74 75]\n",
      "\n",
      "education:['ВЫСШЕЕ' 'Высшее' 'НАЧАЛЬНОЕ' 'НЕОКОНЧЕННОЕ ВЫСШЕЕ' 'Начальное'\n",
      " 'Неоконченное высшее' 'СРЕДНЕЕ' 'Среднее' 'УЧЕНАЯ СТЕПЕНЬ'\n",
      " 'Ученая степень' 'высшее' 'начальное' 'неоконченное высшее' 'среднее'\n",
      " 'ученая степень']\n",
      "\n",
      "education_id:[0 1 2 3 4]\n",
      "\n",
      "family_status:['Не женат / не замужем' 'в разводе' 'вдовец / вдова' 'гражданский брак'\n",
      " 'женат / замужем']\n",
      "\n",
      "family_status_id:[0 1 2 3 4]\n",
      "\n",
      "gender:['F' 'M' 'XNA']\n",
      "\n",
      "income_type:['безработный' 'в декрете' 'госслужащий' 'компаньон' 'пенсионер'\n",
      " 'предприниматель' 'сотрудник' 'студент']\n",
      "\n",
      "debt:[0 1]\n",
      "\n",
      "total_income:[  20667   21205   21367 ... 1726276 2200852 2265604]\n",
      "\n",
      "purpose:['автомобили' 'автомобиль' 'высшее образование'\n",
      " 'дополнительное образование' 'жилье' 'заняться высшим образованием'\n",
      " 'заняться образованием' 'на покупку автомобиля'\n",
      " 'на покупку подержанного автомобиля' 'на покупку своего автомобиля'\n",
      " 'на проведение свадьбы' 'недвижимость' 'образование' 'операции с жильем'\n",
      " 'операции с коммерческой недвижимостью' 'операции с недвижимостью'\n",
      " 'операции со своей недвижимостью' 'покупка жилой недвижимости'\n",
      " 'покупка жилья' 'покупка жилья для сдачи' 'покупка жилья для семьи'\n",
      " 'покупка коммерческой недвижимости' 'покупка недвижимости'\n",
      " 'покупка своего жилья' 'получение высшего образования'\n",
      " 'получение дополнительного образования' 'получение образования'\n",
      " 'приобретение автомобиля' 'профильное образование' 'ремонт жилью'\n",
      " 'свадьба' 'свой автомобиль' 'сделка с автомобилем'\n",
      " 'сделка с подержанным автомобилем' 'строительство жилой недвижимости'\n",
      " 'строительство недвижимости' 'строительство собственной недвижимости'\n",
      " 'сыграть свадьбу']\n",
      "\n"
     ]
    }
   ],
   "source": [
    "# Применение функции unique_in_columns_searcher()\n",
    "unique_in_columns_searcher(df)\n"
   ]
  },
  {
   "cell_type": "code",
   "execution_count": 17,
   "metadata": {},
   "outputs": [
    {
     "name": "stdout",
     "output_type": "stream",
     "text": [
      "С помощью самодельной функцией unique_in_columns_searcher() в таблице были обнаружены аномальные значения.\n",
      "\n",
      "Обнаружены аномальные значения столбца children:\n",
      "47 строк с \"-1\" ребенком в семье и 76 строк с \"20\" детей в семье.\n",
      "Всего строк с аномальными значениями 123 из общего количства 21471 строк в таблице.\n",
      "\n",
      "Обнаружено аномальные значение \"0\" в столбце dob_years. Возраст заемщика не может быть равен 0.\n",
      "Всего 101 строк со значением \"0\" из общего количства 21471 строк в таблице.\n"
     ]
    }
   ],
   "source": [
    "# Результат поиска аномальных значений\n",
    "print('С помощью самодельной функцией unique_in_columns_searcher() в таблице были обнаружены аномальные значения.')\n",
    "print()\n",
    "print('Обнаружены аномальные значения столбца children:') \n",
    "print(f'{df.children[df.children == -1].count()} строк с \"-1\" ребенком в семье и {df.children[df.children == 20].count()} строк с \"20\" детей в семье.')\n",
    "print(f'Всего строк с аномальными значениями {df.children[df.children == -1].count() + df.children[df.children == 20].count()} из общего количства {df.shape[0]} строк в таблице.')\n",
    "print()\n",
    "print('Обнаружено аномальные значение \"0\" в столбце dob_years. Возраст заемщика не может быть равен 0.')\n",
    "print(f'Всего {df.dob_years[df.dob_years==0].count()} строк со значением \"0\" из общего количства {df.shape[0]} строк в таблице.')\n"
   ]
  },
  {
   "cell_type": "code",
   "execution_count": 18,
   "metadata": {},
   "outputs": [
    {
     "name": "stdout",
     "output_type": "stream",
     "text": [
      "children:[0 1 2 3 4 5]\n",
      "\n",
      "days_employed:[2.41416332e+01 2.42406948e+01 3.01953372e+01 ... 4.01675093e+05\n",
      " 4.01715812e+05 4.01755400e+05]\n",
      "\n",
      "dob_years:[19 20 21 22 23 24 25 26 27 28 29 30 31 32 33 34 35 36 37 38 39 40 41 42\n",
      " 43 44 45 46 47 48 49 50 51 52 53 54 55 56 57 58 59 60 61 62 63 64 65 66\n",
      " 67 68 69 70 71 72 73 74 75]\n",
      "\n",
      "education:['высшее' 'начальное' 'неоконченное высшее' 'среднее' 'ученая степень']\n",
      "\n",
      "education_id:[0 1 2 3 4]\n",
      "\n",
      "family_status:['в разводе' 'вдовец / вдова' 'гражданский брак' 'женат / замужем'\n",
      " 'не женат / не замужем']\n",
      "\n",
      "family_status_id:[0 1 2 3 4]\n",
      "\n",
      "gender:['F' 'M' 'XNA']\n",
      "\n",
      "income_type:['безработный' 'в декрете' 'госслужащий' 'компаньон' 'пенсионер'\n",
      " 'предприниматель' 'сотрудник' 'студент']\n",
      "\n",
      "debt:[0 1]\n",
      "\n",
      "total_income:[  20667   21205   21367 ... 1726276 2200852 2265604]\n",
      "\n",
      "purpose:['автомобили' 'автомобиль' 'высшее образование'\n",
      " 'дополнительное образование' 'жилье' 'заняться высшим образованием'\n",
      " 'заняться образованием' 'на покупку автомобиля'\n",
      " 'на покупку подержанного автомобиля' 'на покупку своего автомобиля'\n",
      " 'на проведение свадьбы' 'недвижимость' 'образование' 'операции с жильем'\n",
      " 'операции с коммерческой недвижимостью' 'операции с недвижимостью'\n",
      " 'операции со своей недвижимостью' 'покупка жилой недвижимости'\n",
      " 'покупка жилья' 'покупка жилья для сдачи' 'покупка жилья для семьи'\n",
      " 'покупка коммерческой недвижимости' 'покупка недвижимости'\n",
      " 'покупка своего жилья' 'получение высшего образования'\n",
      " 'получение дополнительного образования' 'получение образования'\n",
      " 'приобретение автомобиля' 'профильное образование' 'ремонт жилью'\n",
      " 'свадьба' 'свой автомобиль' 'сделка с автомобилем'\n",
      " 'сделка с подержанным автомобилем' 'строительство жилой недвижимости'\n",
      " 'строительство недвижимости' 'строительство собственной недвижимости'\n",
      " 'сыграть свадьбу']\n",
      "\n"
     ]
    }
   ],
   "source": [
    "# Устранение неявных дупликатов\n",
    "df = df[(df.children != -1) & (df.children != 20)]\n",
    "df = df[df.dob_years != 0]\n",
    "df.education = df.education.apply(lambda x: x.lower())\n",
    "df.family_status = df.family_status.apply(lambda x: x.lower())\n",
    "unique_in_columns_searcher(df)\n"
   ]
  },
  {
   "cell_type": "markdown",
   "metadata": {},
   "source": [
    "Что бы найти неявные дубликаты я написал функцию `unique_in_columns_searcher()`. Она принимает таблицу с данными, создает список из названий столбцов таблицы, перебирает уникальные значения в столбцах и выводит результат на экран."
   ]
  },
  {
   "cell_type": "markdown",
   "metadata": {},
   "source": [
    "Столбик children (количество детей) имеет такие аномальные значения как \"-1\" и \"20\".\n",
    "* \"-1\" ребёнок - 47 строк  и \"20\" детей - 76 из 21525 строк.\n",
    "* \"-1\" ребенок в семье быть не может, а \"20\" - это неявное нарушение последовательности чисел в столбце. Возможно \"20\" - это \"0\", \"2\" или \"6\". \n",
    "\n",
    "Так как строк с этими значениями относительно общего массива меньше одного процента, лучше их исключить из исследования."
   ]
  },
  {
   "cell_type": "markdown",
   "metadata": {},
   "source": [
    "В столбце `dob_years` обнаружено аномальное значение \"0\". Возраст заемщика не может быть равен нулю. Возможно это значение указывает на то, что пользователь не указал свой возраст или данные были утеряны.\n",
    "Так как строк с этим значением относительно общего массива меньше одного процента, лучше их исключить из исследования."
   ]
  },
  {
   "cell_type": "markdown",
   "metadata": {},
   "source": [
    "Столб `education` имел неявные дубликаты из-за ошибок ручного ввода значений, буквы разного размера. Что бы решить проблему, все значения были заменены на строчные."
   ]
  },
  {
   "cell_type": "markdown",
   "metadata": {},
   "source": [
    "Столб `family_status` имел одно значение с прописной буквы, в то время как все остальны начинались со строчной. Столб приведен к общему строчному виду."
   ]
  },
  {
   "cell_type": "code",
   "execution_count": 19,
   "metadata": {},
   "outputs": [
    {
     "data": {
      "text/html": [
       "<div>\n",
       "<style scoped>\n",
       "    .dataframe tbody tr th:only-of-type {\n",
       "        vertical-align: middle;\n",
       "    }\n",
       "\n",
       "    .dataframe tbody tr th {\n",
       "        vertical-align: top;\n",
       "    }\n",
       "\n",
       "    .dataframe thead th {\n",
       "        text-align: right;\n",
       "    }\n",
       "</style>\n",
       "<table border=\"1\" class=\"dataframe\">\n",
       "  <thead>\n",
       "    <tr style=\"text-align: right;\">\n",
       "      <th></th>\n",
       "      <th>family_status</th>\n",
       "    </tr>\n",
       "    <tr>\n",
       "      <th>family_status_id</th>\n",
       "      <th></th>\n",
       "    </tr>\n",
       "  </thead>\n",
       "  <tbody>\n",
       "    <tr>\n",
       "      <th>0</th>\n",
       "      <td>женат / замужем</td>\n",
       "    </tr>\n",
       "    <tr>\n",
       "      <th>1</th>\n",
       "      <td>гражданский брак</td>\n",
       "    </tr>\n",
       "    <tr>\n",
       "      <th>2</th>\n",
       "      <td>вдовец / вдова</td>\n",
       "    </tr>\n",
       "    <tr>\n",
       "      <th>3</th>\n",
       "      <td>в разводе</td>\n",
       "    </tr>\n",
       "    <tr>\n",
       "      <th>4</th>\n",
       "      <td>не женат / не замужем</td>\n",
       "    </tr>\n",
       "  </tbody>\n",
       "</table>\n",
       "</div>"
      ],
      "text/plain": [
       "                          family_status\n",
       "family_status_id                       \n",
       "0                       женат / замужем\n",
       "1                      гражданский брак\n",
       "2                        вдовец / вдова\n",
       "3                             в разводе\n",
       "4                 не женат / не замужем"
      ]
     },
     "execution_count": 19,
     "metadata": {},
     "output_type": "execute_result"
    }
   ],
   "source": [
    "# Данные о семейном статусе\n",
    "df.pivot_table(index='family_status_id', values='family_status', aggfunc='first')\n"
   ]
  },
  {
   "cell_type": "code",
   "execution_count": 20,
   "metadata": {},
   "outputs": [
    {
     "data": {
      "text/html": [
       "<div>\n",
       "<style scoped>\n",
       "    .dataframe tbody tr th:only-of-type {\n",
       "        vertical-align: middle;\n",
       "    }\n",
       "\n",
       "    .dataframe tbody tr th {\n",
       "        vertical-align: top;\n",
       "    }\n",
       "\n",
       "    .dataframe thead th {\n",
       "        text-align: right;\n",
       "    }\n",
       "</style>\n",
       "<table border=\"1\" class=\"dataframe\">\n",
       "  <thead>\n",
       "    <tr style=\"text-align: right;\">\n",
       "      <th></th>\n",
       "      <th>education</th>\n",
       "    </tr>\n",
       "    <tr>\n",
       "      <th>education_id</th>\n",
       "      <th></th>\n",
       "    </tr>\n",
       "  </thead>\n",
       "  <tbody>\n",
       "    <tr>\n",
       "      <th>0</th>\n",
       "      <td>высшее</td>\n",
       "    </tr>\n",
       "    <tr>\n",
       "      <th>1</th>\n",
       "      <td>среднее</td>\n",
       "    </tr>\n",
       "    <tr>\n",
       "      <th>2</th>\n",
       "      <td>неоконченное высшее</td>\n",
       "    </tr>\n",
       "    <tr>\n",
       "      <th>3</th>\n",
       "      <td>начальное</td>\n",
       "    </tr>\n",
       "    <tr>\n",
       "      <th>4</th>\n",
       "      <td>ученая степень</td>\n",
       "    </tr>\n",
       "  </tbody>\n",
       "</table>\n",
       "</div>"
      ],
      "text/plain": [
       "                        education\n",
       "education_id                     \n",
       "0                          высшее\n",
       "1                         среднее\n",
       "2             неоконченное высшее\n",
       "3                       начальное\n",
       "4                  ученая степень"
      ]
     },
     "execution_count": 20,
     "metadata": {},
     "output_type": "execute_result"
    }
   ],
   "source": [
    "# Данные об образовании\n",
    "df.pivot_table(index='education_id', values='education', aggfunc='first')\n"
   ]
  },
  {
   "cell_type": "code",
   "execution_count": 21,
   "metadata": {},
   "outputs": [],
   "source": [
    "# Фильтрация таблицы df. Удаление столбцов education и family_status\n",
    "df = df[['children', 'days_employed', 'dob_years', 'education_id', 'family_status_id', 'gender', 'income_type', 'debt', 'total_income', 'purpose']]\n"
   ]
  },
  {
   "cell_type": "code",
   "execution_count": 22,
   "metadata": {},
   "outputs": [],
   "source": [
    "# Фильтрация таблицы df. Новый столбец таблицы df - total_income_category\n",
    "# Значения: E, D, C, B, A\n",
    "\n",
    "new_total_income_category_items = []\n",
    "for value in df.total_income:\n",
    "    if 0<=value<=30000:\n",
    "        new_total_income_category_items.append('E')\n",
    "    elif 30001<=value<=50000:\n",
    "        new_total_income_category_items.append('D')\n",
    "    elif 50001<=value<=200000:\n",
    "        new_total_income_category_items.append('C')\n",
    "    elif 200001<=value<=1000000:\n",
    "        new_total_income_category_items.append('B')\n",
    "    else:\n",
    "        new_total_income_category_items.append('A')\n",
    "\n",
    "df['total_income_category'] = new_total_income_category_items\n"
   ]
  },
  {
   "cell_type": "code",
   "execution_count": 23,
   "metadata": {},
   "outputs": [
    {
     "data": {
      "text/plain": [
       "array(['операции с недвижимостью', 'операции с автомобилем',\n",
       "       'получение образования', 'проведение свадьбы'], dtype=object)"
      ]
     },
     "execution_count": 23,
     "metadata": {},
     "output_type": "execute_result"
    }
   ],
   "source": [
    "# Фильтрация таблицы df. Новый столбец таблицы df - purpose_category\n",
    "# значения: 'операции с автомобилем','операции с недвижимостью','проведение свадьбы','получение образования'\n",
    "new_purpose_category_items = []\n",
    "for value in df.purpose:\n",
    "    if 'авто' in value:\n",
    "        new_purpose_category_items.append('операции с автомобилем')\n",
    "    elif 'жил' in value:\n",
    "        new_purpose_category_items.append('операции с недвижимостью')\n",
    "    elif 'недвиж' in value:\n",
    "        new_purpose_category_items.append('операции с недвижимостью')\n",
    "    elif 'свадь' in value:\n",
    "        new_purpose_category_items.append('проведение свадьбы')\n",
    "    elif 'образов' in value:\n",
    "        new_purpose_category_items.append('получение образования')\n",
    "    else:\n",
    "        new_purpose_category_items.append('None')\n",
    "\n",
    "df['purpose_category'] = new_purpose_category_items\n",
    "\n",
    "# Проверка на наличие неучтенных значений\n",
    "df.purpose_category.unique()\n"
   ]
  },
  {
   "cell_type": "markdown",
   "metadata": {},
   "source": [
    "**Итог**\n",
    "\n",
    "Изменен тип данных с вещественного на целочисленный в столбце `total_income`.\n",
    "\n",
    "Предобработка обнаружила две проблемы в данных:\n",
    "\n",
    "- пропущенные значения,\n",
    "- дубликаты — явные и неявные.\n",
    "\n",
    "Устранены явные дупликаты. Пропущенные данные заполнены медианным значением.\n",
    "\n",
    "Создана функция `unique_in_columns_searcher()` для поиска аномальных значений в столбцах.\n",
    "\n",
    "Устранены неявные дупликаты в столбцах: \n",
    "* `children`, \n",
    "* `dob_years`, \n",
    "* `education`, \n",
    "* `family_status`.\n",
    "\n",
    "Cтолбцы `education` и `family_status` для удобства заменены на `education_id` и `family_status_id`.\n",
    "\n",
    "Добавлены новые столбы в таблицу df:\n",
    "* `purpose_category` - категория целей получения кредита\n",
    "* `total_income_category` - категория ежемесячных доходов"
   ]
  },
  {
   "cell_type": "markdown",
   "metadata": {},
   "source": [
    "## Проверка гипотез"
   ]
  },
  {
   "cell_type": "markdown",
   "metadata": {},
   "source": [
    "**Проверим следующие гипотезы:**\n",
    "* Есть ли зависимость между количеством детей и возвратом кредита в срок?\n",
    "* Есть ли зависимость между семейным положением и возвратом кредита в срок?\n",
    "* Есть ли зависимость между уровнем дохода и возвратом кредита в срок?\n",
    "* Как разные цели кредита влияют на его возврат в срок?"
   ]
  },
  {
   "cell_type": "code",
   "execution_count": 24,
   "metadata": {},
   "outputs": [
    {
     "data": {
      "text/html": [
       "<div>\n",
       "<style scoped>\n",
       "    .dataframe tbody tr th:only-of-type {\n",
       "        vertical-align: middle;\n",
       "    }\n",
       "\n",
       "    .dataframe tbody tr th {\n",
       "        vertical-align: top;\n",
       "    }\n",
       "\n",
       "    .dataframe thead th {\n",
       "        text-align: right;\n",
       "    }\n",
       "</style>\n",
       "<table border=\"1\" class=\"dataframe\">\n",
       "  <thead>\n",
       "    <tr style=\"text-align: right;\">\n",
       "      <th></th>\n",
       "      <th>children</th>\n",
       "      <th>family_status_id</th>\n",
       "      <th>debt</th>\n",
       "      <th>purpose_category</th>\n",
       "      <th>total_income_category</th>\n",
       "    </tr>\n",
       "  </thead>\n",
       "  <tbody>\n",
       "    <tr>\n",
       "      <th>0</th>\n",
       "      <td>1</td>\n",
       "      <td>0</td>\n",
       "      <td>0</td>\n",
       "      <td>операции с недвижимостью</td>\n",
       "      <td>B</td>\n",
       "    </tr>\n",
       "    <tr>\n",
       "      <th>1</th>\n",
       "      <td>1</td>\n",
       "      <td>0</td>\n",
       "      <td>0</td>\n",
       "      <td>операции с автомобилем</td>\n",
       "      <td>C</td>\n",
       "    </tr>\n",
       "    <tr>\n",
       "      <th>2</th>\n",
       "      <td>0</td>\n",
       "      <td>0</td>\n",
       "      <td>0</td>\n",
       "      <td>операции с недвижимостью</td>\n",
       "      <td>C</td>\n",
       "    </tr>\n",
       "    <tr>\n",
       "      <th>3</th>\n",
       "      <td>3</td>\n",
       "      <td>0</td>\n",
       "      <td>0</td>\n",
       "      <td>получение образования</td>\n",
       "      <td>B</td>\n",
       "    </tr>\n",
       "    <tr>\n",
       "      <th>4</th>\n",
       "      <td>0</td>\n",
       "      <td>1</td>\n",
       "      <td>0</td>\n",
       "      <td>проведение свадьбы</td>\n",
       "      <td>C</td>\n",
       "    </tr>\n",
       "  </tbody>\n",
       "</table>\n",
       "</div>"
      ],
      "text/plain": [
       "   children  family_status_id  debt          purpose_category  \\\n",
       "0         1                 0     0  операции с недвижимостью   \n",
       "1         1                 0     0    операции с автомобилем   \n",
       "2         0                 0     0  операции с недвижимостью   \n",
       "3         3                 0     0     получение образования   \n",
       "4         0                 1     0        проведение свадьбы   \n",
       "\n",
       "  total_income_category  \n",
       "0                     B  \n",
       "1                     C  \n",
       "2                     C  \n",
       "3                     B  \n",
       "4                     C  "
      ]
     },
     "metadata": {},
     "output_type": "display_data"
    }
   ],
   "source": [
    "# Фильтрация таблицы df под бизнес задачи\n",
    "df = df[['children','family_status_id','debt','purpose_category','total_income_category']]\n",
    "display(df.head())\n"
   ]
  },
  {
   "cell_type": "markdown",
   "metadata": {},
   "source": [
    "### Гипотеза: зависимость между количеством детей и возвратом кредита в срок."
   ]
  },
  {
   "cell_type": "markdown",
   "metadata": {},
   "source": [
    "Исследуем зависимость наличия задолженности от количества детей."
   ]
  },
  {
   "cell_type": "code",
   "execution_count": 25,
   "metadata": {
    "scrolled": true
   },
   "outputs": [
    {
     "name": "stdout",
     "output_type": "stream",
     "text": [
      "              debt\n",
      "children          \n",
      "0         0.075367\n",
      "1         0.092009\n",
      "2         0.095145\n",
      "3         0.082317\n",
      "4         0.097561\n",
      "5         0.000000\n",
      "\n",
      "----------------Min-----------------\n",
      "          debt\n",
      "children      \n",
      "5          0.0\n",
      "----------------Max-----------------\n",
      "              debt\n",
      "children          \n",
      "4         0.097561\n"
     ]
    }
   ],
   "source": [
    "children = df.pivot_table(index='children', values='debt')\n",
    "print(children)\n",
    "print()\n",
    "print('----------------Min-----------------')\n",
    "print(children[children.debt == children.debt.min()])\n",
    "print('----------------Max-----------------')\n",
    "print(children[children.debt == children.debt.max()])\n"
   ]
  },
  {
   "cell_type": "markdown",
   "metadata": {},
   "source": [
    "**Вывод**: *гипотеза отчасти подтвердилась, наличие детей влияет на возврат кредита в срок. Количество должников без детей меньше, чем должников с детьми. А вот разница между группами по количеству детей уже не такая значительная. В группе с 5 детьми мы видим значение равное нулю, скорее всего это означает клиенты у которых 5 детей не часто берут кредит и данные по этой группе не точные. Риск задолженности у всех групп клиентов с детьми.*"
   ]
  },
  {
   "cell_type": "markdown",
   "metadata": {},
   "source": [
    "### Гипотеза: зависимость между семейным положением и возвратом кредита в срок."
   ]
  },
  {
   "cell_type": "markdown",
   "metadata": {},
   "source": [
    "Исследуем зависимость наличия задолженности от семейного положения.\n",
    "\n",
    "\t\n",
    "family_status_id - family_status:\n",
    "- 0\tженат / замужем\n",
    "- 1\tгражданский брак\n",
    "- 2\tвдовец / вдова\n",
    "- 3\tв разводе\n",
    "- 4\tне женат / не замужем"
   ]
  },
  {
   "cell_type": "code",
   "execution_count": 26,
   "metadata": {},
   "outputs": [
    {
     "name": "stdout",
     "output_type": "stream",
     "text": [
      "                      debt\n",
      "family_status_id          \n",
      "0                 0.075544\n",
      "1                 0.092848\n",
      "2                 0.065539\n",
      "3                 0.071247\n",
      "4                 0.097842\n",
      "\n",
      "----------------Min-----------------\n",
      "                      debt\n",
      "family_status_id          \n",
      "2                 0.065539\n",
      "----------------Max-----------------\n",
      "                      debt\n",
      "family_status_id          \n",
      "4                 0.097842\n"
     ]
    }
   ],
   "source": [
    "family = df.pivot_table(index='family_status_id', values='debt')\n",
    "print(family)\n",
    "print()\n",
    "print('----------------Min-----------------')\n",
    "print(family[family.debt == family.debt.min()])\n",
    "print('----------------Max-----------------')\n",
    "print(family[family.debt == family.debt.max()])\n"
   ]
  },
  {
   "cell_type": "markdown",
   "metadata": {},
   "source": [
    "**Вывод**: *гипотеза подтвердилась, семейный статус влияет на возврат кредита в срок. Клиенты реже остаются в задолженности если они относяткся к группам \"вдова/вдовец\", так же \"разведен/разведена\", \"женат / замужем\". К группам риска задолженности нужно отнести \"не женат / не замужем\" и \"гражданский брак\", так как обе группы близки к максимуму.*"
   ]
  },
  {
   "cell_type": "markdown",
   "metadata": {},
   "source": [
    "### Гипотеза: зависимость между уровнем дохода и возвратом кредита в срок."
   ]
  },
  {
   "cell_type": "markdown",
   "metadata": {},
   "source": [
    "Исследуем зависимость наличия задолженности от уровня дохода.\n",
    "\n",
    "`total_income_category` с категориями:\n",
    "- 0–30000 — 'E';\n",
    "- 30001–50000 — 'D';\n",
    "- 50001–200000 — 'C';\n",
    "- 200001–1000000 — 'B';\n",
    "- 1000001 и выше — 'A'."
   ]
  },
  {
   "cell_type": "code",
   "execution_count": 27,
   "metadata": {},
   "outputs": [
    {
     "name": "stdout",
     "output_type": "stream",
     "text": [
      "                           debt\n",
      "total_income_category          \n",
      "A                      0.080000\n",
      "B                      0.070784\n",
      "C                      0.084830\n",
      "D                      0.060519\n",
      "E                      0.090909\n",
      "\n",
      "----------------Min-----------------\n",
      "                           debt\n",
      "total_income_category          \n",
      "D                      0.060519\n",
      "----------------Max-----------------\n",
      "                           debt\n",
      "total_income_category          \n",
      "E                      0.090909\n"
     ]
    }
   ],
   "source": [
    "total_income_category = df.pivot_table(index='total_income_category', values='debt')\n",
    "print(total_income_category)\n",
    "print()\n",
    "print('----------------Min-----------------')\n",
    "print(total_income_category[total_income_category.debt == total_income_category.debt.min()])\n",
    "print('----------------Max-----------------')\n",
    "print(total_income_category[total_income_category.debt == total_income_category.debt.max()])\n"
   ]
  },
  {
   "cell_type": "markdown",
   "metadata": {},
   "source": [
    "**Вывод**: *существует некоторая зависимость от уровня дохода по группам, но определенной тендеции не обнаружено. Лучше всех справляются с кредитом клиенты с доходом 30001–50000. В группе риска клиенты с доходом 0–30000. Возможно это обусловлено тем, что зарплаты 0–30000 слишком низкие для региона проживания клиента что не позволяет гасить задолженность в срок, а зп 30001–50000 - средний уровень достатка.*"
   ]
  },
  {
   "cell_type": "markdown",
   "metadata": {},
   "source": [
    "### Гипотеза: разные цели кредита влияют на его возврат в срок."
   ]
  },
  {
   "cell_type": "markdown",
   "metadata": {},
   "source": [
    "Исследуем зависимость наличия задолженности от целей кредита."
   ]
  },
  {
   "cell_type": "code",
   "execution_count": 28,
   "metadata": {},
   "outputs": [
    {
     "name": "stdout",
     "output_type": "stream",
     "text": [
      "                              debt\n",
      "purpose_category                  \n",
      "операции с автомобилем    0.093192\n",
      "операции с недвижимостью  0.072569\n",
      "получение образования     0.092924\n",
      "проведение свадьбы        0.078355\n",
      "\n",
      "----------------Min-----------------\n",
      "                              debt\n",
      "purpose_category                  \n",
      "операции с недвижимостью  0.072569\n",
      "----------------Max-----------------\n",
      "                            debt\n",
      "purpose_category                \n",
      "операции с автомобилем  0.093192\n"
     ]
    }
   ],
   "source": [
    "purpose_category = df.pivot_table(index='purpose_category', values='debt')\n",
    "print(purpose_category)\n",
    "print()\n",
    "print('----------------Min-----------------')\n",
    "print(purpose_category[purpose_category.debt == purpose_category.debt.min()])\n",
    "print('----------------Max-----------------')\n",
    "print(purpose_category[purpose_category.debt == purpose_category.debt.max()])\n"
   ]
  },
  {
   "cell_type": "markdown",
   "metadata": {},
   "source": [
    "**Вывод**: *гипотеза подтвердилась, цель кредита влияет на его возврат в срок. Так клиенты с целью \"операции с недвижимостью\" реже остаются в долгах. В группе риска клиенты группы \"операции с автомобилем\", вероятно наличие автомобиля и его состояние напрямую влияют на возможности клиента гасить кредит.*"
   ]
  },
  {
   "cell_type": "markdown",
   "metadata": {},
   "source": [
    "## Общий вывод:\n",
    "На основе анализа четырех гипотез клиент с наибольшей вероятностью просрочки: \n",
    "- 4 детей, \n",
    "- не женат, \n",
    "- доход 0–30000, \n",
    "- цель кредита: операции с автомобилем\n"
   ]
  }
 ],
 "metadata": {
  "ExecuteTimeLog": [
   {
    "duration": 662,
    "start_time": "2022-04-12T12:15:45.622Z"
   },
   {
    "duration": 0,
    "start_time": "2022-04-12T12:15:46.288Z"
   },
   {
    "duration": 0,
    "start_time": "2022-04-12T12:15:46.290Z"
   },
   {
    "duration": 0,
    "start_time": "2022-04-12T12:15:46.292Z"
   },
   {
    "duration": 0,
    "start_time": "2022-04-12T12:15:46.294Z"
   },
   {
    "duration": 0,
    "start_time": "2022-04-12T12:15:46.296Z"
   },
   {
    "duration": 0,
    "start_time": "2022-04-12T12:15:46.298Z"
   },
   {
    "duration": 0,
    "start_time": "2022-04-12T12:15:46.300Z"
   },
   {
    "duration": 0,
    "start_time": "2022-04-12T12:15:46.302Z"
   },
   {
    "duration": 0,
    "start_time": "2022-04-12T12:15:46.325Z"
   },
   {
    "duration": 0,
    "start_time": "2022-04-12T12:15:46.328Z"
   },
   {
    "duration": 0,
    "start_time": "2022-04-12T12:15:46.330Z"
   },
   {
    "duration": 0,
    "start_time": "2022-04-12T12:15:46.332Z"
   },
   {
    "duration": 0,
    "start_time": "2022-04-12T12:15:46.334Z"
   },
   {
    "duration": 0,
    "start_time": "2022-04-12T12:15:46.336Z"
   },
   {
    "duration": 0,
    "start_time": "2022-04-12T12:15:46.338Z"
   },
   {
    "duration": 0,
    "start_time": "2022-04-12T12:15:46.339Z"
   },
   {
    "duration": 0,
    "start_time": "2022-04-12T12:15:46.341Z"
   },
   {
    "duration": 0,
    "start_time": "2022-04-12T12:15:46.342Z"
   },
   {
    "duration": 0,
    "start_time": "2022-04-12T12:15:46.344Z"
   },
   {
    "duration": 0,
    "start_time": "2022-04-12T12:15:46.346Z"
   },
   {
    "duration": 0,
    "start_time": "2022-04-12T12:15:46.348Z"
   },
   {
    "duration": 0,
    "start_time": "2022-04-12T12:15:46.350Z"
   },
   {
    "duration": 0,
    "start_time": "2022-04-12T12:15:46.351Z"
   },
   {
    "duration": 0,
    "start_time": "2022-04-12T12:15:46.353Z"
   },
   {
    "duration": 0,
    "start_time": "2022-04-12T12:15:46.355Z"
   },
   {
    "duration": 0,
    "start_time": "2022-04-12T12:15:46.356Z"
   },
   {
    "duration": 107,
    "start_time": "2022-04-12T12:16:09.650Z"
   },
   {
    "duration": 751,
    "start_time": "2022-04-12T12:16:21.040Z"
   },
   {
    "duration": 4,
    "start_time": "2022-04-12T12:16:21.794Z"
   },
   {
    "duration": 48,
    "start_time": "2022-04-12T12:16:21.800Z"
   },
   {
    "duration": 29,
    "start_time": "2022-04-12T12:16:21.850Z"
   },
   {
    "duration": 43,
    "start_time": "2022-04-12T12:16:21.883Z"
   },
   {
    "duration": 8,
    "start_time": "2022-04-12T12:16:21.929Z"
   },
   {
    "duration": 21,
    "start_time": "2022-04-12T12:16:21.940Z"
   },
   {
    "duration": 14,
    "start_time": "2022-04-12T12:16:21.964Z"
   },
   {
    "duration": 11,
    "start_time": "2022-04-12T12:16:21.980Z"
   },
   {
    "duration": 10,
    "start_time": "2022-04-12T12:16:22.026Z"
   },
   {
    "duration": 40,
    "start_time": "2022-04-12T12:16:22.039Z"
   },
   {
    "duration": 97,
    "start_time": "2022-04-12T12:16:22.082Z"
   },
   {
    "duration": 5,
    "start_time": "2022-04-12T12:16:22.182Z"
   },
   {
    "duration": 179,
    "start_time": "2022-04-12T12:16:22.192Z"
   },
   {
    "duration": 18,
    "start_time": "2022-04-12T12:16:22.374Z"
   },
   {
    "duration": 173,
    "start_time": "2022-04-12T12:16:22.395Z"
   },
   {
    "duration": 126,
    "start_time": "2022-04-12T12:16:22.571Z"
   },
   {
    "duration": 0,
    "start_time": "2022-04-12T12:16:22.699Z"
   },
   {
    "duration": 0,
    "start_time": "2022-04-12T12:16:22.701Z"
   },
   {
    "duration": 0,
    "start_time": "2022-04-12T12:16:22.702Z"
   },
   {
    "duration": 0,
    "start_time": "2022-04-12T12:16:22.704Z"
   },
   {
    "duration": 0,
    "start_time": "2022-04-12T12:16:22.705Z"
   },
   {
    "duration": 0,
    "start_time": "2022-04-12T12:16:22.707Z"
   },
   {
    "duration": 0,
    "start_time": "2022-04-12T12:16:22.708Z"
   },
   {
    "duration": 0,
    "start_time": "2022-04-12T12:16:22.725Z"
   },
   {
    "duration": 0,
    "start_time": "2022-04-12T12:16:22.726Z"
   },
   {
    "duration": 0,
    "start_time": "2022-04-12T12:16:22.728Z"
   },
   {
    "duration": 23,
    "start_time": "2022-04-12T13:39:17.819Z"
   },
   {
    "duration": 26,
    "start_time": "2022-04-12T13:41:06.958Z"
   },
   {
    "duration": 9,
    "start_time": "2022-04-12T13:41:07.258Z"
   },
   {
    "duration": 19,
    "start_time": "2022-04-12T13:41:07.428Z"
   },
   {
    "duration": 23,
    "start_time": "2022-04-12T13:41:07.609Z"
   },
   {
    "duration": 4,
    "start_time": "2022-04-12T13:41:08.129Z"
   },
   {
    "duration": 43,
    "start_time": "2022-04-12T13:41:08.306Z"
   },
   {
    "duration": 9,
    "start_time": "2022-04-12T13:41:08.838Z"
   },
   {
    "duration": 10,
    "start_time": "2022-04-12T13:41:09.531Z"
   },
   {
    "duration": 9,
    "start_time": "2022-04-12T13:41:10.238Z"
   },
   {
    "duration": 9,
    "start_time": "2022-04-12T13:41:10.946Z"
   },
   {
    "duration": 8,
    "start_time": "2022-04-12T13:41:46.171Z"
   },
   {
    "duration": 17,
    "start_time": "2022-04-12T13:41:59.281Z"
   },
   {
    "duration": 756,
    "start_time": "2022-04-12T13:42:28.129Z"
   },
   {
    "duration": 4,
    "start_time": "2022-04-12T13:42:29.974Z"
   },
   {
    "duration": 38,
    "start_time": "2022-04-12T13:42:30.712Z"
   },
   {
    "duration": 27,
    "start_time": "2022-04-12T13:42:31.129Z"
   },
   {
    "duration": 13,
    "start_time": "2022-04-12T13:42:32.057Z"
   },
   {
    "duration": 8,
    "start_time": "2022-04-12T13:42:32.720Z"
   },
   {
    "duration": 13,
    "start_time": "2022-04-12T13:42:34.924Z"
   },
   {
    "duration": 20,
    "start_time": "2022-04-12T13:42:39.030Z"
   },
   {
    "duration": 14,
    "start_time": "2022-04-12T13:42:43.274Z"
   },
   {
    "duration": 8,
    "start_time": "2022-04-12T13:42:43.932Z"
   },
   {
    "duration": 8,
    "start_time": "2022-04-12T13:42:46.752Z"
   },
   {
    "duration": 22,
    "start_time": "2022-04-12T13:42:48.470Z"
   },
   {
    "duration": 35,
    "start_time": "2022-04-12T13:42:50.956Z"
   },
   {
    "duration": 54,
    "start_time": "2022-04-12T13:42:53.592Z"
   },
   {
    "duration": 20,
    "start_time": "2022-04-12T13:42:57.138Z"
   },
   {
    "duration": 5,
    "start_time": "2022-04-12T13:42:59.144Z"
   },
   {
    "duration": 98,
    "start_time": "2022-04-12T13:42:59.398Z"
   },
   {
    "duration": 18,
    "start_time": "2022-04-12T13:43:01.820Z"
   },
   {
    "duration": 22,
    "start_time": "2022-04-12T13:43:03.660Z"
   },
   {
    "duration": 146,
    "start_time": "2022-04-12T13:43:05.491Z"
   },
   {
    "duration": 21,
    "start_time": "2022-04-12T13:43:07.704Z"
   },
   {
    "duration": 112,
    "start_time": "2022-04-12T13:43:12.131Z"
   },
   {
    "duration": 23,
    "start_time": "2022-04-12T13:43:12.892Z"
   },
   {
    "duration": 7,
    "start_time": "2022-04-12T13:43:13.402Z"
   },
   {
    "duration": 29,
    "start_time": "2022-04-12T13:43:13.617Z"
   },
   {
    "duration": 28,
    "start_time": "2022-04-12T13:43:16.431Z"
   },
   {
    "duration": 13,
    "start_time": "2022-04-12T13:43:24.541Z"
   },
   {
    "duration": 28,
    "start_time": "2022-04-12T13:43:30.226Z"
   },
   {
    "duration": 12,
    "start_time": "2022-04-12T13:43:35.772Z"
   },
   {
    "duration": 3,
    "start_time": "2022-04-12T13:43:43.251Z"
   },
   {
    "duration": 28,
    "start_time": "2022-04-12T13:43:47.876Z"
   },
   {
    "duration": 8,
    "start_time": "2022-04-12T13:44:06.624Z"
   },
   {
    "duration": 8,
    "start_time": "2022-04-12T13:44:07.349Z"
   },
   {
    "duration": 9,
    "start_time": "2022-04-12T13:44:08.049Z"
   },
   {
    "duration": 9,
    "start_time": "2022-04-12T13:44:14.345Z"
   },
   {
    "duration": 188,
    "start_time": "2022-04-12T18:55:46.508Z"
   },
   {
    "duration": 596,
    "start_time": "2022-04-12T19:00:33.529Z"
   },
   {
    "duration": 201,
    "start_time": "2022-04-12T19:01:35.542Z"
   },
   {
    "duration": 154,
    "start_time": "2022-04-12T19:08:13.991Z"
   },
   {
    "duration": 4,
    "start_time": "2022-04-12T19:08:32.179Z"
   },
   {
    "duration": 204,
    "start_time": "2022-04-12T19:36:59.542Z"
   },
   {
    "duration": 170,
    "start_time": "2022-04-12T19:37:38.342Z"
   },
   {
    "duration": 18,
    "start_time": "2022-04-12T19:37:38.514Z"
   },
   {
    "duration": 60,
    "start_time": "2022-04-12T19:37:38.533Z"
   },
   {
    "duration": 13,
    "start_time": "2022-04-12T19:37:38.595Z"
   },
   {
    "duration": 21,
    "start_time": "2022-04-12T19:37:38.609Z"
   },
   {
    "duration": 38,
    "start_time": "2022-04-12T19:37:38.632Z"
   },
   {
    "duration": 50,
    "start_time": "2022-04-12T19:37:38.672Z"
   },
   {
    "duration": 19,
    "start_time": "2022-04-12T19:37:38.724Z"
   },
   {
    "duration": 56,
    "start_time": "2022-04-12T19:37:38.745Z"
   },
   {
    "duration": 24,
    "start_time": "2022-04-12T19:37:38.806Z"
   },
   {
    "duration": 51,
    "start_time": "2022-04-12T19:37:38.831Z"
   },
   {
    "duration": 13,
    "start_time": "2022-04-12T19:37:38.884Z"
   },
   {
    "duration": 104,
    "start_time": "2022-04-12T19:37:38.899Z"
   },
   {
    "duration": 12,
    "start_time": "2022-04-12T19:37:39.005Z"
   },
   {
    "duration": 163,
    "start_time": "2022-04-12T19:37:39.018Z"
   },
   {
    "duration": 116,
    "start_time": "2022-04-12T19:37:39.183Z"
   },
   {
    "duration": 0,
    "start_time": "2022-04-12T19:37:39.301Z"
   },
   {
    "duration": 0,
    "start_time": "2022-04-12T19:37:39.302Z"
   },
   {
    "duration": 0,
    "start_time": "2022-04-12T19:37:39.304Z"
   },
   {
    "duration": 0,
    "start_time": "2022-04-12T19:37:39.305Z"
   },
   {
    "duration": 0,
    "start_time": "2022-04-12T19:37:39.306Z"
   },
   {
    "duration": 0,
    "start_time": "2022-04-12T19:37:39.308Z"
   },
   {
    "duration": 0,
    "start_time": "2022-04-12T19:37:39.309Z"
   },
   {
    "duration": 0,
    "start_time": "2022-04-12T19:37:39.310Z"
   },
   {
    "duration": 0,
    "start_time": "2022-04-12T19:37:39.312Z"
   },
   {
    "duration": 0,
    "start_time": "2022-04-12T19:37:39.313Z"
   },
   {
    "duration": 212,
    "start_time": "2022-04-12T20:43:53.007Z"
   },
   {
    "duration": 163,
    "start_time": "2022-04-12T20:47:02.340Z"
   },
   {
    "duration": 11,
    "start_time": "2022-04-12T21:01:42.890Z"
   },
   {
    "duration": 143,
    "start_time": "2022-04-12T21:02:00.785Z"
   },
   {
    "duration": 12,
    "start_time": "2022-04-12T21:02:00.930Z"
   },
   {
    "duration": 43,
    "start_time": "2022-04-12T21:02:00.944Z"
   },
   {
    "duration": 19,
    "start_time": "2022-04-12T21:02:00.989Z"
   },
   {
    "duration": 5,
    "start_time": "2022-04-12T21:02:01.010Z"
   },
   {
    "duration": 10,
    "start_time": "2022-04-12T21:02:06.599Z"
   },
   {
    "duration": 9,
    "start_time": "2022-04-12T21:02:06.611Z"
   },
   {
    "duration": 8,
    "start_time": "2022-04-12T21:02:06.621Z"
   },
   {
    "duration": 13,
    "start_time": "2022-04-12T21:02:06.630Z"
   },
   {
    "duration": 14,
    "start_time": "2022-04-12T21:02:06.644Z"
   },
   {
    "duration": 43,
    "start_time": "2022-04-12T21:02:06.659Z"
   },
   {
    "duration": 32,
    "start_time": "2022-04-12T21:02:06.704Z"
   },
   {
    "duration": 3,
    "start_time": "2022-04-12T21:02:06.737Z"
   },
   {
    "duration": 95,
    "start_time": "2022-04-12T21:02:06.741Z"
   },
   {
    "duration": 8,
    "start_time": "2022-04-12T21:02:06.840Z"
   },
   {
    "duration": 125,
    "start_time": "2022-04-12T21:02:06.850Z"
   },
   {
    "duration": 19,
    "start_time": "2022-04-12T21:02:06.978Z"
   },
   {
    "duration": 0,
    "start_time": "2022-04-12T21:02:06.998Z"
   },
   {
    "duration": 0,
    "start_time": "2022-04-12T21:02:07.000Z"
   },
   {
    "duration": 0,
    "start_time": "2022-04-12T21:02:07.001Z"
   },
   {
    "duration": 0,
    "start_time": "2022-04-12T21:02:07.002Z"
   },
   {
    "duration": 0,
    "start_time": "2022-04-12T21:02:07.003Z"
   },
   {
    "duration": 0,
    "start_time": "2022-04-12T21:02:07.004Z"
   },
   {
    "duration": 0,
    "start_time": "2022-04-12T21:02:07.005Z"
   },
   {
    "duration": 0,
    "start_time": "2022-04-12T21:02:07.006Z"
   },
   {
    "duration": 0,
    "start_time": "2022-04-12T21:02:07.007Z"
   },
   {
    "duration": 0,
    "start_time": "2022-04-12T21:02:07.009Z"
   },
   {
    "duration": 138,
    "start_time": "2022-04-12T21:03:21.174Z"
   },
   {
    "duration": 11,
    "start_time": "2022-04-12T21:03:21.314Z"
   },
   {
    "duration": 16,
    "start_time": "2022-04-12T21:03:21.327Z"
   },
   {
    "duration": 28,
    "start_time": "2022-04-12T21:03:21.345Z"
   },
   {
    "duration": 13,
    "start_time": "2022-04-12T21:03:21.376Z"
   },
   {
    "duration": 9,
    "start_time": "2022-04-12T21:06:44.180Z"
   },
   {
    "duration": 16,
    "start_time": "2022-04-12T21:19:03.305Z"
   },
   {
    "duration": 7,
    "start_time": "2022-04-12T21:20:11.719Z"
   },
   {
    "duration": 7,
    "start_time": "2022-04-12T21:20:50.495Z"
   },
   {
    "duration": 10,
    "start_time": "2022-04-12T21:21:20.337Z"
   },
   {
    "duration": 6,
    "start_time": "2022-04-12T21:21:45.391Z"
   },
   {
    "duration": 16,
    "start_time": "2022-04-12T21:23:27.684Z"
   },
   {
    "duration": 17,
    "start_time": "2022-04-12T21:23:53.881Z"
   },
   {
    "duration": 20,
    "start_time": "2022-04-12T21:24:44.140Z"
   },
   {
    "duration": 17,
    "start_time": "2022-04-12T21:25:12.082Z"
   },
   {
    "duration": 153,
    "start_time": "2022-04-12T21:25:39.338Z"
   },
   {
    "duration": 141,
    "start_time": "2022-04-12T21:25:49.634Z"
   },
   {
    "duration": 3,
    "start_time": "2022-04-12T21:29:02.744Z"
   },
   {
    "duration": 4,
    "start_time": "2022-04-12T21:29:09.340Z"
   },
   {
    "duration": 10,
    "start_time": "2022-04-12T21:29:20.153Z"
   },
   {
    "duration": 15,
    "start_time": "2022-04-12T21:32:32.516Z"
   },
   {
    "duration": 8,
    "start_time": "2022-04-12T21:33:27.035Z"
   },
   {
    "duration": 14,
    "start_time": "2022-04-12T21:35:53.989Z"
   },
   {
    "duration": 14,
    "start_time": "2022-04-12T21:36:51.986Z"
   },
   {
    "duration": 13,
    "start_time": "2022-04-12T21:37:01.141Z"
   },
   {
    "duration": 15,
    "start_time": "2022-04-12T21:37:51.035Z"
   },
   {
    "duration": 140,
    "start_time": "2022-04-12T21:52:09.158Z"
   },
   {
    "duration": 11,
    "start_time": "2022-04-12T21:52:09.300Z"
   },
   {
    "duration": 15,
    "start_time": "2022-04-12T21:52:09.313Z"
   },
   {
    "duration": 9,
    "start_time": "2022-04-12T21:52:09.330Z"
   },
   {
    "duration": 5,
    "start_time": "2022-04-12T21:52:09.354Z"
   },
   {
    "duration": 14,
    "start_time": "2022-04-12T21:52:09.361Z"
   },
   {
    "duration": 17,
    "start_time": "2022-04-12T21:52:09.377Z"
   },
   {
    "duration": 7,
    "start_time": "2022-04-12T21:52:09.396Z"
   },
   {
    "duration": 6,
    "start_time": "2022-04-12T21:52:09.404Z"
   },
   {
    "duration": 48,
    "start_time": "2022-04-12T21:52:09.414Z"
   },
   {
    "duration": 38,
    "start_time": "2022-04-12T21:52:09.465Z"
   },
   {
    "duration": 4,
    "start_time": "2022-04-12T21:52:09.505Z"
   },
   {
    "duration": 98,
    "start_time": "2022-04-12T21:52:09.510Z"
   },
   {
    "duration": 8,
    "start_time": "2022-04-12T21:52:09.609Z"
   },
   {
    "duration": 120,
    "start_time": "2022-04-12T21:52:09.618Z"
   },
   {
    "duration": 31,
    "start_time": "2022-04-12T21:52:09.739Z"
   },
   {
    "duration": 15,
    "start_time": "2022-04-12T21:52:09.772Z"
   },
   {
    "duration": 6,
    "start_time": "2022-04-12T21:52:09.788Z"
   },
   {
    "duration": 12,
    "start_time": "2022-04-12T21:52:09.796Z"
   },
   {
    "duration": 16,
    "start_time": "2022-04-12T21:52:09.810Z"
   },
   {
    "duration": 49,
    "start_time": "2022-04-12T21:52:09.827Z"
   },
   {
    "duration": 27,
    "start_time": "2022-04-12T21:52:09.891Z"
   },
   {
    "duration": 25,
    "start_time": "2022-04-12T21:52:09.925Z"
   },
   {
    "duration": 11,
    "start_time": "2022-04-12T21:52:09.952Z"
   },
   {
    "duration": 8,
    "start_time": "2022-04-12T21:52:09.966Z"
   },
   {
    "duration": 20,
    "start_time": "2022-04-12T21:56:43.588Z"
   },
   {
    "duration": 18,
    "start_time": "2022-04-12T21:57:25.757Z"
   },
   {
    "duration": 2174,
    "start_time": "2022-04-12T21:59:14.672Z"
   },
   {
    "duration": 8,
    "start_time": "2022-04-12T21:59:29.167Z"
   },
   {
    "duration": 8,
    "start_time": "2022-04-12T22:00:35.642Z"
   },
   {
    "duration": 9,
    "start_time": "2022-04-12T22:01:30.508Z"
   },
   {
    "duration": 7,
    "start_time": "2022-04-12T22:01:39.208Z"
   },
   {
    "duration": 8,
    "start_time": "2022-04-12T22:01:45.002Z"
   },
   {
    "duration": 6,
    "start_time": "2022-04-12T22:01:49.072Z"
   },
   {
    "duration": 8,
    "start_time": "2022-04-12T22:01:54.989Z"
   },
   {
    "duration": 124,
    "start_time": "2022-04-12T22:02:00.314Z"
   },
   {
    "duration": 12,
    "start_time": "2022-04-12T22:02:00.440Z"
   },
   {
    "duration": 35,
    "start_time": "2022-04-12T22:02:00.453Z"
   },
   {
    "duration": 11,
    "start_time": "2022-04-12T22:02:00.490Z"
   },
   {
    "duration": 14,
    "start_time": "2022-04-12T22:02:00.502Z"
   },
   {
    "duration": 15,
    "start_time": "2022-04-12T22:02:00.517Z"
   },
   {
    "duration": 23,
    "start_time": "2022-04-12T22:02:00.534Z"
   },
   {
    "duration": 23,
    "start_time": "2022-04-12T22:02:00.560Z"
   },
   {
    "duration": 7,
    "start_time": "2022-04-12T22:02:00.585Z"
   },
   {
    "duration": 25,
    "start_time": "2022-04-12T22:02:00.595Z"
   },
   {
    "duration": 32,
    "start_time": "2022-04-12T22:02:00.621Z"
   },
   {
    "duration": 4,
    "start_time": "2022-04-12T22:02:00.655Z"
   },
   {
    "duration": 85,
    "start_time": "2022-04-12T22:02:00.662Z"
   },
   {
    "duration": 11,
    "start_time": "2022-04-12T22:02:00.749Z"
   },
   {
    "duration": 127,
    "start_time": "2022-04-12T22:02:00.762Z"
   },
   {
    "duration": 13,
    "start_time": "2022-04-12T22:02:00.890Z"
   },
   {
    "duration": 12,
    "start_time": "2022-04-12T22:02:00.905Z"
   },
   {
    "duration": 6,
    "start_time": "2022-04-12T22:02:00.919Z"
   },
   {
    "duration": 43,
    "start_time": "2022-04-12T22:02:00.927Z"
   },
   {
    "duration": 25,
    "start_time": "2022-04-12T22:02:00.972Z"
   },
   {
    "duration": 13,
    "start_time": "2022-04-12T22:02:09.447Z"
   },
   {
    "duration": 21,
    "start_time": "2022-04-12T22:02:09.463Z"
   },
   {
    "duration": 10,
    "start_time": "2022-04-12T22:02:09.485Z"
   },
   {
    "duration": 11,
    "start_time": "2022-04-12T22:02:09.496Z"
   },
   {
    "duration": 8,
    "start_time": "2022-04-12T22:02:09.509Z"
   },
   {
    "duration": 10,
    "start_time": "2022-04-12T22:02:53.239Z"
   },
   {
    "duration": 8,
    "start_time": "2022-04-12T22:03:27.748Z"
   },
   {
    "duration": 22,
    "start_time": "2022-04-12T22:03:31.460Z"
   },
   {
    "duration": 29,
    "start_time": "2022-04-12T22:03:31.485Z"
   },
   {
    "duration": 0,
    "start_time": "2022-04-12T22:03:31.516Z"
   },
   {
    "duration": 0,
    "start_time": "2022-04-12T22:03:31.517Z"
   },
   {
    "duration": 0,
    "start_time": "2022-04-12T22:03:31.518Z"
   },
   {
    "duration": 11,
    "start_time": "2022-04-12T22:03:42.272Z"
   },
   {
    "duration": 126,
    "start_time": "2022-04-12T22:03:46.808Z"
   },
   {
    "duration": 12,
    "start_time": "2022-04-12T22:03:46.936Z"
   },
   {
    "duration": 27,
    "start_time": "2022-04-12T22:03:46.949Z"
   },
   {
    "duration": 16,
    "start_time": "2022-04-12T22:03:46.978Z"
   },
   {
    "duration": 7,
    "start_time": "2022-04-12T22:03:46.995Z"
   },
   {
    "duration": 12,
    "start_time": "2022-04-12T22:03:47.003Z"
   },
   {
    "duration": 6,
    "start_time": "2022-04-12T22:03:47.017Z"
   },
   {
    "duration": 7,
    "start_time": "2022-04-12T22:03:47.025Z"
   },
   {
    "duration": 7,
    "start_time": "2022-04-12T22:03:47.034Z"
   },
   {
    "duration": 39,
    "start_time": "2022-04-12T22:03:47.043Z"
   },
   {
    "duration": 34,
    "start_time": "2022-04-12T22:03:47.085Z"
   },
   {
    "duration": 3,
    "start_time": "2022-04-12T22:03:47.120Z"
   },
   {
    "duration": 95,
    "start_time": "2022-04-12T22:03:47.124Z"
   },
   {
    "duration": 8,
    "start_time": "2022-04-12T22:03:47.220Z"
   },
   {
    "duration": 147,
    "start_time": "2022-04-12T22:03:47.229Z"
   },
   {
    "duration": 18,
    "start_time": "2022-04-12T22:03:47.378Z"
   },
   {
    "duration": 14,
    "start_time": "2022-04-12T22:03:47.397Z"
   },
   {
    "duration": 7,
    "start_time": "2022-04-12T22:03:47.412Z"
   },
   {
    "duration": 39,
    "start_time": "2022-04-12T22:03:47.420Z"
   },
   {
    "duration": 38,
    "start_time": "2022-04-12T22:03:47.462Z"
   },
   {
    "duration": 10,
    "start_time": "2022-04-12T22:03:47.502Z"
   },
   {
    "duration": 13,
    "start_time": "2022-04-12T22:04:54.998Z"
   },
   {
    "duration": 6,
    "start_time": "2022-04-12T22:22:13.289Z"
   },
   {
    "duration": 141,
    "start_time": "2022-04-12T22:22:25.470Z"
   },
   {
    "duration": 12,
    "start_time": "2022-04-12T22:22:25.612Z"
   },
   {
    "duration": 23,
    "start_time": "2022-04-12T22:22:25.625Z"
   },
   {
    "duration": 13,
    "start_time": "2022-04-12T22:22:25.650Z"
   },
   {
    "duration": 17,
    "start_time": "2022-04-12T22:22:25.664Z"
   },
   {
    "duration": 15,
    "start_time": "2022-04-12T22:22:25.683Z"
   },
   {
    "duration": 8,
    "start_time": "2022-04-12T22:22:25.700Z"
   },
   {
    "duration": 4,
    "start_time": "2022-04-12T22:22:25.710Z"
   },
   {
    "duration": 8,
    "start_time": "2022-04-12T22:22:25.716Z"
   },
   {
    "duration": 43,
    "start_time": "2022-04-12T22:22:25.727Z"
   },
   {
    "duration": 31,
    "start_time": "2022-04-12T22:22:25.771Z"
   },
   {
    "duration": 3,
    "start_time": "2022-04-12T22:22:25.803Z"
   },
   {
    "duration": 92,
    "start_time": "2022-04-12T22:22:25.808Z"
   },
   {
    "duration": 7,
    "start_time": "2022-04-12T22:22:25.902Z"
   },
   {
    "duration": 126,
    "start_time": "2022-04-12T22:22:25.911Z"
   },
   {
    "duration": 30,
    "start_time": "2022-04-12T22:22:26.038Z"
   },
   {
    "duration": 18,
    "start_time": "2022-04-12T22:22:26.070Z"
   },
   {
    "duration": 9,
    "start_time": "2022-04-12T22:22:26.090Z"
   },
   {
    "duration": 13,
    "start_time": "2022-04-12T22:22:26.101Z"
   },
   {
    "duration": 15,
    "start_time": "2022-04-12T22:22:26.115Z"
   },
   {
    "duration": 32,
    "start_time": "2022-04-12T22:22:26.132Z"
   },
   {
    "duration": 7,
    "start_time": "2022-04-12T22:22:26.166Z"
   },
   {
    "duration": 7,
    "start_time": "2022-04-12T22:22:26.174Z"
   },
   {
    "duration": 6,
    "start_time": "2022-04-12T22:22:26.182Z"
   },
   {
    "duration": 7,
    "start_time": "2022-04-12T22:22:26.190Z"
   },
   {
    "duration": 11,
    "start_time": "2022-04-12T22:30:47.038Z"
   },
   {
    "duration": 11,
    "start_time": "2022-04-12T22:30:57.432Z"
   },
   {
    "duration": 12,
    "start_time": "2022-04-12T22:32:18.907Z"
   },
   {
    "duration": 6,
    "start_time": "2022-04-12T22:33:01.167Z"
   },
   {
    "duration": 143,
    "start_time": "2022-04-12T22:39:01.640Z"
   },
   {
    "duration": 16,
    "start_time": "2022-04-12T22:39:34.155Z"
   },
   {
    "duration": 21,
    "start_time": "2022-04-12T22:39:56.048Z"
   },
   {
    "duration": 17,
    "start_time": "2022-04-12T22:40:02.007Z"
   },
   {
    "duration": 13,
    "start_time": "2022-04-12T22:40:06.697Z"
   },
   {
    "duration": 14,
    "start_time": "2022-04-12T22:40:09.182Z"
   },
   {
    "duration": 10,
    "start_time": "2022-04-12T22:40:25.667Z"
   },
   {
    "duration": 12,
    "start_time": "2022-04-12T22:48:15.320Z"
   },
   {
    "duration": 17,
    "start_time": "2022-04-12T22:48:23.352Z"
   },
   {
    "duration": 12,
    "start_time": "2022-04-12T22:49:01.442Z"
   },
   {
    "duration": 12,
    "start_time": "2022-04-12T22:49:11.766Z"
   },
   {
    "duration": 0,
    "start_time": "2022-04-12T22:49:11.780Z"
   },
   {
    "duration": 0,
    "start_time": "2022-04-12T22:49:11.781Z"
   },
   {
    "duration": 0,
    "start_time": "2022-04-12T22:49:11.782Z"
   },
   {
    "duration": 0,
    "start_time": "2022-04-12T22:49:11.786Z"
   },
   {
    "duration": 119,
    "start_time": "2022-04-12T22:49:18.724Z"
   },
   {
    "duration": 11,
    "start_time": "2022-04-12T22:49:18.845Z"
   },
   {
    "duration": 26,
    "start_time": "2022-04-12T22:49:18.858Z"
   },
   {
    "duration": 9,
    "start_time": "2022-04-12T22:49:18.886Z"
   },
   {
    "duration": 5,
    "start_time": "2022-04-12T22:49:18.897Z"
   },
   {
    "duration": 10,
    "start_time": "2022-04-12T22:49:18.903Z"
   },
   {
    "duration": 6,
    "start_time": "2022-04-12T22:49:18.915Z"
   },
   {
    "duration": 6,
    "start_time": "2022-04-12T22:49:18.923Z"
   },
   {
    "duration": 25,
    "start_time": "2022-04-12T22:49:18.931Z"
   },
   {
    "duration": 27,
    "start_time": "2022-04-12T22:49:18.959Z"
   },
   {
    "duration": 31,
    "start_time": "2022-04-12T22:49:18.987Z"
   },
   {
    "duration": 3,
    "start_time": "2022-04-12T22:49:19.020Z"
   },
   {
    "duration": 92,
    "start_time": "2022-04-12T22:49:19.025Z"
   },
   {
    "duration": 9,
    "start_time": "2022-04-12T22:49:19.119Z"
   },
   {
    "duration": 149,
    "start_time": "2022-04-12T22:49:19.129Z"
   },
   {
    "duration": 13,
    "start_time": "2022-04-12T22:49:19.280Z"
   },
   {
    "duration": 47,
    "start_time": "2022-04-12T22:49:19.294Z"
   },
   {
    "duration": 8,
    "start_time": "2022-04-12T22:49:19.354Z"
   },
   {
    "duration": 20,
    "start_time": "2022-04-12T22:49:19.364Z"
   },
   {
    "duration": 17,
    "start_time": "2022-04-12T22:49:19.386Z"
   },
   {
    "duration": 19,
    "start_time": "2022-04-12T22:49:24.475Z"
   },
   {
    "duration": 6,
    "start_time": "2022-04-12T22:49:24.497Z"
   },
   {
    "duration": 12,
    "start_time": "2022-04-12T22:49:24.504Z"
   },
   {
    "duration": 6,
    "start_time": "2022-04-12T22:49:24.518Z"
   },
   {
    "duration": 5,
    "start_time": "2022-04-12T22:49:24.526Z"
   },
   {
    "duration": 10,
    "start_time": "2022-04-12T22:49:40.276Z"
   },
   {
    "duration": 47,
    "start_time": "2022-04-13T14:33:09.062Z"
   },
   {
    "duration": 8,
    "start_time": "2022-04-13T14:33:19.967Z"
   },
   {
    "duration": 664,
    "start_time": "2022-04-13T14:33:38.219Z"
   },
   {
    "duration": 20,
    "start_time": "2022-04-13T14:33:38.886Z"
   },
   {
    "duration": 15,
    "start_time": "2022-04-13T14:33:38.907Z"
   },
   {
    "duration": 36,
    "start_time": "2022-04-13T14:33:38.924Z"
   },
   {
    "duration": 5,
    "start_time": "2022-04-13T14:33:38.963Z"
   },
   {
    "duration": 12,
    "start_time": "2022-04-13T14:33:38.970Z"
   },
   {
    "duration": 12,
    "start_time": "2022-04-13T14:33:38.985Z"
   },
   {
    "duration": 7,
    "start_time": "2022-04-13T14:33:39.000Z"
   },
   {
    "duration": 11,
    "start_time": "2022-04-13T14:33:39.008Z"
   },
   {
    "duration": 46,
    "start_time": "2022-04-13T14:33:39.021Z"
   },
   {
    "duration": 31,
    "start_time": "2022-04-13T14:33:39.068Z"
   },
   {
    "duration": 4,
    "start_time": "2022-04-13T14:33:39.100Z"
   },
   {
    "duration": 93,
    "start_time": "2022-04-13T14:33:39.106Z"
   },
   {
    "duration": 11,
    "start_time": "2022-04-13T14:33:39.202Z"
   },
   {
    "duration": 120,
    "start_time": "2022-04-13T14:33:39.215Z"
   },
   {
    "duration": 25,
    "start_time": "2022-04-13T14:33:39.337Z"
   },
   {
    "duration": 16,
    "start_time": "2022-04-13T14:33:39.364Z"
   },
   {
    "duration": 6,
    "start_time": "2022-04-13T14:33:39.381Z"
   },
   {
    "duration": 15,
    "start_time": "2022-04-13T14:33:39.388Z"
   },
   {
    "duration": 16,
    "start_time": "2022-04-13T14:33:39.404Z"
   },
   {
    "duration": 37,
    "start_time": "2022-04-13T14:33:39.422Z"
   },
   {
    "duration": 7,
    "start_time": "2022-04-13T14:33:39.461Z"
   },
   {
    "duration": 10,
    "start_time": "2022-04-13T14:33:39.470Z"
   },
   {
    "duration": 8,
    "start_time": "2022-04-13T14:33:39.482Z"
   },
   {
    "duration": 10,
    "start_time": "2022-04-13T14:33:39.492Z"
   },
   {
    "duration": 18,
    "start_time": "2022-04-13T14:35:01.164Z"
   },
   {
    "duration": 11,
    "start_time": "2022-04-13T14:37:59.142Z"
   },
   {
    "duration": 13,
    "start_time": "2022-04-13T14:38:05.467Z"
   },
   {
    "duration": 13,
    "start_time": "2022-04-13T14:38:19.874Z"
   },
   {
    "duration": 13,
    "start_time": "2022-04-13T14:38:24.696Z"
   },
   {
    "duration": 2373,
    "start_time": "2022-04-13T14:42:40.544Z"
   },
   {
    "duration": 15,
    "start_time": "2022-04-13T14:46:12.001Z"
   },
   {
    "duration": 16,
    "start_time": "2022-04-13T14:48:43.143Z"
   },
   {
    "duration": 17,
    "start_time": "2022-04-13T14:49:12.161Z"
   },
   {
    "duration": 15,
    "start_time": "2022-04-13T15:03:50.780Z"
   },
   {
    "duration": 16,
    "start_time": "2022-04-13T15:04:46.653Z"
   },
   {
    "duration": 16,
    "start_time": "2022-04-13T15:05:04.129Z"
   },
   {
    "duration": 16,
    "start_time": "2022-04-13T15:35:43.703Z"
   },
   {
    "duration": 15,
    "start_time": "2022-04-13T15:38:11.594Z"
   },
   {
    "duration": 18,
    "start_time": "2022-04-13T15:38:43.749Z"
   },
   {
    "duration": 5,
    "start_time": "2022-04-13T15:49:42.116Z"
   },
   {
    "duration": 4,
    "start_time": "2022-04-13T15:49:50.013Z"
   },
   {
    "duration": 136,
    "start_time": "2022-04-13T15:50:49.654Z"
   },
   {
    "duration": 139,
    "start_time": "2022-04-13T15:52:23.872Z"
   },
   {
    "duration": 138,
    "start_time": "2022-04-13T15:53:14.706Z"
   },
   {
    "duration": 3,
    "start_time": "2022-04-13T15:53:49.506Z"
   },
   {
    "duration": 139,
    "start_time": "2022-04-13T15:53:51.405Z"
   },
   {
    "duration": 4,
    "start_time": "2022-04-13T15:54:38.998Z"
   },
   {
    "duration": 3,
    "start_time": "2022-04-13T15:54:56.870Z"
   },
   {
    "duration": 4,
    "start_time": "2022-04-13T15:55:24.021Z"
   },
   {
    "duration": 135,
    "start_time": "2022-04-13T15:55:26.147Z"
   },
   {
    "duration": 11,
    "start_time": "2022-04-13T15:58:24.234Z"
   },
   {
    "duration": 7,
    "start_time": "2022-04-13T15:59:12.644Z"
   },
   {
    "duration": 10,
    "start_time": "2022-04-13T15:59:18.362Z"
   },
   {
    "duration": 7,
    "start_time": "2022-04-13T16:00:40.158Z"
   },
   {
    "duration": 11,
    "start_time": "2022-04-13T16:01:33.664Z"
   },
   {
    "duration": 9,
    "start_time": "2022-04-13T16:01:37.573Z"
   },
   {
    "duration": 10,
    "start_time": "2022-04-13T16:01:58.699Z"
   },
   {
    "duration": 6,
    "start_time": "2022-04-13T16:02:11.751Z"
   },
   {
    "duration": 5,
    "start_time": "2022-04-13T16:02:25.672Z"
   },
   {
    "duration": 10,
    "start_time": "2022-04-13T16:02:38.572Z"
   },
   {
    "duration": 6,
    "start_time": "2022-04-13T16:04:17.547Z"
   },
   {
    "duration": 4,
    "start_time": "2022-04-13T16:04:56.727Z"
   },
   {
    "duration": 6,
    "start_time": "2022-04-13T16:05:16.907Z"
   },
   {
    "duration": 9,
    "start_time": "2022-04-13T16:05:30.995Z"
   },
   {
    "duration": 6,
    "start_time": "2022-04-13T16:05:39.060Z"
   },
   {
    "duration": 3,
    "start_time": "2022-04-13T16:05:41.341Z"
   },
   {
    "duration": 5,
    "start_time": "2022-04-13T16:05:47.555Z"
   },
   {
    "duration": 5,
    "start_time": "2022-04-13T16:06:22.178Z"
   },
   {
    "duration": 5,
    "start_time": "2022-04-13T16:06:33.379Z"
   },
   {
    "duration": 6,
    "start_time": "2022-04-13T16:07:54.223Z"
   },
   {
    "duration": 136,
    "start_time": "2022-04-13T16:08:10.433Z"
   },
   {
    "duration": 118,
    "start_time": "2022-04-13T16:08:15.277Z"
   },
   {
    "duration": 13,
    "start_time": "2022-04-13T16:08:15.396Z"
   },
   {
    "duration": 32,
    "start_time": "2022-04-13T16:08:15.410Z"
   },
   {
    "duration": 26,
    "start_time": "2022-04-13T16:08:15.446Z"
   },
   {
    "duration": 17,
    "start_time": "2022-04-13T16:08:15.474Z"
   },
   {
    "duration": 33,
    "start_time": "2022-04-13T16:08:15.493Z"
   },
   {
    "duration": 26,
    "start_time": "2022-04-13T16:08:15.528Z"
   },
   {
    "duration": 19,
    "start_time": "2022-04-13T16:08:15.556Z"
   },
   {
    "duration": 17,
    "start_time": "2022-04-13T16:08:15.577Z"
   },
   {
    "duration": 22,
    "start_time": "2022-04-13T16:08:15.598Z"
   },
   {
    "duration": 39,
    "start_time": "2022-04-13T16:08:15.622Z"
   },
   {
    "duration": 4,
    "start_time": "2022-04-13T16:08:15.663Z"
   },
   {
    "duration": 89,
    "start_time": "2022-04-13T16:08:15.669Z"
   },
   {
    "duration": 9,
    "start_time": "2022-04-13T16:08:15.760Z"
   },
   {
    "duration": 122,
    "start_time": "2022-04-13T16:08:15.771Z"
   },
   {
    "duration": 13,
    "start_time": "2022-04-13T16:08:15.895Z"
   },
   {
    "duration": 25,
    "start_time": "2022-04-13T16:08:15.910Z"
   },
   {
    "duration": 20,
    "start_time": "2022-04-13T16:08:15.936Z"
   },
   {
    "duration": 30,
    "start_time": "2022-04-13T16:08:15.957Z"
   },
   {
    "duration": 39,
    "start_time": "2022-04-13T16:08:15.988Z"
   },
   {
    "duration": 31,
    "start_time": "2022-04-13T16:08:16.029Z"
   },
   {
    "duration": 41,
    "start_time": "2022-04-13T16:08:16.062Z"
   },
   {
    "duration": 24,
    "start_time": "2022-04-13T16:08:16.104Z"
   },
   {
    "duration": 7,
    "start_time": "2022-04-13T16:08:16.130Z"
   },
   {
    "duration": 142,
    "start_time": "2022-04-13T16:08:16.138Z"
   },
   {
    "duration": 0,
    "start_time": "2022-04-13T16:08:16.282Z"
   },
   {
    "duration": 0,
    "start_time": "2022-04-13T16:08:16.284Z"
   },
   {
    "duration": 170,
    "start_time": "2022-04-13T16:09:06.515Z"
   },
   {
    "duration": 6,
    "start_time": "2022-04-13T16:11:25.859Z"
   },
   {
    "duration": 127,
    "start_time": "2022-04-13T16:11:28.955Z"
   },
   {
    "duration": 121,
    "start_time": "2022-04-13T16:11:40.155Z"
   },
   {
    "duration": 11,
    "start_time": "2022-04-13T16:11:40.278Z"
   },
   {
    "duration": 20,
    "start_time": "2022-04-13T16:11:40.291Z"
   },
   {
    "duration": 14,
    "start_time": "2022-04-13T16:11:40.314Z"
   },
   {
    "duration": 26,
    "start_time": "2022-04-13T16:11:40.330Z"
   },
   {
    "duration": 12,
    "start_time": "2022-04-13T16:11:40.358Z"
   },
   {
    "duration": 12,
    "start_time": "2022-04-13T16:11:40.372Z"
   },
   {
    "duration": 8,
    "start_time": "2022-04-13T16:11:40.386Z"
   },
   {
    "duration": 9,
    "start_time": "2022-04-13T16:11:40.396Z"
   },
   {
    "duration": 52,
    "start_time": "2022-04-13T16:11:40.408Z"
   },
   {
    "duration": 47,
    "start_time": "2022-04-13T16:11:40.463Z"
   },
   {
    "duration": 4,
    "start_time": "2022-04-13T16:11:40.512Z"
   },
   {
    "duration": 86,
    "start_time": "2022-04-13T16:11:40.518Z"
   },
   {
    "duration": 10,
    "start_time": "2022-04-13T16:11:40.606Z"
   },
   {
    "duration": 179,
    "start_time": "2022-04-13T16:11:40.618Z"
   },
   {
    "duration": 20,
    "start_time": "2022-04-13T16:11:40.799Z"
   },
   {
    "duration": 35,
    "start_time": "2022-04-13T16:11:40.821Z"
   },
   {
    "duration": 9,
    "start_time": "2022-04-13T16:11:40.859Z"
   },
   {
    "duration": 22,
    "start_time": "2022-04-13T16:11:40.870Z"
   },
   {
    "duration": 23,
    "start_time": "2022-04-13T16:11:40.894Z"
   },
   {
    "duration": 38,
    "start_time": "2022-04-13T16:11:40.918Z"
   },
   {
    "duration": 20,
    "start_time": "2022-04-13T16:11:40.958Z"
   },
   {
    "duration": 19,
    "start_time": "2022-04-13T16:11:40.981Z"
   },
   {
    "duration": 7,
    "start_time": "2022-04-13T16:11:41.002Z"
   },
   {
    "duration": 169,
    "start_time": "2022-04-13T16:11:41.011Z"
   },
   {
    "duration": 0,
    "start_time": "2022-04-13T16:11:41.182Z"
   },
   {
    "duration": 0,
    "start_time": "2022-04-13T16:11:41.183Z"
   },
   {
    "duration": 150,
    "start_time": "2022-04-13T16:11:44.170Z"
   },
   {
    "duration": 18,
    "start_time": "2022-04-13T16:12:24.956Z"
   },
   {
    "duration": 17,
    "start_time": "2022-04-13T16:24:52.233Z"
   },
   {
    "duration": 18,
    "start_time": "2022-04-13T16:25:05.708Z"
   },
   {
    "duration": 131,
    "start_time": "2022-04-13T16:56:30.762Z"
   },
   {
    "duration": 11,
    "start_time": "2022-04-13T17:22:03.824Z"
   },
   {
    "duration": 15,
    "start_time": "2022-04-13T17:34:41.778Z"
   },
   {
    "duration": 17,
    "start_time": "2022-04-13T17:35:02.456Z"
   },
   {
    "duration": 3,
    "start_time": "2022-04-13T17:35:38.105Z"
   },
   {
    "duration": 16,
    "start_time": "2022-04-13T17:36:48.622Z"
   },
   {
    "duration": 159,
    "start_time": "2022-04-13T17:39:20.388Z"
   },
   {
    "duration": 151,
    "start_time": "2022-04-13T17:39:33.943Z"
   },
   {
    "duration": 153,
    "start_time": "2022-04-13T17:39:43.040Z"
   },
   {
    "duration": 154,
    "start_time": "2022-04-13T17:42:00.149Z"
   },
   {
    "duration": 136,
    "start_time": "2022-04-13T17:42:51.781Z"
   },
   {
    "duration": 157,
    "start_time": "2022-04-13T17:43:07.013Z"
   },
   {
    "duration": 129,
    "start_time": "2022-04-13T17:46:45.766Z"
   },
   {
    "duration": 745,
    "start_time": "2022-04-14T15:55:32.445Z"
   },
   {
    "duration": 33,
    "start_time": "2022-04-14T15:55:33.193Z"
   },
   {
    "duration": 38,
    "start_time": "2022-04-14T15:55:33.228Z"
   },
   {
    "duration": 20,
    "start_time": "2022-04-14T15:55:33.269Z"
   },
   {
    "duration": 9,
    "start_time": "2022-04-14T15:55:33.293Z"
   },
   {
    "duration": 20,
    "start_time": "2022-04-14T15:55:33.368Z"
   },
   {
    "duration": 10,
    "start_time": "2022-04-14T15:55:33.391Z"
   },
   {
    "duration": 12,
    "start_time": "2022-04-14T15:55:33.404Z"
   },
   {
    "duration": 70,
    "start_time": "2022-04-14T15:55:33.419Z"
   },
   {
    "duration": 66,
    "start_time": "2022-04-14T15:55:33.491Z"
   },
   {
    "duration": 4,
    "start_time": "2022-04-14T15:55:33.560Z"
   },
   {
    "duration": 126,
    "start_time": "2022-04-14T15:55:33.568Z"
   },
   {
    "duration": 16,
    "start_time": "2022-04-14T15:55:33.698Z"
   },
   {
    "duration": 254,
    "start_time": "2022-04-14T15:55:33.717Z"
   },
   {
    "duration": 24,
    "start_time": "2022-04-14T15:55:33.975Z"
   },
   {
    "duration": 21,
    "start_time": "2022-04-14T15:55:34.001Z"
   },
   {
    "duration": 42,
    "start_time": "2022-04-14T15:55:34.024Z"
   },
   {
    "duration": 20,
    "start_time": "2022-04-14T15:55:34.070Z"
   },
   {
    "duration": 31,
    "start_time": "2022-04-14T15:55:34.093Z"
   },
   {
    "duration": 41,
    "start_time": "2022-04-14T15:55:34.126Z"
   },
   {
    "duration": 23,
    "start_time": "2022-04-14T15:55:34.170Z"
   },
   {
    "duration": 23,
    "start_time": "2022-04-14T15:55:34.196Z"
   },
   {
    "duration": 58,
    "start_time": "2022-04-14T15:55:34.221Z"
   },
   {
    "duration": 28,
    "start_time": "2022-04-14T15:55:34.281Z"
   },
   {
    "duration": 75,
    "start_time": "2022-04-14T19:34:03.463Z"
   },
   {
    "duration": 10,
    "start_time": "2022-04-14T19:34:15.361Z"
   },
   {
    "duration": 838,
    "start_time": "2022-04-14T19:34:24.808Z"
   },
   {
    "duration": 49,
    "start_time": "2022-04-14T19:34:25.650Z"
   },
   {
    "duration": 21,
    "start_time": "2022-04-14T19:34:25.701Z"
   },
   {
    "duration": 15,
    "start_time": "2022-04-14T19:34:25.726Z"
   },
   {
    "duration": 48,
    "start_time": "2022-04-14T19:34:25.743Z"
   },
   {
    "duration": 14,
    "start_time": "2022-04-14T19:34:25.794Z"
   },
   {
    "duration": 17,
    "start_time": "2022-04-14T19:34:25.811Z"
   },
   {
    "duration": 17,
    "start_time": "2022-04-14T19:34:25.832Z"
   },
   {
    "duration": 31,
    "start_time": "2022-04-14T19:34:25.852Z"
   },
   {
    "duration": 10,
    "start_time": "2022-04-14T19:34:25.888Z"
   },
   {
    "duration": 27,
    "start_time": "2022-04-14T19:34:25.900Z"
   },
   {
    "duration": 86,
    "start_time": "2022-04-14T19:34:25.930Z"
   },
   {
    "duration": 4,
    "start_time": "2022-04-14T19:34:26.019Z"
   },
   {
    "duration": 110,
    "start_time": "2022-04-14T19:34:26.025Z"
   },
   {
    "duration": 15,
    "start_time": "2022-04-14T19:34:26.138Z"
   },
   {
    "duration": 216,
    "start_time": "2022-04-14T19:34:26.156Z"
   },
   {
    "duration": 25,
    "start_time": "2022-04-14T19:34:26.374Z"
   },
   {
    "duration": 22,
    "start_time": "2022-04-14T19:34:26.401Z"
   },
   {
    "duration": 9,
    "start_time": "2022-04-14T19:34:26.425Z"
   },
   {
    "duration": 57,
    "start_time": "2022-04-14T19:34:26.436Z"
   },
   {
    "duration": 38,
    "start_time": "2022-04-14T19:34:26.495Z"
   },
   {
    "duration": 16,
    "start_time": "2022-04-14T19:34:26.535Z"
   },
   {
    "duration": 48,
    "start_time": "2022-04-14T19:34:26.553Z"
   },
   {
    "duration": 23,
    "start_time": "2022-04-14T19:34:26.603Z"
   },
   {
    "duration": 57,
    "start_time": "2022-04-14T19:34:26.629Z"
   },
   {
    "duration": 27,
    "start_time": "2022-04-14T19:34:26.689Z"
   }
  ],
  "interpreter": {
   "hash": "782213c13fc89891baf4c2d71d6e34ec0feb956770ac88a0b792f7fab305908a"
  },
  "kernelspec": {
   "display_name": "Python 3 (ipykernel)",
   "language": "python",
   "name": "python3"
  },
  "language_info": {
   "codemirror_mode": {
    "name": "ipython",
    "version": 3
   },
   "file_extension": ".py",
   "mimetype": "text/x-python",
   "name": "python",
   "nbconvert_exporter": "python",
   "pygments_lexer": "ipython3",
   "version": "3.9.7"
  },
  "toc": {
   "base_numbering": 1,
   "nav_menu": {},
   "number_sections": true,
   "sideBar": true,
   "skip_h1_title": true,
   "title_cell": "Table of Contents",
   "title_sidebar": "Contents",
   "toc_cell": false,
   "toc_position": {},
   "toc_section_display": true,
   "toc_window_display": false
  }
 },
 "nbformat": 4,
 "nbformat_minor": 4
}
