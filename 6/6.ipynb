{
 "cells": [
  {
   "cell_type": "markdown",
   "id": "475ea5a6-df17-4498-b754-d8a9e7ca2f8e",
   "metadata": {
    "tags": []
   },
   "source": [
    "## **Поведение пользователей. Описание проекта**\n",
    "\n",
    "**Описание данных**\n",
    "\n",
    "Каждый объект в наборе данных — это информация о поведении одного пользователя за месяц. Известно:\n",
    "- `сalls` — количество звонков,\n",
    "- `minutes` — суммарная длительность звонков в минутах,\n",
    "- `messages` — количество sms-сообщений,\n",
    "- `mb_used` — израсходованный интернет-трафик в Мб,\n",
    "- `is_ultra` — каким тарифом пользовался в течение месяца («Ультра» — 1, «Смарт» — 0).\n",
    "\n",
    "Нужно построить модель для задачи классификации, которая выберет подходящий тариф. Предобработка данных не понадобится — вы её уже сделали."
   ]
  },
  {
   "cell_type": "code",
   "execution_count": 29,
   "id": "6ccd5554-6acf-4d85-a944-70e57011cbc5",
   "metadata": {},
   "outputs": [
    {
     "name": "stdout",
     "output_type": "stream",
     "text": [
      "Wall time: 1e+03 µs\n"
     ]
    }
   ],
   "source": [
    "import pandas as pd\n",
    "import numpy as np\n",
    "import xgboost as xgb\n",
    "\n",
    "from sklearn.metrics import accuracy_score \n",
    "from sklearn.ensemble import RandomForestClassifier\n",
    "from sklearn.model_selection import RandomizedSearchCV, RepeatedStratifiedKFold, cross_val_score, HalvingGridSearchCV\n",
    "from sklearn.dummy import DummyClassifier\n",
    "from sklearn.experimental import enable_halving_search_cv\n",
    "from fast_ml.model_development import train_valid_test_split\n",
    "\n",
    "import warnings\n",
    "warnings.filterwarnings('ignore')\n"
   ]
  },
  {
   "cell_type": "code",
   "execution_count": 31,
   "id": "f16e3371-cdf2-4c68-a09c-d3a854abbcc1",
   "metadata": {},
   "outputs": [
    {
     "data": {
      "text/html": [
       "<div>\n",
       "<style scoped>\n",
       "    .dataframe tbody tr th:only-of-type {\n",
       "        vertical-align: middle;\n",
       "    }\n",
       "\n",
       "    .dataframe tbody tr th {\n",
       "        vertical-align: top;\n",
       "    }\n",
       "\n",
       "    .dataframe thead th {\n",
       "        text-align: right;\n",
       "    }\n",
       "</style>\n",
       "<table border=\"1\" class=\"dataframe\">\n",
       "  <thead>\n",
       "    <tr style=\"text-align: right;\">\n",
       "      <th></th>\n",
       "      <th>calls</th>\n",
       "      <th>minutes</th>\n",
       "      <th>messages</th>\n",
       "      <th>mb_used</th>\n",
       "      <th>is_ultra</th>\n",
       "    </tr>\n",
       "  </thead>\n",
       "  <tbody>\n",
       "    <tr>\n",
       "      <th>0</th>\n",
       "      <td>40.0</td>\n",
       "      <td>311.90</td>\n",
       "      <td>83.0</td>\n",
       "      <td>19915.42</td>\n",
       "      <td>0</td>\n",
       "    </tr>\n",
       "    <tr>\n",
       "      <th>1</th>\n",
       "      <td>85.0</td>\n",
       "      <td>516.75</td>\n",
       "      <td>56.0</td>\n",
       "      <td>22696.96</td>\n",
       "      <td>0</td>\n",
       "    </tr>\n",
       "    <tr>\n",
       "      <th>2</th>\n",
       "      <td>77.0</td>\n",
       "      <td>467.66</td>\n",
       "      <td>86.0</td>\n",
       "      <td>21060.45</td>\n",
       "      <td>0</td>\n",
       "    </tr>\n",
       "    <tr>\n",
       "      <th>3</th>\n",
       "      <td>106.0</td>\n",
       "      <td>745.53</td>\n",
       "      <td>81.0</td>\n",
       "      <td>8437.39</td>\n",
       "      <td>1</td>\n",
       "    </tr>\n",
       "    <tr>\n",
       "      <th>4</th>\n",
       "      <td>66.0</td>\n",
       "      <td>418.74</td>\n",
       "      <td>1.0</td>\n",
       "      <td>14502.75</td>\n",
       "      <td>0</td>\n",
       "    </tr>\n",
       "    <tr>\n",
       "      <th>...</th>\n",
       "      <td>...</td>\n",
       "      <td>...</td>\n",
       "      <td>...</td>\n",
       "      <td>...</td>\n",
       "      <td>...</td>\n",
       "    </tr>\n",
       "    <tr>\n",
       "      <th>3209</th>\n",
       "      <td>122.0</td>\n",
       "      <td>910.98</td>\n",
       "      <td>20.0</td>\n",
       "      <td>35124.90</td>\n",
       "      <td>1</td>\n",
       "    </tr>\n",
       "    <tr>\n",
       "      <th>3210</th>\n",
       "      <td>25.0</td>\n",
       "      <td>190.36</td>\n",
       "      <td>0.0</td>\n",
       "      <td>3275.61</td>\n",
       "      <td>0</td>\n",
       "    </tr>\n",
       "    <tr>\n",
       "      <th>3211</th>\n",
       "      <td>97.0</td>\n",
       "      <td>634.44</td>\n",
       "      <td>70.0</td>\n",
       "      <td>13974.06</td>\n",
       "      <td>0</td>\n",
       "    </tr>\n",
       "    <tr>\n",
       "      <th>3212</th>\n",
       "      <td>64.0</td>\n",
       "      <td>462.32</td>\n",
       "      <td>90.0</td>\n",
       "      <td>31239.78</td>\n",
       "      <td>0</td>\n",
       "    </tr>\n",
       "    <tr>\n",
       "      <th>3213</th>\n",
       "      <td>80.0</td>\n",
       "      <td>566.09</td>\n",
       "      <td>6.0</td>\n",
       "      <td>29480.52</td>\n",
       "      <td>1</td>\n",
       "    </tr>\n",
       "  </tbody>\n",
       "</table>\n",
       "<p>3214 rows × 5 columns</p>\n",
       "</div>"
      ],
      "text/plain": [
       "      calls  minutes  messages   mb_used  is_ultra\n",
       "0      40.0   311.90      83.0  19915.42         0\n",
       "1      85.0   516.75      56.0  22696.96         0\n",
       "2      77.0   467.66      86.0  21060.45         0\n",
       "3     106.0   745.53      81.0   8437.39         1\n",
       "4      66.0   418.74       1.0  14502.75         0\n",
       "...     ...      ...       ...       ...       ...\n",
       "3209  122.0   910.98      20.0  35124.90         1\n",
       "3210   25.0   190.36       0.0   3275.61         0\n",
       "3211   97.0   634.44      70.0  13974.06         0\n",
       "3212   64.0   462.32      90.0  31239.78         0\n",
       "3213   80.0   566.09       6.0  29480.52         1\n",
       "\n",
       "[3214 rows x 5 columns]"
      ]
     },
     "metadata": {},
     "output_type": "display_data"
    }
   ],
   "source": [
    "display(df)\n"
   ]
  },
  {
   "cell_type": "code",
   "execution_count": null,
   "id": "335590fb-594a-4c50-bb0c-e7234eb80889",
   "metadata": {},
   "outputs": [
    {
     "name": "stdout",
     "output_type": "stream",
     "text": [
      "Requirement already satisfied: fast_ml in c:\\users\\dtata\\anaconda3\\lib\\site-packages (3.68)\n"
     ]
    }
   ],
   "source": [
    "# Разделение исходных данных на обучающую, валидационную и тестовую выборки.\n",
    "X_train, y_train, X_valid, y_valid, X_test, y_test = train_valid_test_split(df, \n",
    "    target = 'is_ultra', train_size=0.6, valid_size=0.2, test_size=0.2)"
   ]
  },
  {
   "cell_type": "markdown",
   "id": "22cc9d5f-a19d-4097-87db-8bfa9869a042",
   "metadata": {},
   "source": [
    "## Исследование качества разных моделей, изменение гиперпараметров. "
   ]
  },
  {
   "cell_type": "markdown",
   "id": "4a3b6e1f-8217-4323-b3e1-bf950ca9b19e",
   "metadata": {},
   "source": [
    "**Вариант 1.RandomizedSearchCV:**"
   ]
  },
  {
   "cell_type": "code",
   "execution_count": null,
   "id": "acac5906-7815-4257-9cb6-c382b195bf6c",
   "metadata": {},
   "outputs": [],
   "source": [
    "%%time\n",
    "\n",
    "n_estimators = [int(x) for x in np.linspace(start = 200, stop = 2000, num = 10)]\n",
    "\n",
    "max_depth = [int(x) for x in np.linspace(10, 110, num = 11)]\n",
    "\n",
    "max_features = ['auto', 'sqrt']\n",
    "\n",
    "min_samples_split = [2, 5, 10]\n",
    "\n",
    "min_samples_leaf = [1, 2, 4]\n",
    "\n",
    "rf_grid = {'n_estimators': n_estimators,\n",
    "           'max_features': max_features,\n",
    "           'max_depth': max_depth,\n",
    "           'min_samples_split': min_samples_split,\n",
    "           'min_samples_leaf': min_samples_leaf}\n",
    "\n",
    "cv = RepeatedStratifiedKFold(n_splits=10, n_repeats=3, random_state=1)\n",
    "\n",
    "model = RandomizedSearchCV(estimator = RandomForestClassifier(), \n",
    "                   param_distributions = rf_grid, \n",
    "                   cv = cv, n_iter = 100, scoring='accuracy', n_jobs=-1)\n",
    "\n",
    "result = model.fit(X_train, y_train)\n",
    "\n",
    "print('Best Score: %s' % result.best_score_)\n",
    "print('Best Hyperparameters: %s' % result.best_params_)\n",
    "\n",
    "# make predictions for test data\n",
    "y_pred = model.predict(X_test)\n",
    "predictions = [round(value) for value in y_pred]\n",
    "# evaluate predictions\n",
    "accuracy = accuracy_score(y_test, predictions)\n",
    "print(\"Accuracy: %.2f%%\" % (accuracy * 100.0))\n"
   ]
  },
  {
   "cell_type": "raw",
   "id": "7e072ecb-09a1-4795-ae5d-d53423431896",
   "metadata": {},
   "source": [
    "Best Score: 0.8017064263097293\n",
    "Best Hyperparameters: {'n_estimators': 1400, 'min_samples_split': 10, 'min_samples_leaf': 2, 'max_features': 'sqrt', 'max_depth': 10}\n",
    "Wall time: 3h 11min 58s"
   ]
  },
  {
   "cell_type": "markdown",
   "id": "6b13ef37-80e2-4df3-8991-a465202432e8",
   "metadata": {},
   "source": [
    "**Вариант 2. HalvingGridSearchCV:**"
   ]
  },
  {
   "cell_type": "code",
   "execution_count": 38,
   "id": "084e37c1-8223-41d9-9c60-9af8ab8d21ef",
   "metadata": {},
   "outputs": [
    {
     "name": "stdout",
     "output_type": "stream",
     "text": [
      "Best Score: 0.8268182981783287\n",
      "Best Hyperparameters: {'gamma': 0.5, 'max_depth': 3, 'min_child_weight': 1, 'reg_lambda': 5, 'scale_pos_weight': 1}\n",
      "Accuracy: 80.40%\n",
      "Wall time: 9min 12s\n"
     ]
    }
   ],
   "source": [
    "%%time\n",
    "param_grid = {\n",
    "\"max_depth\": [3, 4, 7, 10, 25],\n",
    "\"gamma\": [0.5, 1, 5, 10, 25],\n",
    "\"min_child_weight\": [1, 3, 5, 10, 25],\n",
    "\"reg_lambda\": [5, 10, 50, 100, 300],\n",
    "\"scale_pos_weight\": [1, 3, 5, 10, 25]\n",
    "}\n",
    "# Grid Search CV implementation\n",
    "xgb_cl = xgb.XGBClassifier(objective=\"binary:logistic\")\n",
    "model = HalvingGridSearchCV(xgb_cl, param_grid, scoring=\"roc_auc\", n_jobs=-1, min_resources=\"exhaust\", factor=3)\n",
    "model.fit(X_train, y_train)\n",
    "# Return set of parameters with the best performance\n",
    "\n",
    "result = model.fit(X_train, y_train)\n",
    "\n",
    "print('Best Score: %s' % result.best_score_)\n",
    "print('Best Hyperparameters: %s' % result.best_params_)\n",
    "\n",
    "# make predictions for test data\n",
    "y_pred = model.predict(X_test)\n",
    "predictions = [round(value) for value in y_pred]\n",
    "# evaluate predictions\n",
    "accuracy = accuracy_score(y_test, predictions)\n",
    "print(\"Accuracy: %.2f%%\" % (accuracy * 100.0))\n"
   ]
  },
  {
   "cell_type": "markdown",
   "id": "3be49f96-74f4-4224-80c7-2054822bc828",
   "metadata": {},
   "source": [
    "## Проверка качества модели на тестовой выборке."
   ]
  },
  {
   "cell_type": "code",
   "execution_count": 36,
   "id": "2fb7395c-f1da-4893-9bb2-9f9143a50aaf",
   "metadata": {},
   "outputs": [
    {
     "name": "stdout",
     "output_type": "stream",
     "text": [
      "Wall time: 2 ms\n"
     ]
    },
    {
     "data": {
      "text/plain": [
       "0.6702954898911353"
      ]
     },
     "execution_count": 36,
     "metadata": {},
     "output_type": "execute_result"
    }
   ],
   "source": [
    "%%time\n",
    "clf = DummyClassifier(strategy='most_frequent', random_state=0)\n",
    "clf.fit(X_train, y_train)\n",
    "#DummyClassifier(random_state=0, strategy='most_frequent')\n",
    "clf.score(X_test, y_test)\n"
   ]
  },
  {
   "cell_type": "code",
   "execution_count": 37,
   "id": "6facbab9-3520-4425-9bdd-63c57064328c",
   "metadata": {},
   "outputs": [
    {
     "data": {
      "text/plain": [
       "0    0.693528\n",
       "1    0.306472\n",
       "Name: is_ultra, dtype: float64"
      ]
     },
     "execution_count": 37,
     "metadata": {},
     "output_type": "execute_result"
    }
   ],
   "source": [
    "df['is_ultra'].value_counts() / df.shape[0]\n"
   ]
  },
  {
   "cell_type": "markdown",
   "id": "5b433c2a-f3db-42d8-bc95-2ed539cf7f8a",
   "metadata": {
    "jp-MarkdownHeadingCollapsed": true,
    "tags": []
   },
   "source": [
    "## Заключение\n",
    "- Разделили исходные данные на обучающую, валидационную и тестовую выборки (60-20-20).\n",
    "- Построили модель с максимально большим значением accuracy. Довели долю правильных ответов более 0.75 и проверили accuracy на тестовой выборке."
   ]
  }
 ],
 "metadata": {
  "ExecuteTimeLog": [
   {
    "duration": 44,
    "start_time": "2022-05-24T04:31:36.363Z"
   }
  ],
  "kernelspec": {
   "display_name": "Python 3 (ipykernel)",
   "language": "python",
   "name": "python3"
  },
  "language_info": {
   "codemirror_mode": {
    "name": "ipython",
    "version": 3
   },
   "file_extension": ".py",
   "mimetype": "text/x-python",
   "name": "python",
   "nbconvert_exporter": "python",
   "pygments_lexer": "ipython3",
   "version": "3.9.7"
  },
  "toc": {
   "base_numbering": 1,
   "nav_menu": {},
   "number_sections": true,
   "sideBar": true,
   "skip_h1_title": true,
   "title_cell": "Table of Contents",
   "title_sidebar": "Contents",
   "toc_cell": false,
   "toc_position": {},
   "toc_section_display": true,
   "toc_window_display": false
  }
 },
 "nbformat": 4,
 "nbformat_minor": 5
}
