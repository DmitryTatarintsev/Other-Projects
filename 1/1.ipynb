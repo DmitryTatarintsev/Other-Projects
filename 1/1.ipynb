{
 "cells": [
  {
   "cell_type": "markdown",
   "metadata": {
    "id": "E0vqbgi9ay0H"
   },
   "source": [
    "# Яндекс.Музыка\n",
    "Нужно про анализировать предпочтения пользователей."
   ]
  },
  {
   "cell_type": "markdown",
   "metadata": {
    "id": "Ml1hmfXC_Zcs",
    "tags": []
   },
   "source": [
    "## Обзор данных"
   ]
  },
  {
   "cell_type": "code",
   "execution_count": 1,
   "metadata": {
    "id": "AXN7PHPN_Zcs"
   },
   "outputs": [],
   "source": [
    "import pandas as pd\n"
   ]
  },
  {
   "cell_type": "code",
   "execution_count": 3,
   "metadata": {
    "id": "oWTVX3gW_Zct"
   },
   "outputs": [
    {
     "data": {
      "text/html": [
       "<div>\n",
       "<style scoped>\n",
       "    .dataframe tbody tr th:only-of-type {\n",
       "        vertical-align: middle;\n",
       "    }\n",
       "\n",
       "    .dataframe tbody tr th {\n",
       "        vertical-align: top;\n",
       "    }\n",
       "\n",
       "    .dataframe thead th {\n",
       "        text-align: right;\n",
       "    }\n",
       "</style>\n",
       "<table border=\"1\" class=\"dataframe\">\n",
       "  <thead>\n",
       "    <tr style=\"text-align: right;\">\n",
       "      <th></th>\n",
       "      <th>userID</th>\n",
       "      <th>Track</th>\n",
       "      <th>artist</th>\n",
       "      <th>genre</th>\n",
       "      <th>City</th>\n",
       "      <th>time</th>\n",
       "      <th>Day</th>\n",
       "    </tr>\n",
       "  </thead>\n",
       "  <tbody>\n",
       "    <tr>\n",
       "      <th>0</th>\n",
       "      <td>FFB692EC</td>\n",
       "      <td>Kamigata To Boots</td>\n",
       "      <td>The Mass Missile</td>\n",
       "      <td>rock</td>\n",
       "      <td>Saint-Petersburg</td>\n",
       "      <td>20:28:33</td>\n",
       "      <td>Wednesday</td>\n",
       "    </tr>\n",
       "    <tr>\n",
       "      <th>1</th>\n",
       "      <td>55204538</td>\n",
       "      <td>Delayed Because of Accident</td>\n",
       "      <td>Andreas Rönnberg</td>\n",
       "      <td>rock</td>\n",
       "      <td>Moscow</td>\n",
       "      <td>14:07:09</td>\n",
       "      <td>Friday</td>\n",
       "    </tr>\n",
       "    <tr>\n",
       "      <th>2</th>\n",
       "      <td>20EC38</td>\n",
       "      <td>Funiculì funiculà</td>\n",
       "      <td>Mario Lanza</td>\n",
       "      <td>pop</td>\n",
       "      <td>Saint-Petersburg</td>\n",
       "      <td>20:58:07</td>\n",
       "      <td>Wednesday</td>\n",
       "    </tr>\n",
       "    <tr>\n",
       "      <th>3</th>\n",
       "      <td>A3DD03C9</td>\n",
       "      <td>Dragons in the Sunset</td>\n",
       "      <td>Fire + Ice</td>\n",
       "      <td>folk</td>\n",
       "      <td>Saint-Petersburg</td>\n",
       "      <td>08:37:09</td>\n",
       "      <td>Monday</td>\n",
       "    </tr>\n",
       "    <tr>\n",
       "      <th>4</th>\n",
       "      <td>E2DC1FAE</td>\n",
       "      <td>Soul People</td>\n",
       "      <td>Space Echo</td>\n",
       "      <td>dance</td>\n",
       "      <td>Moscow</td>\n",
       "      <td>08:34:34</td>\n",
       "      <td>Monday</td>\n",
       "    </tr>\n",
       "    <tr>\n",
       "      <th>5</th>\n",
       "      <td>842029A1</td>\n",
       "      <td>Преданная</td>\n",
       "      <td>IMPERVTOR</td>\n",
       "      <td>rusrap</td>\n",
       "      <td>Saint-Petersburg</td>\n",
       "      <td>13:09:41</td>\n",
       "      <td>Friday</td>\n",
       "    </tr>\n",
       "    <tr>\n",
       "      <th>6</th>\n",
       "      <td>4CB90AA5</td>\n",
       "      <td>True</td>\n",
       "      <td>Roman Messer</td>\n",
       "      <td>dance</td>\n",
       "      <td>Moscow</td>\n",
       "      <td>13:00:07</td>\n",
       "      <td>Wednesday</td>\n",
       "    </tr>\n",
       "    <tr>\n",
       "      <th>7</th>\n",
       "      <td>F03E1C1F</td>\n",
       "      <td>Feeling This Way</td>\n",
       "      <td>Polina Griffith</td>\n",
       "      <td>dance</td>\n",
       "      <td>Moscow</td>\n",
       "      <td>20:47:49</td>\n",
       "      <td>Wednesday</td>\n",
       "    </tr>\n",
       "    <tr>\n",
       "      <th>8</th>\n",
       "      <td>8FA1D3BE</td>\n",
       "      <td>И вновь продолжается бой</td>\n",
       "      <td>NaN</td>\n",
       "      <td>ruspop</td>\n",
       "      <td>Moscow</td>\n",
       "      <td>09:17:40</td>\n",
       "      <td>Friday</td>\n",
       "    </tr>\n",
       "    <tr>\n",
       "      <th>9</th>\n",
       "      <td>E772D5C0</td>\n",
       "      <td>Pessimist</td>\n",
       "      <td>NaN</td>\n",
       "      <td>dance</td>\n",
       "      <td>Saint-Petersburg</td>\n",
       "      <td>21:20:49</td>\n",
       "      <td>Wednesday</td>\n",
       "    </tr>\n",
       "  </tbody>\n",
       "</table>\n",
       "</div>"
      ],
      "text/plain": [
       "     userID                        Track            artist   genre  \\\n",
       "0  FFB692EC            Kamigata To Boots  The Mass Missile    rock   \n",
       "1  55204538  Delayed Because of Accident  Andreas Rönnberg    rock   \n",
       "2    20EC38            Funiculì funiculà       Mario Lanza     pop   \n",
       "3  A3DD03C9        Dragons in the Sunset        Fire + Ice    folk   \n",
       "4  E2DC1FAE                  Soul People        Space Echo   dance   \n",
       "5  842029A1                    Преданная         IMPERVTOR  rusrap   \n",
       "6  4CB90AA5                         True      Roman Messer   dance   \n",
       "7  F03E1C1F             Feeling This Way   Polina Griffith   dance   \n",
       "8  8FA1D3BE     И вновь продолжается бой               NaN  ruspop   \n",
       "9  E772D5C0                    Pessimist               NaN   dance   \n",
       "\n",
       "             City        time        Day  \n",
       "0  Saint-Petersburg  20:28:33  Wednesday  \n",
       "1            Moscow  14:07:09     Friday  \n",
       "2  Saint-Petersburg  20:58:07  Wednesday  \n",
       "3  Saint-Petersburg  08:37:09     Monday  \n",
       "4            Moscow  08:34:34     Monday  \n",
       "5  Saint-Petersburg  13:09:41     Friday  \n",
       "6            Moscow  13:00:07  Wednesday  \n",
       "7            Moscow  20:47:49  Wednesday  \n",
       "8            Moscow  09:17:40     Friday  \n",
       "9  Saint-Petersburg  21:20:49  Wednesday  "
      ]
     },
     "execution_count": 3,
     "metadata": {},
     "output_type": "execute_result"
    }
   ],
   "source": [
    "df.head(10)\n"
   ]
  },
  {
   "cell_type": "code",
   "execution_count": 4,
   "metadata": {
    "id": "DSf2kIb-_Zct"
   },
   "outputs": [
    {
     "name": "stdout",
     "output_type": "stream",
     "text": [
      "<class 'pandas.core.frame.DataFrame'>\n",
      "RangeIndex: 65079 entries, 0 to 65078\n",
      "Data columns (total 7 columns):\n",
      " #   Column    Non-Null Count  Dtype \n",
      "---  ------    --------------  ----- \n",
      " 0     userID  65079 non-null  object\n",
      " 1   Track     63848 non-null  object\n",
      " 2   artist    57876 non-null  object\n",
      " 3   genre     63881 non-null  object\n",
      " 4     City    65079 non-null  object\n",
      " 5   time      65079 non-null  object\n",
      " 6   Day       65079 non-null  object\n",
      "dtypes: object(7)\n",
      "memory usage: 3.5+ MB\n"
     ]
    }
   ],
   "source": [
    "df.info()\n"
   ]
  },
  {
   "cell_type": "markdown",
   "metadata": {
    "id": "TaQ2Iwbr_Zct"
   },
   "source": [
    "Итак, в таблице семь столбцов. Тип данных во всех столбцах — `object`.\n",
    "\n",
    "Согласно документации к данным:\n",
    "* `userID` — идентификатор пользователя;\n",
    "* `Track` — название трека;  \n",
    "* `artist` — имя исполнителя;\n",
    "* `genre` — название жанра;\n",
    "* `City` — город пользователя;\n",
    "* `time` — время начала прослушивания;\n",
    "* `Day` — день недели.\n",
    "\n",
    "В названиях колонок видны три нарушения стиля:\n",
    "1. Строчные буквы сочетаются с прописными.\n",
    "2. Встречаются пробелы.\n",
    "3. Найдите ещё одну проблему в названии колонок и опишите её в этом пункте.\n",
    "\n",
    "\n",
    "\n",
    "Количество значений в столбцах различается. Значит, в данных есть пропущенные значения.\n"
   ]
  },
  {
   "cell_type": "markdown",
   "metadata": {
    "id": "MCB6-dXG_Zct"
   },
   "source": [
    "**Выводы**\n",
    "\n",
    "В каждой строке таблицы — данные о прослушанном треке. Часть колонок описывает саму композицию: название, исполнителя и жанр. Остальные данные рассказывают о пользователе: из какого он города, когда он слушал музыку. \n",
    "\n",
    "Предварительно можно утверждать, что, данных достаточно для проверки гипотез. Но встречаются пропуски в данных, а в названиях колонок — расхождения с хорошим стилем.\n",
    "\n",
    "Чтобы двигаться дальше, нужно устранить проблемы в данных."
   ]
  },
  {
   "cell_type": "markdown",
   "metadata": {
    "id": "SjYF6Ub9_Zct",
    "tags": []
   },
   "source": [
    "## Предобработка данных"
   ]
  },
  {
   "cell_type": "markdown",
   "metadata": {
    "id": "dIaKXr29_Zct"
   },
   "source": [
    "### Стиль заголовков"
   ]
  },
  {
   "cell_type": "code",
   "execution_count": 5,
   "metadata": {
    "id": "oKOTdF_Q_Zct"
   },
   "outputs": [
    {
     "data": {
      "text/plain": [
       "Index(['  userID', 'Track', 'artist', 'genre', '  City  ', 'time', 'Day'], dtype='object')"
      ]
     },
     "execution_count": 5,
     "metadata": {},
     "output_type": "execute_result"
    }
   ],
   "source": [
    "df.columns\n"
   ]
  },
  {
   "cell_type": "code",
   "execution_count": 6,
   "metadata": {
    "id": "ISlFqs5y_Zct"
   },
   "outputs": [],
   "source": [
    "columns = {'  userID':'user_id','Track':'track','  City  ':'city','Day':'day'}\n",
    "df = df.rename(columns=columns)\n"
   ]
  },
  {
   "cell_type": "code",
   "execution_count": 7,
   "metadata": {
    "id": "d4NOAmTW_Zct"
   },
   "outputs": [
    {
     "data": {
      "text/plain": [
       "Index(['user_id', 'track', 'artist', 'genre', 'city', 'time', 'day'], dtype='object')"
      ]
     },
     "execution_count": 7,
     "metadata": {},
     "output_type": "execute_result"
    }
   ],
   "source": [
    "df.columns\n"
   ]
  },
  {
   "cell_type": "markdown",
   "metadata": {
    "id": "5ISfbcfY_Zct"
   },
   "source": [
    "### Пропуски значений"
   ]
  },
  {
   "cell_type": "code",
   "execution_count": 8,
   "metadata": {
    "id": "RskX29qr_Zct"
   },
   "outputs": [
    {
     "data": {
      "text/plain": [
       "user_id       0\n",
       "track      1231\n",
       "artist     7203\n",
       "genre      1198\n",
       "city          0\n",
       "time          0\n",
       "day           0\n",
       "dtype: int64"
      ]
     },
     "execution_count": 8,
     "metadata": {},
     "output_type": "execute_result"
    }
   ],
   "source": [
    "df.isna().sum()\n"
   ]
  },
  {
   "cell_type": "code",
   "execution_count": 9,
   "metadata": {
    "id": "KplB5qWs_Zct"
   },
   "outputs": [],
   "source": [
    "columns_to_replace = ['track','artist','genre']\n",
    "for column in columns_to_replace:\n",
    "    df[column] = df[column].fillna('unknown')\n",
    "    "
   ]
  },
  {
   "cell_type": "code",
   "execution_count": 10,
   "metadata": {
    "id": "Tq4nYRX4_Zct",
    "scrolled": true
   },
   "outputs": [
    {
     "data": {
      "text/plain": [
       "user_id    0\n",
       "track      0\n",
       "artist     0\n",
       "genre      0\n",
       "city       0\n",
       "time       0\n",
       "day        0\n",
       "dtype: int64"
      ]
     },
     "execution_count": 10,
     "metadata": {},
     "output_type": "execute_result"
    }
   ],
   "source": [
    "df.isna().sum()\n"
   ]
  },
  {
   "cell_type": "markdown",
   "metadata": {},
   "source": [
    "### Дубликаты"
   ]
  },
  {
   "cell_type": "code",
   "execution_count": 11,
   "metadata": {
    "id": "36eES_S0_Zct"
   },
   "outputs": [
    {
     "data": {
      "text/plain": [
       "3826"
      ]
     },
     "execution_count": 11,
     "metadata": {},
     "output_type": "execute_result"
    }
   ],
   "source": [
    "df.duplicated().sum()\n"
   ]
  },
  {
   "cell_type": "code",
   "execution_count": 12,
   "metadata": {
    "id": "exFHq6tt_Zct"
   },
   "outputs": [],
   "source": [
    "df = df.drop_duplicates().reset_index(drop=True)\n"
   ]
  },
  {
   "cell_type": "code",
   "execution_count": 13,
   "metadata": {
    "id": "-8PuNWQ0_Zct"
   },
   "outputs": [
    {
     "data": {
      "text/plain": [
       "0"
      ]
     },
     "execution_count": 13,
     "metadata": {},
     "output_type": "execute_result"
    }
   ],
   "source": [
    "df.duplicated().sum()\n"
   ]
  },
  {
   "cell_type": "code",
   "execution_count": 14,
   "metadata": {
    "id": "JIUcqzZN_Zct"
   },
   "outputs": [
    {
     "data": {
      "text/plain": [
       "array(['acid', 'acoustic', 'action', 'adult', 'africa', 'afrikaans',\n",
       "       'alternative', 'alternativepunk', 'ambient', 'americana',\n",
       "       'animated', 'anime', 'arabesk', 'arabic', 'arena',\n",
       "       'argentinetango', 'art', 'audiobook', 'author', 'avantgarde',\n",
       "       'axé', 'baile', 'balkan', 'beats', 'bigroom', 'black', 'bluegrass',\n",
       "       'blues', 'bollywood', 'bossa', 'brazilian', 'breakbeat', 'breaks',\n",
       "       'broadway', 'cantautori', 'cantopop', 'canzone', 'caribbean',\n",
       "       'caucasian', 'celtic', 'chamber', 'chanson', 'children', 'chill',\n",
       "       'chinese', 'choral', 'christian', 'christmas', 'classical',\n",
       "       'classicmetal', 'club', 'colombian', 'comedy', 'conjazz',\n",
       "       'contemporary', 'country', 'cuban', 'dance', 'dancehall',\n",
       "       'dancepop', 'dark', 'death', 'deep', 'deutschrock', 'deutschspr',\n",
       "       'dirty', 'disco', 'dnb', 'documentary', 'downbeat', 'downtempo',\n",
       "       'drum', 'dub', 'dubstep', 'eastern', 'easy', 'electronic',\n",
       "       'electropop', 'emo', 'entehno', 'epicmetal', 'estrada', 'ethnic',\n",
       "       'eurofolk', 'european', 'experimental', 'extrememetal', 'fado',\n",
       "       'fairytail', 'film', 'fitness', 'flamenco', 'folk', 'folklore',\n",
       "       'folkmetal', 'folkrock', 'folktronica', 'forró', 'frankreich',\n",
       "       'französisch', 'french', 'funk', 'future', 'gangsta', 'garage',\n",
       "       'german', 'ghazal', 'gitarre', 'glitch', 'gospel', 'gothic',\n",
       "       'grime', 'grunge', 'gypsy', 'handsup', \"hard'n'heavy\", 'hardcore',\n",
       "       'hardstyle', 'hardtechno', 'hip', 'hip-hop', 'hiphop',\n",
       "       'historisch', 'holiday', 'hop', 'horror', 'house', 'hymn', 'idm',\n",
       "       'independent', 'indian', 'indie', 'indipop', 'industrial',\n",
       "       'inspirational', 'instrumental', 'international', 'irish', 'jam',\n",
       "       'japanese', 'jazz', 'jewish', 'jpop', 'jungle', 'k-pop',\n",
       "       'karadeniz', 'karaoke', 'kayokyoku', 'korean', 'laiko', 'latin',\n",
       "       'latino', 'leftfield', 'local', 'lounge', 'loungeelectronic',\n",
       "       'lovers', 'malaysian', 'mandopop', 'marschmusik', 'meditative',\n",
       "       'mediterranean', 'melodic', 'metal', 'metalcore', 'mexican',\n",
       "       'middle', 'minimal', 'miscellaneous', 'modern', 'mood', 'mpb',\n",
       "       'muslim', 'native', 'neoklassik', 'neue', 'new', 'newage',\n",
       "       'newwave', 'nu', 'nujazz', 'numetal', 'oceania', 'old', 'opera',\n",
       "       'orchestral', 'other', 'piano', 'podcasts', 'pop', 'popdance',\n",
       "       'popelectronic', 'popeurodance', 'poprussian', 'post',\n",
       "       'posthardcore', 'postrock', 'power', 'progmetal', 'progressive',\n",
       "       'psychedelic', 'punjabi', 'punk', 'quebecois', 'ragga', 'ram',\n",
       "       'rancheras', 'rap', 'rave', 'reggae', 'reggaeton', 'regional',\n",
       "       'relax', 'religious', 'retro', 'rhythm', 'rnb', 'rnr', 'rock',\n",
       "       'rockabilly', 'rockalternative', 'rockindie', 'rockother',\n",
       "       'romance', 'roots', 'ruspop', 'rusrap', 'rusrock', 'russian',\n",
       "       'salsa', 'samba', 'scenic', 'schlager', 'self', 'sertanejo',\n",
       "       'shanson', 'shoegazing', 'showtunes', 'singer', 'ska', 'skarock',\n",
       "       'slow', 'smooth', 'soft', 'soul', 'soulful', 'sound', 'soundtrack',\n",
       "       'southern', 'specialty', 'speech', 'spiritual', 'sport',\n",
       "       'stonerrock', 'surf', 'swing', 'synthpop', 'synthrock',\n",
       "       'sängerportrait', 'tango', 'tanzorchester', 'taraftar', 'tatar',\n",
       "       'tech', 'techno', 'teen', 'thrash', 'top', 'traditional',\n",
       "       'tradjazz', 'trance', 'tribal', 'trip', 'triphop', 'tropical',\n",
       "       'türk', 'türkçe', 'ukrrock', 'unknown', 'urban', 'uzbek',\n",
       "       'variété', 'vi', 'videogame', 'vocal', 'western', 'world',\n",
       "       'worldbeat', 'ïîï', 'электроника'], dtype=object)"
      ]
     },
     "execution_count": 14,
     "metadata": {},
     "output_type": "execute_result"
    }
   ],
   "source": [
    "df['genre'].sort_values().unique()\n"
   ]
  },
  {
   "cell_type": "code",
   "execution_count": 15,
   "metadata": {
    "id": "ErNDkmns_Zct"
   },
   "outputs": [],
   "source": [
    "def replace_wrong_genres(wrong_genres,correct_genre):\n",
    "    for wrong_genre in wrong_genres:\n",
    "        df['genre'] = df['genre'].replace(wrong_genre,correct_genre)\n"
   ]
  },
  {
   "cell_type": "code",
   "execution_count": 16,
   "metadata": {
    "id": "YN5i2hpmSo09"
   },
   "outputs": [],
   "source": [
    "wrong = ['hip', 'hop', 'hip-hop']\n",
    "correct = 'hiphop'\n",
    "\n",
    "replace_wrong_genres(wrong,correct)\n"
   ]
  },
  {
   "cell_type": "code",
   "execution_count": 17,
   "metadata": {
    "id": "wvixALnFG15m"
   },
   "outputs": [
    {
     "data": {
      "text/plain": [
       "array(['acid', 'acoustic', 'action', 'adult', 'africa', 'afrikaans',\n",
       "       'alternative', 'alternativepunk', 'ambient', 'americana',\n",
       "       'animated', 'anime', 'arabesk', 'arabic', 'arena',\n",
       "       'argentinetango', 'art', 'audiobook', 'author', 'avantgarde',\n",
       "       'axé', 'baile', 'balkan', 'beats', 'bigroom', 'black', 'bluegrass',\n",
       "       'blues', 'bollywood', 'bossa', 'brazilian', 'breakbeat', 'breaks',\n",
       "       'broadway', 'cantautori', 'cantopop', 'canzone', 'caribbean',\n",
       "       'caucasian', 'celtic', 'chamber', 'chanson', 'children', 'chill',\n",
       "       'chinese', 'choral', 'christian', 'christmas', 'classical',\n",
       "       'classicmetal', 'club', 'colombian', 'comedy', 'conjazz',\n",
       "       'contemporary', 'country', 'cuban', 'dance', 'dancehall',\n",
       "       'dancepop', 'dark', 'death', 'deep', 'deutschrock', 'deutschspr',\n",
       "       'dirty', 'disco', 'dnb', 'documentary', 'downbeat', 'downtempo',\n",
       "       'drum', 'dub', 'dubstep', 'eastern', 'easy', 'electronic',\n",
       "       'electropop', 'emo', 'entehno', 'epicmetal', 'estrada', 'ethnic',\n",
       "       'eurofolk', 'european', 'experimental', 'extrememetal', 'fado',\n",
       "       'fairytail', 'film', 'fitness', 'flamenco', 'folk', 'folklore',\n",
       "       'folkmetal', 'folkrock', 'folktronica', 'forró', 'frankreich',\n",
       "       'französisch', 'french', 'funk', 'future', 'gangsta', 'garage',\n",
       "       'german', 'ghazal', 'gitarre', 'glitch', 'gospel', 'gothic',\n",
       "       'grime', 'grunge', 'gypsy', 'handsup', \"hard'n'heavy\", 'hardcore',\n",
       "       'hardstyle', 'hardtechno', 'hiphop', 'historisch', 'holiday',\n",
       "       'horror', 'house', 'hymn', 'idm', 'independent', 'indian', 'indie',\n",
       "       'indipop', 'industrial', 'inspirational', 'instrumental',\n",
       "       'international', 'irish', 'jam', 'japanese', 'jazz', 'jewish',\n",
       "       'jpop', 'jungle', 'k-pop', 'karadeniz', 'karaoke', 'kayokyoku',\n",
       "       'korean', 'laiko', 'latin', 'latino', 'leftfield', 'local',\n",
       "       'lounge', 'loungeelectronic', 'lovers', 'malaysian', 'mandopop',\n",
       "       'marschmusik', 'meditative', 'mediterranean', 'melodic', 'metal',\n",
       "       'metalcore', 'mexican', 'middle', 'minimal', 'miscellaneous',\n",
       "       'modern', 'mood', 'mpb', 'muslim', 'native', 'neoklassik', 'neue',\n",
       "       'new', 'newage', 'newwave', 'nu', 'nujazz', 'numetal', 'oceania',\n",
       "       'old', 'opera', 'orchestral', 'other', 'piano', 'podcasts', 'pop',\n",
       "       'popdance', 'popelectronic', 'popeurodance', 'poprussian', 'post',\n",
       "       'posthardcore', 'postrock', 'power', 'progmetal', 'progressive',\n",
       "       'psychedelic', 'punjabi', 'punk', 'quebecois', 'ragga', 'ram',\n",
       "       'rancheras', 'rap', 'rave', 'reggae', 'reggaeton', 'regional',\n",
       "       'relax', 'religious', 'retro', 'rhythm', 'rnb', 'rnr', 'rock',\n",
       "       'rockabilly', 'rockalternative', 'rockindie', 'rockother',\n",
       "       'romance', 'roots', 'ruspop', 'rusrap', 'rusrock', 'russian',\n",
       "       'salsa', 'samba', 'scenic', 'schlager', 'self', 'sertanejo',\n",
       "       'shanson', 'shoegazing', 'showtunes', 'singer', 'ska', 'skarock',\n",
       "       'slow', 'smooth', 'soft', 'soul', 'soulful', 'sound', 'soundtrack',\n",
       "       'southern', 'specialty', 'speech', 'spiritual', 'sport',\n",
       "       'stonerrock', 'surf', 'swing', 'synthpop', 'synthrock',\n",
       "       'sängerportrait', 'tango', 'tanzorchester', 'taraftar', 'tatar',\n",
       "       'tech', 'techno', 'teen', 'thrash', 'top', 'traditional',\n",
       "       'tradjazz', 'trance', 'tribal', 'trip', 'triphop', 'tropical',\n",
       "       'türk', 'türkçe', 'ukrrock', 'unknown', 'urban', 'uzbek',\n",
       "       'variété', 'vi', 'videogame', 'vocal', 'western', 'world',\n",
       "       'worldbeat', 'ïîï', 'электроника'], dtype=object)"
      ]
     },
     "execution_count": 17,
     "metadata": {},
     "output_type": "execute_result"
    }
   ],
   "source": [
    "df['genre'].sort_values().unique()\n"
   ]
  },
  {
   "cell_type": "markdown",
   "metadata": {
    "id": "jz6a9-7HQUDd"
   },
   "source": [
    "**Выводы**\n",
    "\n",
    "Предобработка обнаружила три проблемы в данных:\n",
    "\n",
    "- нарушения в стиле заголовков,\n",
    "- пропущенные значения,\n",
    "- дубликаты — явные и неявные."
   ]
  },
  {
   "cell_type": "markdown",
   "metadata": {
    "id": "WttZHXH0SqKk"
   },
   "source": [
    "## Проверка гипотез"
   ]
  },
  {
   "cell_type": "markdown",
   "metadata": {
    "id": "Im936VVi_Zcu"
   },
   "source": [
    "### Сравнение поведения пользователей двух столиц"
   ]
  },
  {
   "cell_type": "markdown",
   "metadata": {
    "id": "nwt_MuaL_Zcu"
   },
   "source": [
    "Первая гипотеза утверждает, что пользователи по-разному слушают музыку в Москве и Санкт-Петербурге. Проверить нужно по данным о трёх днях недели — понедельнике, среде и пятнице."
   ]
  },
  {
   "cell_type": "code",
   "execution_count": 18,
   "metadata": {
    "id": "0_Qs96oh_Zcu",
    "scrolled": true
   },
   "outputs": [
    {
     "data": {
      "text/plain": [
       "city\n",
       "Moscow              42741\n",
       "Saint-Petersburg    18512\n",
       "Name: user_id, dtype: int64"
      ]
     },
     "execution_count": 18,
     "metadata": {},
     "output_type": "execute_result"
    }
   ],
   "source": [
    "df.groupby('city')['user_id'].count()\n"
   ]
  },
  {
   "cell_type": "markdown",
   "metadata": {
    "id": "dzli3w8o_Zcu"
   },
   "source": [
    "В Москве прослушиваний больше, чем в Петербурге. Из этого не следует, что московские пользователи чаще слушают музыку. Просто самих пользователей в Москве больше.\n",
    "\n",
    "Теперь сгруппируем данные по дню недели и подсчитаем прослушивания в понедельник, среду и пятницу."
   ]
  },
  {
   "cell_type": "code",
   "execution_count": 19,
   "metadata": {
    "id": "uZMKjiJz_Zcu"
   },
   "outputs": [
    {
     "data": {
      "text/plain": [
       "day\n",
       "Friday       21840\n",
       "Monday       21354\n",
       "Wednesday    18059\n",
       "Name: user_id, dtype: int64"
      ]
     },
     "execution_count": 19,
     "metadata": {},
     "output_type": "execute_result"
    }
   ],
   "source": [
    "df.groupby('day')['user_id'].count()\n"
   ]
  },
  {
   "cell_type": "markdown",
   "metadata": {
    "id": "cC2tNrlL_Zcu"
   },
   "source": [
    "В среднем пользователи из двух городов менее активны по средам. Но картина может измениться, если рассмотреть каждый город в отдельности."
   ]
  },
  {
   "cell_type": "code",
   "execution_count": 20,
   "metadata": {
    "id": "Nz3GdQB1_Zcu"
   },
   "outputs": [],
   "source": [
    "# Функция для подсчёта прослушиваний для конкретного города и дня.\n",
    "def number_tracks(day, city):\n",
    "    track_list = df[(df['day']==day)&(df['city']==city)]\n",
    "    track_list_count = track_list['user_id'].count()\n",
    "    return track_list_count\n"
   ]
  },
  {
   "cell_type": "code",
   "execution_count": 21,
   "metadata": {
    "id": "rJcRATNQ_Zcu"
   },
   "outputs": [
    {
     "data": {
      "text/plain": [
       "15740"
      ]
     },
     "execution_count": 21,
     "metadata": {},
     "output_type": "execute_result"
    }
   ],
   "source": [
    "number_tracks('Monday', 'Moscow') # количество прослушиваний в Москве по понедельникам\n"
   ]
  },
  {
   "cell_type": "code",
   "execution_count": 22,
   "metadata": {
    "id": "hq_ncZ5T_Zcu"
   },
   "outputs": [
    {
     "data": {
      "text/plain": [
       "5614"
      ]
     },
     "execution_count": 22,
     "metadata": {},
     "output_type": "execute_result"
    }
   ],
   "source": [
    "number_tracks('Monday', 'Saint-Petersburg')# количество прослушиваний в Санкт-Петербурге по понедельникам\n"
   ]
  },
  {
   "cell_type": "code",
   "execution_count": 23,
   "metadata": {
    "id": "_NTy2VPU_Zcu"
   },
   "outputs": [
    {
     "data": {
      "text/plain": [
       "11056"
      ]
     },
     "execution_count": 23,
     "metadata": {},
     "output_type": "execute_result"
    }
   ],
   "source": [
    "number_tracks('Wednesday', 'Moscow')# количество прослушиваний в Москве по средам\n"
   ]
  },
  {
   "cell_type": "code",
   "execution_count": 24,
   "metadata": {
    "id": "j2y3TAwo_Zcu"
   },
   "outputs": [
    {
     "data": {
      "text/plain": [
       "7003"
      ]
     },
     "execution_count": 24,
     "metadata": {},
     "output_type": "execute_result"
    }
   ],
   "source": [
    "number_tracks('Wednesday', 'Saint-Petersburg')# количество прослушиваний в Санкт-Петербурге по средам\n"
   ]
  },
  {
   "cell_type": "code",
   "execution_count": 25,
   "metadata": {
    "id": "vYDw5u_K_Zcu"
   },
   "outputs": [
    {
     "data": {
      "text/plain": [
       "15945"
      ]
     },
     "execution_count": 25,
     "metadata": {},
     "output_type": "execute_result"
    }
   ],
   "source": [
    "number_tracks('Friday', 'Moscow')# количество прослушиваний в Москве по пятницам\n"
   ]
  },
  {
   "cell_type": "code",
   "execution_count": 26,
   "metadata": {
    "id": "8_yzFtW3_Zcu"
   },
   "outputs": [
    {
     "data": {
      "text/plain": [
       "5895"
      ]
     },
     "execution_count": 26,
     "metadata": {},
     "output_type": "execute_result"
    }
   ],
   "source": [
    "number_tracks('Friday', 'Saint-Petersburg')# количество прослушиваний в Санкт-Петербурге по пятницам\n"
   ]
  },
  {
   "cell_type": "code",
   "execution_count": 27,
   "metadata": {
    "id": "APAcLpOr_Zcu"
   },
   "outputs": [
    {
     "data": {
      "text/html": [
       "<div>\n",
       "<style scoped>\n",
       "    .dataframe tbody tr th:only-of-type {\n",
       "        vertical-align: middle;\n",
       "    }\n",
       "\n",
       "    .dataframe tbody tr th {\n",
       "        vertical-align: top;\n",
       "    }\n",
       "\n",
       "    .dataframe thead th {\n",
       "        text-align: right;\n",
       "    }\n",
       "</style>\n",
       "<table border=\"1\" class=\"dataframe\">\n",
       "  <thead>\n",
       "    <tr style=\"text-align: right;\">\n",
       "      <th></th>\n",
       "      <th>city</th>\n",
       "      <th>monday</th>\n",
       "      <th>wednesday</th>\n",
       "      <th>friday</th>\n",
       "    </tr>\n",
       "  </thead>\n",
       "  <tbody>\n",
       "    <tr>\n",
       "      <th>0</th>\n",
       "      <td>Moscow</td>\n",
       "      <td>15740</td>\n",
       "      <td>11056</td>\n",
       "      <td>15945</td>\n",
       "    </tr>\n",
       "    <tr>\n",
       "      <th>1</th>\n",
       "      <td>Saint-Petersburg</td>\n",
       "      <td>5614</td>\n",
       "      <td>7003</td>\n",
       "      <td>5895</td>\n",
       "    </tr>\n",
       "  </tbody>\n",
       "</table>\n",
       "</div>"
      ],
      "text/plain": [
       "               city  monday  wednesday  friday\n",
       "0            Moscow   15740      11056   15945\n",
       "1  Saint-Petersburg    5614       7003    5895"
      ]
     },
     "execution_count": 27,
     "metadata": {},
     "output_type": "execute_result"
    }
   ],
   "source": [
    "data = [\n",
    "    ['Moscow',15740, 11056, 15945],\n",
    "    ['Saint-Petersburg',5614, 7003,5895]\n",
    "]\n",
    "columns = ['city', 'monday', 'wednesday', 'friday']\n",
    "final_df = pd.DataFrame(data=data, columns=columns)\n",
    "final_df\n"
   ]
  },
  {
   "cell_type": "markdown",
   "metadata": {
    "id": "-EgPIHYu_Zcu"
   },
   "source": [
    "**Выводы**\n",
    "\n",
    "Данные показывают разницу поведения пользователей:\n",
    "\n",
    "- В Москве пик прослушиваний приходится на понедельник и пятницу, а в среду заметен спад.\n",
    "- В Петербурге, наоборот, больше слушают музыку по средам. Активность в понедельник и пятницу здесь почти в равной мере уступает среде.\n",
    "\n",
    "Значит, данные говорят в пользу первой гипотезы."
   ]
  },
  {
   "cell_type": "markdown",
   "metadata": {
    "id": "atZAxtq4_Zcu"
   },
   "source": [
    "### Музыка в начале и в конце недели"
   ]
  },
  {
   "cell_type": "markdown",
   "metadata": {
    "id": "eXrQqXFH_Zcu"
   },
   "source": [
    "Согласно второй гипотезе, утром в понедельник в Москве преобладают одни жанры, а в Петербурге — другие. Так же и вечером пятницы преобладают разные жанры — в зависимости от города."
   ]
  },
  {
   "cell_type": "code",
   "execution_count": 28,
   "metadata": {
    "id": "qeaFfM_P_Zcu"
   },
   "outputs": [],
   "source": [
    "moscow_general = df[df['city']=='Moscow']\n"
   ]
  },
  {
   "cell_type": "code",
   "execution_count": 29,
   "metadata": {
    "id": "ORaVRKto_Zcu"
   },
   "outputs": [],
   "source": [
    "spb_general = df[df['city']=='Saint-Petersburg']\n"
   ]
  },
  {
   "cell_type": "code",
   "execution_count": 30,
   "metadata": {
    "id": "laJT9BYl_Zcu"
   },
   "outputs": [],
   "source": [
    "def genre_weekday(table, day, time1, time2):\n",
    "    genre_df = table[(table['day']==day)&\n",
    "                     (table['time']>time1)&\n",
    "                     (table['time']<time2)]\n",
    "    genre_df_count = genre_df.groupby('genre')['user_id'].count()\n",
    "    genre_df_sorted = genre_df_count.sort_values(ascending=False)\n",
    "    return genre_df_sorted.head(10)\n"
   ]
  },
  {
   "cell_type": "markdown",
   "metadata": {
    "id": "la2s2_PF_Zcu"
   },
   "source": [
    "Cравним результаты функции `genre_weekday()` для Москвы и Санкт-Петербурга в понедельник утром (с 7:00 до 11:00) и в пятницу вечером (с 17:00 до 23:00):"
   ]
  },
  {
   "cell_type": "code",
   "execution_count": 31,
   "metadata": {
    "id": "yz7itPUQ_Zcu"
   },
   "outputs": [
    {
     "data": {
      "text/plain": [
       "genre\n",
       "pop            781\n",
       "dance          549\n",
       "electronic     480\n",
       "rock           474\n",
       "hiphop         286\n",
       "ruspop         186\n",
       "world          181\n",
       "rusrap         175\n",
       "alternative    164\n",
       "unknown        161\n",
       "Name: user_id, dtype: int64"
      ]
     },
     "execution_count": 31,
     "metadata": {},
     "output_type": "execute_result"
    }
   ],
   "source": [
    "# вызов функции для утра понедельника в Москве\n",
    "genre_weekday(moscow_general, 'Monday', '07:00', '11:00')\n"
   ]
  },
  {
   "cell_type": "code",
   "execution_count": 32,
   "metadata": {
    "id": "kwUcHPdy_Zcu"
   },
   "outputs": [
    {
     "data": {
      "text/plain": [
       "genre\n",
       "pop            218\n",
       "dance          182\n",
       "rock           162\n",
       "electronic     147\n",
       "hiphop          80\n",
       "ruspop          64\n",
       "alternative     58\n",
       "rusrap          55\n",
       "jazz            44\n",
       "classical       40\n",
       "Name: user_id, dtype: int64"
      ]
     },
     "execution_count": 32,
     "metadata": {},
     "output_type": "execute_result"
    }
   ],
   "source": [
    "# вызов функции для утра понедельника в Петербурге\n",
    "genre_weekday(spb_general, 'Monday', '07:00', '11:00')\n"
   ]
  },
  {
   "cell_type": "code",
   "execution_count": 33,
   "metadata": {
    "id": "EzXVRE1o_Zcu"
   },
   "outputs": [
    {
     "data": {
      "text/plain": [
       "genre\n",
       "pop            713\n",
       "rock           517\n",
       "dance          495\n",
       "electronic     482\n",
       "hiphop         273\n",
       "world          208\n",
       "ruspop         170\n",
       "alternative    163\n",
       "classical      163\n",
       "rusrap         142\n",
       "Name: user_id, dtype: int64"
      ]
     },
     "execution_count": 33,
     "metadata": {},
     "output_type": "execute_result"
    }
   ],
   "source": [
    "# вызов функции для вечера пятницы в Москве\n",
    "genre_weekday(moscow_general, 'Friday', '17:00', '23:00')\n"
   ]
  },
  {
   "cell_type": "code",
   "execution_count": 34,
   "metadata": {
    "id": "JZaEKu5v_Zcu"
   },
   "outputs": [
    {
     "data": {
      "text/plain": [
       "genre\n",
       "pop            256\n",
       "electronic     216\n",
       "rock           216\n",
       "dance          210\n",
       "hiphop          97\n",
       "alternative     63\n",
       "jazz            61\n",
       "classical       60\n",
       "rusrap          59\n",
       "world           54\n",
       "Name: user_id, dtype: int64"
      ]
     },
     "execution_count": 34,
     "metadata": {},
     "output_type": "execute_result"
    }
   ],
   "source": [
    "# вызов функции для вечера пятницы в Петербурге\n",
    "genre_weekday(spb_general, 'Friday', '17:00', '23:00')\n"
   ]
  },
  {
   "cell_type": "markdown",
   "metadata": {
    "id": "wrCe4MNX_Zcu"
   },
   "source": [
    "**Выводы**\n",
    "\n",
    "Если сравнить топ-10 жанров в понедельник утром, можно сделать такие выводы:\n",
    "\n",
    "1. В Москве и Петербурге слушают похожую музыку. Единственное отличие — в московский рейтинг вошёл жанр “world”, а в петербургский — джаз и классика.\n",
    "\n",
    "2. В Москве пропущенных значений оказалось так много, что значение `'unknown'` заняло десятое место среди самых популярных жанров. Значит, пропущенные значения занимают существенную долю в данных и угрожают достоверности исследования.\n",
    "\n",
    "Вечер пятницы не меняет эту картину. Некоторые жанры поднимаются немного выше, другие спускаются, но в целом топ-10 остаётся тем же самым.\n",
    "\n",
    "Таким образом, вторая гипотеза подтвердилась лишь частично:\n",
    "* Пользователи слушают похожую музыку в начале недели и в конце.\n",
    "* Разница между Москвой и Петербургом не слишком выражена. В Москве чаще слушают русскую популярную музыку, в Петербурге — джаз.\n",
    "\n",
    "Однако пропуски в данных ставят под сомнение этот результат. В Москве их так много, что рейтинг топ-10 мог бы выглядеть иначе, если бы не утерянные  данные о жанрах."
   ]
  },
  {
   "cell_type": "markdown",
   "metadata": {
    "id": "JolODAqr_Zcu"
   },
   "source": [
    "### Жанровые предпочтения в Москве и Петербурге\n",
    "\n",
    "Гипотеза: Петербург — столица рэпа, музыку этого жанра там слушают чаще, чем в Москве.  А Москва — город контрастов, в котором, тем не менее, преобладает поп-музыка."
   ]
  },
  {
   "cell_type": "code",
   "execution_count": 36,
   "metadata": {
    "id": "WhCSooF8_Zcv"
   },
   "outputs": [
    {
     "data": {
      "text/plain": [
       "genre\n",
       "pop            5892\n",
       "dance          4435\n",
       "rock           3965\n",
       "electronic     3786\n",
       "hiphop         2096\n",
       "classical      1616\n",
       "world          1432\n",
       "alternative    1379\n",
       "ruspop         1372\n",
       "rusrap         1161\n",
       "Name: user_id, dtype: int64"
      ]
     },
     "execution_count": 36,
     "metadata": {},
     "output_type": "execute_result"
    }
   ],
   "source": [
    "moscow_genres = (moscow_general.groupby('genre')['user_id']\n",
    "                               .count()\n",
    "                               .sort_values(ascending=False)\n",
    "                               .head(10))\n"
   ]
  },
  {
   "cell_type": "code",
   "execution_count": 38,
   "metadata": {
    "id": "uaGJHjVU_Zcv"
   },
   "outputs": [
    {
     "data": {
      "text/plain": [
       "genre\n",
       "pop            2431\n",
       "dance          1932\n",
       "rock           1879\n",
       "electronic     1736\n",
       "hiphop          960\n",
       "alternative     649\n",
       "classical       646\n",
       "rusrap          564\n",
       "ruspop          538\n",
       "world           515\n",
       "Name: user_id, dtype: int64"
      ]
     },
     "execution_count": 38,
     "metadata": {},
     "output_type": "execute_result"
    }
   ],
   "source": [
    "spb_genres = (spb_general.groupby('genre')['user_id']\n",
    "                         .count()\n",
    "                         .sort_values(ascending=False)\n",
    "                         .head(10))\n"
   ]
  },
  {
   "cell_type": "markdown",
   "metadata": {
    "id": "RY51YJYu_Zcv"
   },
   "source": [
    "**Выводы**"
   ]
  },
  {
   "cell_type": "markdown",
   "metadata": {
    "id": "nVhnJEm__Zcv"
   },
   "source": [
    "Гипотеза частично подтвердилась:\n",
    "* Поп-музыка — самый популярный жанр в Москве, как и предполагала гипотеза. Более того, в топ-10 жанров встречается близкий жанр — русская популярная музыка.\n",
    "* Вопреки ожиданиям, рэп одинаково популярен в Москве и Петербурге. \n"
   ]
  },
  {
   "cell_type": "markdown",
   "metadata": {
    "id": "ykKQ0N65_Zcv"
   },
   "source": [
    "## Итоги исследования"
   ]
  },
  {
   "cell_type": "markdown",
   "metadata": {
    "id": "tjUwbHb3_Zcv"
   },
   "source": [
    "Проверили три гипотезы и установили:\n",
    "\n",
    "1. День недели по-разному влияет на активность пользователей в Москве и Петербурге. \n",
    "\n",
    "Первая гипотеза полностью подтвердилась.\n",
    "\n",
    "2. Музыкальные предпочтения не сильно меняются в течение недели — будь то Москва или Петербург. Небольшие различия заметны в начале недели, по понедельникам:\n",
    "* в Москве слушают музыку жанра “world”,\n",
    "* в Петербурге — джаз и классику.\n",
    "\n",
    "Таким образом, вторая гипотеза подтвердилась лишь отчасти. Этот результат мог оказаться иным, если бы не пропуски в данных.\n",
    "\n",
    "3. Во вкусах пользователей Москвы и Петербурга больше общего чем различий. Вопреки ожиданиям, предпочтения жанров в Петербурге напоминают московские.\n",
    "\n",
    "Третья гипотеза не подтвердилась. Если различия в предпочтениях и существуют, на основной массе пользователей они незаметны."
   ]
  }
 ],
 "metadata": {
  "ExecuteTimeLog": [
   {
    "duration": 440,
    "start_time": "2022-03-18T06:16:32.154Z"
   },
   {
    "duration": 136,
    "start_time": "2022-03-18T06:17:20.932Z"
   },
   {
    "duration": 167,
    "start_time": "2022-03-18T06:17:51.493Z"
   },
   {
    "duration": 19,
    "start_time": "2022-03-18T06:18:22.410Z"
   },
   {
    "duration": 32,
    "start_time": "2022-03-18T06:19:16.112Z"
   },
   {
    "duration": 4,
    "start_time": "2022-03-18T06:54:34.921Z"
   },
   {
    "duration": 2,
    "start_time": "2022-03-18T06:54:59.841Z"
   },
   {
    "duration": 9,
    "start_time": "2022-03-18T06:55:20.261Z"
   },
   {
    "duration": 5,
    "start_time": "2022-03-18T06:55:25.902Z"
   },
   {
    "duration": 12,
    "start_time": "2022-03-18T06:57:08.564Z"
   },
   {
    "duration": 4,
    "start_time": "2022-03-18T06:57:24.331Z"
   },
   {
    "duration": 176,
    "start_time": "2022-03-18T08:33:02.710Z"
   },
   {
    "duration": 33,
    "start_time": "2022-03-18T08:33:12.523Z"
   },
   {
    "duration": 34,
    "start_time": "2022-03-18T08:35:05.017Z"
   },
   {
    "duration": 9,
    "start_time": "2022-03-18T08:35:26.999Z"
   },
   {
    "duration": 11,
    "start_time": "2022-03-18T08:35:51.431Z"
   },
   {
    "duration": 55,
    "start_time": "2022-03-18T08:36:09.805Z"
   },
   {
    "duration": 8,
    "start_time": "2022-03-18T09:59:48.617Z"
   },
   {
    "duration": 12,
    "start_time": "2022-03-18T10:01:50.275Z"
   },
   {
    "duration": 8,
    "start_time": "2022-03-18T10:02:38.681Z"
   },
   {
    "duration": 11,
    "start_time": "2022-03-18T10:03:51.638Z"
   },
   {
    "duration": 15,
    "start_time": "2022-03-18T10:04:27.357Z"
   },
   {
    "duration": 38,
    "start_time": "2022-03-18T10:04:51.253Z"
   },
   {
    "duration": 9,
    "start_time": "2022-03-18T10:09:27.515Z"
   },
   {
    "duration": 133,
    "start_time": "2022-03-18T10:18:20.074Z"
   },
   {
    "duration": 10,
    "start_time": "2022-03-18T10:18:40.771Z"
   },
   {
    "duration": 33,
    "start_time": "2022-03-18T10:21:19.942Z"
   },
   {
    "duration": 22,
    "start_time": "2022-03-18T10:23:26.643Z"
   },
   {
    "duration": 38,
    "start_time": "2022-03-18T10:24:03.511Z"
   },
   {
    "duration": 32,
    "start_time": "2022-03-18T10:32:52.466Z"
   },
   {
    "duration": 29,
    "start_time": "2022-03-18T10:33:50.448Z"
   },
   {
    "duration": 28,
    "start_time": "2022-03-18T10:34:01.954Z"
   },
   {
    "duration": 27,
    "start_time": "2022-03-18T10:34:22.351Z"
   },
   {
    "duration": 14,
    "start_time": "2022-03-18T10:35:22.622Z"
   },
   {
    "duration": 15,
    "start_time": "2022-03-18T10:36:00.589Z"
   },
   {
    "duration": 3,
    "start_time": "2022-03-18T10:36:18.981Z"
   },
   {
    "duration": 172,
    "start_time": "2022-03-18T10:36:18.986Z"
   },
   {
    "duration": 12,
    "start_time": "2022-03-18T10:36:19.160Z"
   },
   {
    "duration": 42,
    "start_time": "2022-03-18T10:36:19.174Z"
   },
   {
    "duration": 4,
    "start_time": "2022-03-18T10:36:19.218Z"
   },
   {
    "duration": 17,
    "start_time": "2022-03-18T10:36:19.224Z"
   },
   {
    "duration": 12,
    "start_time": "2022-03-18T10:36:19.243Z"
   },
   {
    "duration": 35,
    "start_time": "2022-03-18T10:36:47.875Z"
   },
   {
    "duration": 41,
    "start_time": "2022-03-18T10:37:02.252Z"
   },
   {
    "duration": 33,
    "start_time": "2022-03-18T10:37:35.709Z"
   },
   {
    "duration": 27,
    "start_time": "2022-03-18T10:39:16.175Z"
   },
   {
    "duration": 28,
    "start_time": "2022-03-18T10:39:38.934Z"
   },
   {
    "duration": 3,
    "start_time": "2022-03-18T10:39:50.110Z"
   },
   {
    "duration": 174,
    "start_time": "2022-03-18T10:39:50.118Z"
   },
   {
    "duration": 16,
    "start_time": "2022-03-18T10:39:50.294Z"
   },
   {
    "duration": 35,
    "start_time": "2022-03-18T10:39:50.312Z"
   },
   {
    "duration": 9,
    "start_time": "2022-03-18T10:39:50.349Z"
   },
   {
    "duration": 20,
    "start_time": "2022-03-18T10:39:50.360Z"
   },
   {
    "duration": 10,
    "start_time": "2022-03-18T10:39:50.381Z"
   },
   {
    "duration": 26,
    "start_time": "2022-03-18T10:39:50.400Z"
   },
   {
    "duration": 26,
    "start_time": "2022-03-18T10:39:50.428Z"
   },
   {
    "duration": 21,
    "start_time": "2022-03-18T10:40:04.264Z"
   },
   {
    "duration": 27,
    "start_time": "2022-03-18T10:40:07.262Z"
   },
   {
    "duration": 27,
    "start_time": "2022-03-18T10:40:17.885Z"
   },
   {
    "duration": 27,
    "start_time": "2022-03-18T10:40:21.909Z"
   },
   {
    "duration": 2,
    "start_time": "2022-03-18T10:40:34.718Z"
   },
   {
    "duration": 172,
    "start_time": "2022-03-18T10:40:34.722Z"
   },
   {
    "duration": 11,
    "start_time": "2022-03-18T10:40:34.896Z"
   },
   {
    "duration": 53,
    "start_time": "2022-03-18T10:40:34.909Z"
   },
   {
    "duration": 4,
    "start_time": "2022-03-18T10:40:34.964Z"
   },
   {
    "duration": 11,
    "start_time": "2022-03-18T10:40:34.970Z"
   },
   {
    "duration": 4,
    "start_time": "2022-03-18T10:40:34.983Z"
   },
   {
    "duration": 27,
    "start_time": "2022-03-18T10:40:37.924Z"
   },
   {
    "duration": 4,
    "start_time": "2022-03-18T10:40:48.659Z"
   },
   {
    "duration": 28,
    "start_time": "2022-03-18T10:40:55.916Z"
   },
   {
    "duration": 27,
    "start_time": "2022-03-18T10:40:59.580Z"
   },
   {
    "duration": 21,
    "start_time": "2022-03-18T10:41:01.755Z"
   },
   {
    "duration": 26,
    "start_time": "2022-03-18T10:41:04.323Z"
   },
   {
    "duration": 72,
    "start_time": "2022-03-18T10:44:03.415Z"
   },
   {
    "duration": 13,
    "start_time": "2022-03-18T10:45:06.380Z"
   },
   {
    "duration": 12,
    "start_time": "2022-03-18T10:45:13.085Z"
   },
   {
    "duration": 31,
    "start_time": "2022-03-18T10:45:42.900Z"
   },
   {
    "duration": 31,
    "start_time": "2022-03-18T10:45:50.514Z"
   },
   {
    "duration": 26,
    "start_time": "2022-03-18T10:47:06.062Z"
   },
   {
    "duration": 27,
    "start_time": "2022-03-18T10:47:16.315Z"
   },
   {
    "duration": 63,
    "start_time": "2022-03-18T10:50:50.338Z"
   },
   {
    "duration": 70,
    "start_time": "2022-03-18T10:53:58.616Z"
   },
   {
    "duration": 65,
    "start_time": "2022-03-18T10:54:17.259Z"
   },
   {
    "duration": 8,
    "start_time": "2022-03-18T11:01:50.943Z"
   },
   {
    "duration": 10,
    "start_time": "2022-03-18T11:02:37.333Z"
   },
   {
    "duration": 8,
    "start_time": "2022-03-18T11:59:15.271Z"
   },
   {
    "duration": 9,
    "start_time": "2022-03-18T12:03:02.015Z"
   },
   {
    "duration": 40,
    "start_time": "2022-03-18T12:03:43.270Z"
   },
   {
    "duration": 46,
    "start_time": "2022-03-18T12:04:03.493Z"
   },
   {
    "duration": 44,
    "start_time": "2022-03-18T12:06:03.411Z"
   },
   {
    "duration": 199,
    "start_time": "2022-03-18T12:19:31.158Z"
   },
   {
    "duration": 160,
    "start_time": "2022-03-18T12:19:50.753Z"
   },
   {
    "duration": 155,
    "start_time": "2022-03-18T12:20:01.402Z"
   },
   {
    "duration": 316,
    "start_time": "2022-03-18T12:25:43.828Z"
   },
   {
    "duration": 3,
    "start_time": "2022-03-18T12:26:20.221Z"
   },
   {
    "duration": 4,
    "start_time": "2022-03-18T12:27:46.530Z"
   },
   {
    "duration": 3,
    "start_time": "2022-03-18T12:30:39.430Z"
   },
   {
    "duration": 3,
    "start_time": "2022-03-18T12:32:16.948Z"
   },
   {
    "duration": 14,
    "start_time": "2022-03-18T12:32:20.034Z"
   },
   {
    "duration": 4,
    "start_time": "2022-03-18T12:34:57.007Z"
   },
   {
    "duration": 13,
    "start_time": "2022-03-18T12:34:59.463Z"
   },
   {
    "duration": 12,
    "start_time": "2022-03-18T12:39:43.997Z"
   },
   {
    "duration": 10,
    "start_time": "2022-03-18T12:40:33.158Z"
   },
   {
    "duration": 45,
    "start_time": "2022-03-18T12:40:39.996Z"
   },
   {
    "duration": 42,
    "start_time": "2022-03-18T13:01:43.486Z"
   },
   {
    "duration": 3,
    "start_time": "2022-03-18T13:02:09.989Z"
   },
   {
    "duration": 42,
    "start_time": "2022-03-18T13:02:21.933Z"
   },
   {
    "duration": 41,
    "start_time": "2022-03-18T13:04:34.137Z"
   },
   {
    "duration": 4,
    "start_time": "2022-03-18T13:04:48.521Z"
   },
   {
    "duration": 45,
    "start_time": "2022-03-18T13:05:01.224Z"
   },
   {
    "duration": 8,
    "start_time": "2022-03-18T13:21:33.182Z"
   },
   {
    "duration": 15,
    "start_time": "2022-03-18T13:22:05.507Z"
   },
   {
    "duration": 13,
    "start_time": "2022-03-18T13:39:22.607Z"
   },
   {
    "duration": 13,
    "start_time": "2022-03-18T13:39:30.491Z"
   },
   {
    "duration": 10,
    "start_time": "2022-03-18T13:39:47.187Z"
   },
   {
    "duration": 8,
    "start_time": "2022-03-18T13:40:29.314Z"
   },
   {
    "duration": 6,
    "start_time": "2022-03-18T13:40:40.632Z"
   },
   {
    "duration": 3,
    "start_time": "2022-03-18T13:41:03.414Z"
   },
   {
    "duration": 8,
    "start_time": "2022-03-18T13:41:14.074Z"
   },
   {
    "duration": 12,
    "start_time": "2022-03-18T13:44:04.971Z"
   },
   {
    "duration": 51,
    "start_time": "2022-03-18T13:45:29.569Z"
   },
   {
    "duration": 3,
    "start_time": "2022-03-18T13:45:43.032Z"
   },
   {
    "duration": 14,
    "start_time": "2022-03-18T13:45:47.992Z"
   },
   {
    "duration": 46,
    "start_time": "2022-03-18T13:45:54.175Z"
   },
   {
    "duration": 32,
    "start_time": "2022-03-18T13:51:51.576Z"
   },
   {
    "duration": 19,
    "start_time": "2022-03-18T13:52:47.962Z"
   },
   {
    "duration": 22,
    "start_time": "2022-03-18T13:52:55.987Z"
   },
   {
    "duration": 21,
    "start_time": "2022-03-18T13:53:51.594Z"
   },
   {
    "duration": 62,
    "start_time": "2022-03-18T13:54:23.880Z"
   },
   {
    "duration": 15,
    "start_time": "2022-03-18T13:54:32.952Z"
   },
   {
    "duration": 14,
    "start_time": "2022-03-18T13:58:29.793Z"
   },
   {
    "duration": 15,
    "start_time": "2022-03-18T13:58:49.504Z"
   },
   {
    "duration": 4,
    "start_time": "2022-03-18T14:36:02.722Z"
   },
   {
    "duration": 30,
    "start_time": "2022-03-18T14:38:09.010Z"
   },
   {
    "duration": 17,
    "start_time": "2022-03-18T14:39:48.519Z"
   },
   {
    "duration": 19,
    "start_time": "2022-03-18T14:39:50.466Z"
   },
   {
    "duration": 20,
    "start_time": "2022-03-18T14:39:52.759Z"
   },
   {
    "duration": 18,
    "start_time": "2022-03-18T14:39:54.938Z"
   },
   {
    "duration": 4,
    "start_time": "2022-03-18T14:41:07.821Z"
   },
   {
    "duration": 11,
    "start_time": "2022-03-18T14:45:57.847Z"
   },
   {
    "duration": 9,
    "start_time": "2022-03-18T14:46:20.308Z"
   },
   {
    "duration": 74,
    "start_time": "2022-03-18T19:55:46.726Z"
   },
   {
    "duration": 9,
    "start_time": "2022-03-18T19:55:54.139Z"
   },
   {
    "duration": 4,
    "start_time": "2022-03-18T19:55:57.958Z"
   },
   {
    "duration": 12,
    "start_time": "2022-03-18T19:56:00.194Z"
   },
   {
    "duration": 8,
    "start_time": "2022-03-18T19:56:19.158Z"
   },
   {
    "duration": 518,
    "start_time": "2022-03-18T19:57:14.840Z"
   },
   {
    "duration": 191,
    "start_time": "2022-03-18T19:57:15.361Z"
   },
   {
    "duration": 36,
    "start_time": "2022-03-18T19:57:15.555Z"
   },
   {
    "duration": 38,
    "start_time": "2022-03-18T19:57:15.595Z"
   },
   {
    "duration": 6,
    "start_time": "2022-03-18T19:57:15.635Z"
   },
   {
    "duration": 37,
    "start_time": "2022-03-18T19:57:15.643Z"
   },
   {
    "duration": 7,
    "start_time": "2022-03-18T19:57:15.682Z"
   },
   {
    "duration": 32,
    "start_time": "2022-03-18T19:57:15.691Z"
   },
   {
    "duration": 52,
    "start_time": "2022-03-18T19:57:15.726Z"
   },
   {
    "duration": 30,
    "start_time": "2022-03-18T19:57:15.782Z"
   },
   {
    "duration": 109,
    "start_time": "2022-03-18T19:57:15.814Z"
   },
   {
    "duration": 118,
    "start_time": "2022-03-18T19:57:15.925Z"
   },
   {
    "duration": 91,
    "start_time": "2022-03-18T19:57:16.046Z"
   },
   {
    "duration": 59,
    "start_time": "2022-03-18T19:57:16.140Z"
   },
   {
    "duration": 4,
    "start_time": "2022-03-18T19:57:16.201Z"
   },
   {
    "duration": 13,
    "start_time": "2022-03-18T19:57:16.207Z"
   },
   {
    "duration": 72,
    "start_time": "2022-03-18T19:57:16.223Z"
   },
   {
    "duration": 16,
    "start_time": "2022-03-18T19:57:16.297Z"
   },
   {
    "duration": 14,
    "start_time": "2022-03-18T19:57:16.315Z"
   },
   {
    "duration": 4,
    "start_time": "2022-03-18T19:57:16.332Z"
   },
   {
    "duration": 52,
    "start_time": "2022-03-18T19:57:16.337Z"
   },
   {
    "duration": 21,
    "start_time": "2022-03-18T19:57:16.392Z"
   },
   {
    "duration": 22,
    "start_time": "2022-03-18T19:57:16.415Z"
   },
   {
    "duration": 22,
    "start_time": "2022-03-18T19:57:16.468Z"
   },
   {
    "duration": 24,
    "start_time": "2022-03-18T19:57:16.493Z"
   },
   {
    "duration": 52,
    "start_time": "2022-03-18T19:57:16.520Z"
   },
   {
    "duration": 51,
    "start_time": "2022-03-18T19:58:55.377Z"
   },
   {
    "duration": 18,
    "start_time": "2022-03-18T20:01:36.711Z"
   },
   {
    "duration": 19,
    "start_time": "2022-03-18T20:03:51.582Z"
   },
   {
    "duration": 18,
    "start_time": "2022-03-18T20:05:51.519Z"
   },
   {
    "duration": 19,
    "start_time": "2022-03-18T20:06:20.776Z"
   },
   {
    "duration": 17,
    "start_time": "2022-03-18T20:07:55.335Z"
   },
   {
    "duration": 5,
    "start_time": "2022-03-18T20:09:42.630Z"
   },
   {
    "duration": 6,
    "start_time": "2022-03-18T20:09:51.364Z"
   },
   {
    "duration": 13,
    "start_time": "2022-03-18T20:10:05.338Z"
   },
   {
    "duration": 4,
    "start_time": "2022-03-18T20:16:26.393Z"
   },
   {
    "duration": 4,
    "start_time": "2022-03-18T20:16:36.007Z"
   },
   {
    "duration": 15,
    "start_time": "2022-03-18T20:17:26.199Z"
   },
   {
    "duration": 17,
    "start_time": "2022-03-18T20:17:49.869Z"
   },
   {
    "duration": 16,
    "start_time": "2022-03-18T20:18:01.040Z"
   },
   {
    "duration": 18,
    "start_time": "2022-03-18T20:18:15.719Z"
   },
   {
    "duration": 18,
    "start_time": "2022-03-18T20:19:05.320Z"
   },
   {
    "duration": 13,
    "start_time": "2022-03-18T20:22:34.505Z"
   },
   {
    "duration": 36,
    "start_time": "2022-03-18T20:34:23.020Z"
   },
   {
    "duration": 11,
    "start_time": "2022-03-18T20:58:11.407Z"
   },
   {
    "duration": 798,
    "start_time": "2022-03-18T20:59:09.737Z"
   },
   {
    "duration": 805,
    "start_time": "2022-03-18T20:59:14.522Z"
   },
   {
    "duration": 750,
    "start_time": "2022-03-18T20:59:28.150Z"
   },
   {
    "duration": 5,
    "start_time": "2022-03-18T21:04:40.346Z"
   },
   {
    "duration": 5,
    "start_time": "2022-03-18T21:04:43.955Z"
   },
   {
    "duration": 13,
    "start_time": "2022-03-18T21:04:52.672Z"
   },
   {
    "duration": 5,
    "start_time": "2022-03-18T21:15:04.848Z"
   },
   {
    "duration": 13,
    "start_time": "2022-03-18T21:15:14.307Z"
   },
   {
    "duration": 13,
    "start_time": "2022-03-18T21:19:36.200Z"
   },
   {
    "duration": 15,
    "start_time": "2022-03-18T21:19:38.341Z"
   },
   {
    "duration": 14,
    "start_time": "2022-03-18T21:19:40.806Z"
   },
   {
    "duration": 6,
    "start_time": "2022-03-18T21:34:05.671Z"
   },
   {
    "duration": 21,
    "start_time": "2022-03-18T21:37:56.506Z"
   },
   {
    "duration": 15,
    "start_time": "2022-03-18T21:38:02.182Z"
   },
   {
    "duration": 6,
    "start_time": "2022-03-18T21:38:35.185Z"
   },
   {
    "duration": 21,
    "start_time": "2022-03-18T21:38:37.640Z"
   },
   {
    "duration": 14,
    "start_time": "2022-03-18T21:38:40.961Z"
   },
   {
    "duration": 21,
    "start_time": "2022-03-18T21:38:43.152Z"
   },
   {
    "duration": 16,
    "start_time": "2022-03-18T21:38:44.200Z"
   },
   {
    "duration": 6,
    "start_time": "2022-03-18T21:40:41.257Z"
   },
   {
    "duration": 24,
    "start_time": "2022-03-18T21:40:43.818Z"
   },
   {
    "duration": 18,
    "start_time": "2022-03-18T21:40:47.503Z"
   },
   {
    "duration": 23,
    "start_time": "2022-03-18T21:40:50.275Z"
   },
   {
    "duration": 16,
    "start_time": "2022-03-18T21:40:53.259Z"
   },
   {
    "duration": 11,
    "start_time": "2022-03-18T22:03:24.227Z"
   },
   {
    "duration": 12,
    "start_time": "2022-03-18T22:03:44.243Z"
   },
   {
    "duration": 14,
    "start_time": "2022-03-18T22:04:30.310Z"
   },
   {
    "duration": 6,
    "start_time": "2022-03-18T22:04:33.091Z"
   },
   {
    "duration": 9,
    "start_time": "2022-03-18T22:05:24.446Z"
   },
   {
    "duration": 9,
    "start_time": "2022-03-18T22:05:41.535Z"
   },
   {
    "duration": 363,
    "start_time": "2022-03-23T16:55:10.764Z"
   },
   {
    "duration": 149,
    "start_time": "2022-03-23T16:55:11.129Z"
   },
   {
    "duration": 17,
    "start_time": "2022-03-23T16:55:11.280Z"
   },
   {
    "duration": 30,
    "start_time": "2022-03-23T16:55:11.308Z"
   },
   {
    "duration": 14,
    "start_time": "2022-03-23T16:55:11.340Z"
   },
   {
    "duration": 27,
    "start_time": "2022-03-23T16:55:11.356Z"
   },
   {
    "duration": 6,
    "start_time": "2022-03-23T16:55:11.385Z"
   },
   {
    "duration": 37,
    "start_time": "2022-03-23T16:55:11.393Z"
   },
   {
    "duration": 21,
    "start_time": "2022-03-23T16:55:11.432Z"
   },
   {
    "duration": 33,
    "start_time": "2022-03-23T16:55:11.456Z"
   },
   {
    "duration": 65,
    "start_time": "2022-03-23T16:55:11.491Z"
   },
   {
    "duration": 86,
    "start_time": "2022-03-23T16:55:11.558Z"
   },
   {
    "duration": 64,
    "start_time": "2022-03-23T16:55:11.646Z"
   },
   {
    "duration": 39,
    "start_time": "2022-03-23T16:55:11.712Z"
   },
   {
    "duration": 3,
    "start_time": "2022-03-23T16:55:11.753Z"
   },
   {
    "duration": 11,
    "start_time": "2022-03-23T16:55:11.757Z"
   },
   {
    "duration": 65,
    "start_time": "2022-03-23T16:55:11.770Z"
   },
   {
    "duration": 12,
    "start_time": "2022-03-23T16:55:11.836Z"
   },
   {
    "duration": 15,
    "start_time": "2022-03-23T16:55:11.850Z"
   },
   {
    "duration": 3,
    "start_time": "2022-03-23T16:55:11.867Z"
   },
   {
    "duration": 39,
    "start_time": "2022-03-23T16:55:11.871Z"
   },
   {
    "duration": 15,
    "start_time": "2022-03-23T16:55:11.911Z"
   },
   {
    "duration": 16,
    "start_time": "2022-03-23T16:55:11.928Z"
   },
   {
    "duration": 13,
    "start_time": "2022-03-23T16:55:11.946Z"
   },
   {
    "duration": 16,
    "start_time": "2022-03-23T16:55:11.961Z"
   },
   {
    "duration": 15,
    "start_time": "2022-03-23T16:55:12.008Z"
   },
   {
    "duration": 12,
    "start_time": "2022-03-23T16:55:12.025Z"
   },
   {
    "duration": 11,
    "start_time": "2022-03-23T16:55:12.041Z"
   },
   {
    "duration": 10,
    "start_time": "2022-03-23T16:55:12.053Z"
   },
   {
    "duration": 4,
    "start_time": "2022-03-23T16:55:12.064Z"
   },
   {
    "duration": 51,
    "start_time": "2022-03-23T16:55:12.070Z"
   },
   {
    "duration": 12,
    "start_time": "2022-03-23T16:55:12.123Z"
   },
   {
    "duration": 18,
    "start_time": "2022-03-23T16:55:12.136Z"
   },
   {
    "duration": 13,
    "start_time": "2022-03-23T16:55:12.156Z"
   },
   {
    "duration": 43,
    "start_time": "2022-03-23T16:55:12.171Z"
   },
   {
    "duration": 5,
    "start_time": "2022-03-23T16:55:12.215Z"
   },
   {
    "duration": 9,
    "start_time": "2022-03-23T16:55:12.222Z"
   },
   {
    "duration": 5,
    "start_time": "2022-03-23T16:55:12.233Z"
   },
   {
    "duration": 154,
    "start_time": "2022-03-26T09:51:06.131Z"
   },
   {
    "duration": 121,
    "start_time": "2022-03-26T10:05:10.244Z"
   },
   {
    "duration": 91,
    "start_time": "2022-03-26T10:06:21.453Z"
   },
   {
    "duration": 97,
    "start_time": "2022-03-26T10:06:41.405Z"
   },
   {
    "duration": 102,
    "start_time": "2022-03-26T10:06:49.687Z"
   },
   {
    "duration": 104,
    "start_time": "2022-03-26T10:07:39.056Z"
   },
   {
    "duration": 102,
    "start_time": "2022-03-26T10:34:22.527Z"
   }
  ],
  "colab": {
   "collapsed_sections": [
    "E0vqbgi9ay0H",
    "VUC88oWjTJw2"
   ],
   "name": "yandex_music_project_2021.2.ipynb",
   "provenance": []
  },
  "kernelspec": {
   "display_name": "Python 3 (ipykernel)",
   "language": "python",
   "name": "python3"
  },
  "language_info": {
   "codemirror_mode": {
    "name": "ipython",
    "version": 3
   },
   "file_extension": ".py",
   "mimetype": "text/x-python",
   "name": "python",
   "nbconvert_exporter": "python",
   "pygments_lexer": "ipython3",
   "version": "3.9.7"
  },
  "toc": {
   "base_numbering": 1,
   "nav_menu": {},
   "number_sections": true,
   "sideBar": true,
   "skip_h1_title": true,
   "title_cell": "Table of Contents",
   "title_sidebar": "Contents",
   "toc_cell": false,
   "toc_position": {},
   "toc_section_display": true,
   "toc_window_display": true
  }
 },
 "nbformat": 4,
 "nbformat_minor": 4
}
